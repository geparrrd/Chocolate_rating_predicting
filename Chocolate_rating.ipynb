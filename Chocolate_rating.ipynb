{
  "nbformat": 4,
  "nbformat_minor": 0,
  "metadata": {
    "colab": {
      "provenance": [],
      "collapsed_sections": [
        "iHKl79CH-I26"
      ]
    },
    "kernelspec": {
      "name": "python3",
      "display_name": "Python 3"
    },
    "language_info": {
      "name": "python"
    }
  },
  "cells": [
    {
      "cell_type": "markdown",
      "source": [
        "# Решение задачи предсказания рейтинга шоколада"
      ],
      "metadata": {
        "id": "6HMi8qdjx79-"
      }
    },
    {
      "cell_type": "markdown",
      "source": [
        "Никнейм на Kaggle: `geparrrd`.\n",
        "\n",
        "Ссылка на соревнование: https://www.kaggle.com/competitions/practical-ml-chocolate/overview"
      ],
      "metadata": {
        "id": "IvphJtC5G2MK"
      }
    },
    {
      "cell_type": "markdown",
      "source": [
        "## Импорт библиотек, загрузка данных"
      ],
      "metadata": {
        "id": "PqJfFxWo3NAh"
      }
    },
    {
      "cell_type": "code",
      "source": [
        "import pandas as pd\n",
        "import numpy as np\n",
        "import seaborn as sns\n",
        "import matplotlib.pyplot as plt"
      ],
      "metadata": {
        "id": "XBVPSLy-3Gqt"
      },
      "execution_count": 1,
      "outputs": []
    },
    {
      "cell_type": "code",
      "source": [
        "TRAIN = \"https://raw.githubusercontent.com/evgpat/edu_stepik_practical_ml/main/datasets/chocolate_train.csv\"\n",
        "TEST = \"https://raw.githubusercontent.com/evgpat/edu_stepik_practical_ml/main/datasets/chocolate_test_new.csv\"\n",
        "RANDOM_STATE = 313"
      ],
      "metadata": {
        "id": "-_2mzgiX3USQ"
      },
      "execution_count": 2,
      "outputs": []
    },
    {
      "cell_type": "code",
      "source": [
        "train_df = pd.read_csv(TRAIN)"
      ],
      "metadata": {
        "id": "-RR6A-W_3D_C"
      },
      "execution_count": 4,
      "outputs": []
    },
    {
      "cell_type": "markdown",
      "source": [
        "## Обзор данных, подготовка к обучению"
      ],
      "metadata": {
        "id": "VuXd0Zvb4wrZ"
      }
    },
    {
      "cell_type": "code",
      "source": [
        "train_df.head()"
      ],
      "metadata": {
        "colab": {
          "base_uri": "https://localhost:8080/",
          "height": 206
        },
        "id": "MiVYgV1_5Qwn",
        "outputId": "ca54ad76-21c7-4bf4-de0f-aba58cc855b2"
      },
      "execution_count": null,
      "outputs": [
        {
          "output_type": "execute_result",
          "data": {
            "text/plain": [
              "                        Company                Specific Bean Origin   REF  \\\n",
              "0                Willie's Cacao                          Rio Caribe   457   \n",
              "1            Beschle (Felchlin)  Ocumare, Premier Cru, Quizas No. 2   508   \n",
              "2                   Dark Forest                            Tanzania  1554   \n",
              "3  Brasstown aka It's Chocolate                          Cooproagro  1125   \n",
              "4                        Pralus                     Java, Indonesie    32   \n",
              "\n",
              "   Review Cocoa Percent Company Location  Rating   Bean Type  \\\n",
              "0    2009           72%             U.K.    3.25  Trinitario   \n",
              "1    2010           72%      Switzerland    3.50               \n",
              "2    2015           70%           U.S.A.    3.00               \n",
              "3    2013           72%           U.S.A.    3.00  Trinitario   \n",
              "4    2006           75%           France    3.50     Criollo   \n",
              "\n",
              "    Broad Bean Origin  \n",
              "0           Venezuela  \n",
              "1           Venezuela  \n",
              "2            Tanzania  \n",
              "3  Dominican Republic  \n",
              "4           Indonesia  "
            ],
            "text/html": [
              "\n",
              "  <div id=\"df-d6798bfc-b60f-4ae2-869b-54f2d10c84de\" class=\"colab-df-container\">\n",
              "    <div>\n",
              "<style scoped>\n",
              "    .dataframe tbody tr th:only-of-type {\n",
              "        vertical-align: middle;\n",
              "    }\n",
              "\n",
              "    .dataframe tbody tr th {\n",
              "        vertical-align: top;\n",
              "    }\n",
              "\n",
              "    .dataframe thead th {\n",
              "        text-align: right;\n",
              "    }\n",
              "</style>\n",
              "<table border=\"1\" class=\"dataframe\">\n",
              "  <thead>\n",
              "    <tr style=\"text-align: right;\">\n",
              "      <th></th>\n",
              "      <th>Company</th>\n",
              "      <th>Specific Bean Origin</th>\n",
              "      <th>REF</th>\n",
              "      <th>Review</th>\n",
              "      <th>Cocoa Percent</th>\n",
              "      <th>Company Location</th>\n",
              "      <th>Rating</th>\n",
              "      <th>Bean Type</th>\n",
              "      <th>Broad Bean Origin</th>\n",
              "    </tr>\n",
              "  </thead>\n",
              "  <tbody>\n",
              "    <tr>\n",
              "      <th>0</th>\n",
              "      <td>Willie's Cacao</td>\n",
              "      <td>Rio Caribe</td>\n",
              "      <td>457</td>\n",
              "      <td>2009</td>\n",
              "      <td>72%</td>\n",
              "      <td>U.K.</td>\n",
              "      <td>3.25</td>\n",
              "      <td>Trinitario</td>\n",
              "      <td>Venezuela</td>\n",
              "    </tr>\n",
              "    <tr>\n",
              "      <th>1</th>\n",
              "      <td>Beschle (Felchlin)</td>\n",
              "      <td>Ocumare, Premier Cru, Quizas No. 2</td>\n",
              "      <td>508</td>\n",
              "      <td>2010</td>\n",
              "      <td>72%</td>\n",
              "      <td>Switzerland</td>\n",
              "      <td>3.50</td>\n",
              "      <td></td>\n",
              "      <td>Venezuela</td>\n",
              "    </tr>\n",
              "    <tr>\n",
              "      <th>2</th>\n",
              "      <td>Dark Forest</td>\n",
              "      <td>Tanzania</td>\n",
              "      <td>1554</td>\n",
              "      <td>2015</td>\n",
              "      <td>70%</td>\n",
              "      <td>U.S.A.</td>\n",
              "      <td>3.00</td>\n",
              "      <td></td>\n",
              "      <td>Tanzania</td>\n",
              "    </tr>\n",
              "    <tr>\n",
              "      <th>3</th>\n",
              "      <td>Brasstown aka It's Chocolate</td>\n",
              "      <td>Cooproagro</td>\n",
              "      <td>1125</td>\n",
              "      <td>2013</td>\n",
              "      <td>72%</td>\n",
              "      <td>U.S.A.</td>\n",
              "      <td>3.00</td>\n",
              "      <td>Trinitario</td>\n",
              "      <td>Dominican Republic</td>\n",
              "    </tr>\n",
              "    <tr>\n",
              "      <th>4</th>\n",
              "      <td>Pralus</td>\n",
              "      <td>Java, Indonesie</td>\n",
              "      <td>32</td>\n",
              "      <td>2006</td>\n",
              "      <td>75%</td>\n",
              "      <td>France</td>\n",
              "      <td>3.50</td>\n",
              "      <td>Criollo</td>\n",
              "      <td>Indonesia</td>\n",
              "    </tr>\n",
              "  </tbody>\n",
              "</table>\n",
              "</div>\n",
              "    <div class=\"colab-df-buttons\">\n",
              "\n",
              "  <div class=\"colab-df-container\">\n",
              "    <button class=\"colab-df-convert\" onclick=\"convertToInteractive('df-d6798bfc-b60f-4ae2-869b-54f2d10c84de')\"\n",
              "            title=\"Convert this dataframe to an interactive table.\"\n",
              "            style=\"display:none;\">\n",
              "\n",
              "  <svg xmlns=\"http://www.w3.org/2000/svg\" height=\"24px\" viewBox=\"0 -960 960 960\">\n",
              "    <path d=\"M120-120v-720h720v720H120Zm60-500h600v-160H180v160Zm220 220h160v-160H400v160Zm0 220h160v-160H400v160ZM180-400h160v-160H180v160Zm440 0h160v-160H620v160ZM180-180h160v-160H180v160Zm440 0h160v-160H620v160Z\"/>\n",
              "  </svg>\n",
              "    </button>\n",
              "\n",
              "  <style>\n",
              "    .colab-df-container {\n",
              "      display:flex;\n",
              "      gap: 12px;\n",
              "    }\n",
              "\n",
              "    .colab-df-convert {\n",
              "      background-color: #E8F0FE;\n",
              "      border: none;\n",
              "      border-radius: 50%;\n",
              "      cursor: pointer;\n",
              "      display: none;\n",
              "      fill: #1967D2;\n",
              "      height: 32px;\n",
              "      padding: 0 0 0 0;\n",
              "      width: 32px;\n",
              "    }\n",
              "\n",
              "    .colab-df-convert:hover {\n",
              "      background-color: #E2EBFA;\n",
              "      box-shadow: 0px 1px 2px rgba(60, 64, 67, 0.3), 0px 1px 3px 1px rgba(60, 64, 67, 0.15);\n",
              "      fill: #174EA6;\n",
              "    }\n",
              "\n",
              "    .colab-df-buttons div {\n",
              "      margin-bottom: 4px;\n",
              "    }\n",
              "\n",
              "    [theme=dark] .colab-df-convert {\n",
              "      background-color: #3B4455;\n",
              "      fill: #D2E3FC;\n",
              "    }\n",
              "\n",
              "    [theme=dark] .colab-df-convert:hover {\n",
              "      background-color: #434B5C;\n",
              "      box-shadow: 0px 1px 3px 1px rgba(0, 0, 0, 0.15);\n",
              "      filter: drop-shadow(0px 1px 2px rgba(0, 0, 0, 0.3));\n",
              "      fill: #FFFFFF;\n",
              "    }\n",
              "  </style>\n",
              "\n",
              "    <script>\n",
              "      const buttonEl =\n",
              "        document.querySelector('#df-d6798bfc-b60f-4ae2-869b-54f2d10c84de button.colab-df-convert');\n",
              "      buttonEl.style.display =\n",
              "        google.colab.kernel.accessAllowed ? 'block' : 'none';\n",
              "\n",
              "      async function convertToInteractive(key) {\n",
              "        const element = document.querySelector('#df-d6798bfc-b60f-4ae2-869b-54f2d10c84de');\n",
              "        const dataTable =\n",
              "          await google.colab.kernel.invokeFunction('convertToInteractive',\n",
              "                                                    [key], {});\n",
              "        if (!dataTable) return;\n",
              "\n",
              "        const docLinkHtml = 'Like what you see? Visit the ' +\n",
              "          '<a target=\"_blank\" href=https://colab.research.google.com/notebooks/data_table.ipynb>data table notebook</a>'\n",
              "          + ' to learn more about interactive tables.';\n",
              "        element.innerHTML = '';\n",
              "        dataTable['output_type'] = 'display_data';\n",
              "        await google.colab.output.renderOutput(dataTable, element);\n",
              "        const docLink = document.createElement('div');\n",
              "        docLink.innerHTML = docLinkHtml;\n",
              "        element.appendChild(docLink);\n",
              "      }\n",
              "    </script>\n",
              "  </div>\n",
              "\n",
              "\n",
              "<div id=\"df-7309d062-637b-4844-a1b0-4c63f690a31b\">\n",
              "  <button class=\"colab-df-quickchart\" onclick=\"quickchart('df-7309d062-637b-4844-a1b0-4c63f690a31b')\"\n",
              "            title=\"Suggest charts\"\n",
              "            style=\"display:none;\">\n",
              "\n",
              "<svg xmlns=\"http://www.w3.org/2000/svg\" height=\"24px\"viewBox=\"0 0 24 24\"\n",
              "     width=\"24px\">\n",
              "    <g>\n",
              "        <path d=\"M19 3H5c-1.1 0-2 .9-2 2v14c0 1.1.9 2 2 2h14c1.1 0 2-.9 2-2V5c0-1.1-.9-2-2-2zM9 17H7v-7h2v7zm4 0h-2V7h2v10zm4 0h-2v-4h2v4z\"/>\n",
              "    </g>\n",
              "</svg>\n",
              "  </button>\n",
              "\n",
              "<style>\n",
              "  .colab-df-quickchart {\n",
              "      --bg-color: #E8F0FE;\n",
              "      --fill-color: #1967D2;\n",
              "      --hover-bg-color: #E2EBFA;\n",
              "      --hover-fill-color: #174EA6;\n",
              "      --disabled-fill-color: #AAA;\n",
              "      --disabled-bg-color: #DDD;\n",
              "  }\n",
              "\n",
              "  [theme=dark] .colab-df-quickchart {\n",
              "      --bg-color: #3B4455;\n",
              "      --fill-color: #D2E3FC;\n",
              "      --hover-bg-color: #434B5C;\n",
              "      --hover-fill-color: #FFFFFF;\n",
              "      --disabled-bg-color: #3B4455;\n",
              "      --disabled-fill-color: #666;\n",
              "  }\n",
              "\n",
              "  .colab-df-quickchart {\n",
              "    background-color: var(--bg-color);\n",
              "    border: none;\n",
              "    border-radius: 50%;\n",
              "    cursor: pointer;\n",
              "    display: none;\n",
              "    fill: var(--fill-color);\n",
              "    height: 32px;\n",
              "    padding: 0;\n",
              "    width: 32px;\n",
              "  }\n",
              "\n",
              "  .colab-df-quickchart:hover {\n",
              "    background-color: var(--hover-bg-color);\n",
              "    box-shadow: 0 1px 2px rgba(60, 64, 67, 0.3), 0 1px 3px 1px rgba(60, 64, 67, 0.15);\n",
              "    fill: var(--button-hover-fill-color);\n",
              "  }\n",
              "\n",
              "  .colab-df-quickchart-complete:disabled,\n",
              "  .colab-df-quickchart-complete:disabled:hover {\n",
              "    background-color: var(--disabled-bg-color);\n",
              "    fill: var(--disabled-fill-color);\n",
              "    box-shadow: none;\n",
              "  }\n",
              "\n",
              "  .colab-df-spinner {\n",
              "    border: 2px solid var(--fill-color);\n",
              "    border-color: transparent;\n",
              "    border-bottom-color: var(--fill-color);\n",
              "    animation:\n",
              "      spin 1s steps(1) infinite;\n",
              "  }\n",
              "\n",
              "  @keyframes spin {\n",
              "    0% {\n",
              "      border-color: transparent;\n",
              "      border-bottom-color: var(--fill-color);\n",
              "      border-left-color: var(--fill-color);\n",
              "    }\n",
              "    20% {\n",
              "      border-color: transparent;\n",
              "      border-left-color: var(--fill-color);\n",
              "      border-top-color: var(--fill-color);\n",
              "    }\n",
              "    30% {\n",
              "      border-color: transparent;\n",
              "      border-left-color: var(--fill-color);\n",
              "      border-top-color: var(--fill-color);\n",
              "      border-right-color: var(--fill-color);\n",
              "    }\n",
              "    40% {\n",
              "      border-color: transparent;\n",
              "      border-right-color: var(--fill-color);\n",
              "      border-top-color: var(--fill-color);\n",
              "    }\n",
              "    60% {\n",
              "      border-color: transparent;\n",
              "      border-right-color: var(--fill-color);\n",
              "    }\n",
              "    80% {\n",
              "      border-color: transparent;\n",
              "      border-right-color: var(--fill-color);\n",
              "      border-bottom-color: var(--fill-color);\n",
              "    }\n",
              "    90% {\n",
              "      border-color: transparent;\n",
              "      border-bottom-color: var(--fill-color);\n",
              "    }\n",
              "  }\n",
              "</style>\n",
              "\n",
              "  <script>\n",
              "    async function quickchart(key) {\n",
              "      const quickchartButtonEl =\n",
              "        document.querySelector('#' + key + ' button');\n",
              "      quickchartButtonEl.disabled = true;  // To prevent multiple clicks.\n",
              "      quickchartButtonEl.classList.add('colab-df-spinner');\n",
              "      try {\n",
              "        const charts = await google.colab.kernel.invokeFunction(\n",
              "            'suggestCharts', [key], {});\n",
              "      } catch (error) {\n",
              "        console.error('Error during call to suggestCharts:', error);\n",
              "      }\n",
              "      quickchartButtonEl.classList.remove('colab-df-spinner');\n",
              "      quickchartButtonEl.classList.add('colab-df-quickchart-complete');\n",
              "    }\n",
              "    (() => {\n",
              "      let quickchartButtonEl =\n",
              "        document.querySelector('#df-7309d062-637b-4844-a1b0-4c63f690a31b button');\n",
              "      quickchartButtonEl.style.display =\n",
              "        google.colab.kernel.accessAllowed ? 'block' : 'none';\n",
              "    })();\n",
              "  </script>\n",
              "</div>\n",
              "    </div>\n",
              "  </div>\n"
            ],
            "application/vnd.google.colaboratory.intrinsic+json": {
              "type": "dataframe",
              "variable_name": "train_df",
              "summary": "{\n  \"name\": \"train_df\",\n  \"rows\": 1255,\n  \"fields\": [\n    {\n      \"column\": \"Company\",\n      \"properties\": {\n        \"dtype\": \"category\",\n        \"num_unique_values\": 376,\n        \"samples\": [\n          \"Malmo\",\n          \"Whittakers\",\n          \"El Rey\"\n        ],\n        \"semantic_type\": \"\",\n        \"description\": \"\"\n      }\n    },\n    {\n      \"column\": \"Specific Bean Origin\",\n      \"properties\": {\n        \"dtype\": \"string\",\n        \"num_unique_values\": 762,\n        \"samples\": [\n          \"Venezuela; Barinos, Merida, Tachron\",\n          \"Akesson's, batch 4411\",\n          \"Ambanja, Sambirano Valley\"\n        ],\n        \"semantic_type\": \"\",\n        \"description\": \"\"\n      }\n    },\n    {\n      \"column\": \"REF\",\n      \"properties\": {\n        \"dtype\": \"number\",\n        \"std\": 551,\n        \"min\": 5,\n        \"max\": 1952,\n        \"num_unique_values\": 433,\n        \"samples\": [\n          1383,\n          1478,\n          56\n        ],\n        \"semantic_type\": \"\",\n        \"description\": \"\"\n      }\n    },\n    {\n      \"column\": \"Review\",\n      \"properties\": {\n        \"dtype\": \"number\",\n        \"std\": 2,\n        \"min\": 2006,\n        \"max\": 2017,\n        \"num_unique_values\": 12,\n        \"samples\": [\n          2007,\n          2012,\n          2009\n        ],\n        \"semantic_type\": \"\",\n        \"description\": \"\"\n      }\n    },\n    {\n      \"column\": \"Cocoa Percent\",\n      \"properties\": {\n        \"dtype\": \"category\",\n        \"num_unique_values\": 40,\n        \"samples\": [\n          \"91%\",\n          \"81%\",\n          \"76%\"\n        ],\n        \"semantic_type\": \"\",\n        \"description\": \"\"\n      }\n    },\n    {\n      \"column\": \"Company Location\",\n      \"properties\": {\n        \"dtype\": \"category\",\n        \"num_unique_values\": 58,\n        \"samples\": [\n          \"U.K.\",\n          \"Colombia\",\n          \"Scotland\"\n        ],\n        \"semantic_type\": \"\",\n        \"description\": \"\"\n      }\n    },\n    {\n      \"column\": \"Rating\",\n      \"properties\": {\n        \"dtype\": \"number\",\n        \"std\": 0.4789480212939801,\n        \"min\": 1.0,\n        \"max\": 5.0,\n        \"num_unique_values\": 13,\n        \"samples\": [\n          1.75,\n          2.0,\n          3.25\n        ],\n        \"semantic_type\": \"\",\n        \"description\": \"\"\n      }\n    },\n    {\n      \"column\": \"Bean Type\",\n      \"properties\": {\n        \"dtype\": \"category\",\n        \"num_unique_values\": 38,\n        \"samples\": [\n          \"Blend-Forastero,Criollo\",\n          \"Trinitario, Nacional\",\n          \"Forastero (Arriba)\"\n        ],\n        \"semantic_type\": \"\",\n        \"description\": \"\"\n      }\n    },\n    {\n      \"column\": \"Broad Bean Origin\",\n      \"properties\": {\n        \"dtype\": \"category\",\n        \"num_unique_values\": 84,\n        \"samples\": [\n          \"Indonesia, Ghana\",\n          \"Venezuela\",\n          \"Gabon\"\n        ],\n        \"semantic_type\": \"\",\n        \"description\": \"\"\n      }\n    }\n  ]\n}"
            }
          },
          "metadata": {},
          "execution_count": 4
        }
      ]
    },
    {
      "cell_type": "markdown",
      "source": [
        "Очевидно, что процентное содержание какао необходимо преобразовать в численный тип данных"
      ],
      "metadata": {
        "id": "dEh59tVpqqWH"
      }
    },
    {
      "cell_type": "code",
      "source": [
        "train_df['Cocoa Percent'] = train_df['Cocoa Percent'].map(lambda x: float(x[:-1]))"
      ],
      "metadata": {
        "id": "P0fJH3g9qypI"
      },
      "execution_count": null,
      "outputs": []
    },
    {
      "cell_type": "markdown",
      "source": [
        "Получаем первичную информацию о данных"
      ],
      "metadata": {
        "id": "vmO4anS2yAr9"
      }
    },
    {
      "cell_type": "code",
      "source": [
        "train_df.info()"
      ],
      "metadata": {
        "id": "YhykpDEprgj3",
        "colab": {
          "base_uri": "https://localhost:8080/"
        },
        "outputId": "5df5105f-9482-4736-97d4-5e5189c15cf6"
      },
      "execution_count": null,
      "outputs": [
        {
          "output_type": "stream",
          "name": "stdout",
          "text": [
            "<class 'pandas.core.frame.DataFrame'>\n",
            "RangeIndex: 1255 entries, 0 to 1254\n",
            "Data columns (total 9 columns):\n",
            " #   Column                Non-Null Count  Dtype  \n",
            "---  ------                --------------  -----  \n",
            " 0   Company               1255 non-null   object \n",
            " 1   Specific Bean Origin  1255 non-null   object \n",
            " 2   REF                   1255 non-null   int64  \n",
            " 3   Review                1255 non-null   int64  \n",
            " 4   Cocoa Percent         1255 non-null   float64\n",
            " 5   Company Location      1255 non-null   object \n",
            " 6   Rating                1255 non-null   float64\n",
            " 7   Bean Type             1254 non-null   object \n",
            " 8   Broad Bean Origin     1254 non-null   object \n",
            "dtypes: float64(2), int64(2), object(5)\n",
            "memory usage: 88.4+ KB\n"
          ]
        }
      ]
    },
    {
      "cell_type": "markdown",
      "source": [
        "Всего по одному пропуску в двух фичах, поэтому можем смело удалить соответствующие строки"
      ],
      "metadata": {
        "id": "_fsiN2kYly0d"
      }
    },
    {
      "cell_type": "code",
      "source": [
        "train_df.dropna(subset=['Bean Type', 'Broad Bean Origin'], inplace=True)"
      ],
      "metadata": {
        "id": "CXUxg4RYl54e"
      },
      "execution_count": null,
      "outputs": []
    },
    {
      "cell_type": "markdown",
      "source": [
        "Смотрим статистику признаков и целевой переменной"
      ],
      "metadata": {
        "id": "-gnM-7Iqo0uE"
      }
    },
    {
      "cell_type": "code",
      "source": [
        "train_df.describe()"
      ],
      "metadata": {
        "colab": {
          "base_uri": "https://localhost:8080/",
          "height": 300
        },
        "id": "KJQNfzL8o7KL",
        "outputId": "64d736c6-cd1a-4692-fcb1-dab89458717f"
      },
      "execution_count": null,
      "outputs": [
        {
          "output_type": "execute_result",
          "data": {
            "text/plain": [
              "               REF       Review  Cocoa Percent       Rating\n",
              "count  1253.000000  1253.000000    1253.000000  1253.000000\n",
              "mean   1045.483639  2012.383879      71.791700     3.176377\n",
              "std     551.624106     2.924551       6.402353     0.478383\n",
              "min       5.000000  2006.000000      46.000000     1.000000\n",
              "25%     593.000000  2010.000000      70.000000     2.750000\n",
              "50%    1081.000000  2013.000000      70.000000     3.250000\n",
              "75%    1514.000000  2015.000000      75.000000     3.500000\n",
              "max    1952.000000  2017.000000     100.000000     5.000000"
            ],
            "text/html": [
              "\n",
              "  <div id=\"df-76ff9a1f-a6c8-4c3f-a30e-46c0668d0cbf\" class=\"colab-df-container\">\n",
              "    <div>\n",
              "<style scoped>\n",
              "    .dataframe tbody tr th:only-of-type {\n",
              "        vertical-align: middle;\n",
              "    }\n",
              "\n",
              "    .dataframe tbody tr th {\n",
              "        vertical-align: top;\n",
              "    }\n",
              "\n",
              "    .dataframe thead th {\n",
              "        text-align: right;\n",
              "    }\n",
              "</style>\n",
              "<table border=\"1\" class=\"dataframe\">\n",
              "  <thead>\n",
              "    <tr style=\"text-align: right;\">\n",
              "      <th></th>\n",
              "      <th>REF</th>\n",
              "      <th>Review</th>\n",
              "      <th>Cocoa Percent</th>\n",
              "      <th>Rating</th>\n",
              "    </tr>\n",
              "  </thead>\n",
              "  <tbody>\n",
              "    <tr>\n",
              "      <th>count</th>\n",
              "      <td>1253.000000</td>\n",
              "      <td>1253.000000</td>\n",
              "      <td>1253.000000</td>\n",
              "      <td>1253.000000</td>\n",
              "    </tr>\n",
              "    <tr>\n",
              "      <th>mean</th>\n",
              "      <td>1045.483639</td>\n",
              "      <td>2012.383879</td>\n",
              "      <td>71.791700</td>\n",
              "      <td>3.176377</td>\n",
              "    </tr>\n",
              "    <tr>\n",
              "      <th>std</th>\n",
              "      <td>551.624106</td>\n",
              "      <td>2.924551</td>\n",
              "      <td>6.402353</td>\n",
              "      <td>0.478383</td>\n",
              "    </tr>\n",
              "    <tr>\n",
              "      <th>min</th>\n",
              "      <td>5.000000</td>\n",
              "      <td>2006.000000</td>\n",
              "      <td>46.000000</td>\n",
              "      <td>1.000000</td>\n",
              "    </tr>\n",
              "    <tr>\n",
              "      <th>25%</th>\n",
              "      <td>593.000000</td>\n",
              "      <td>2010.000000</td>\n",
              "      <td>70.000000</td>\n",
              "      <td>2.750000</td>\n",
              "    </tr>\n",
              "    <tr>\n",
              "      <th>50%</th>\n",
              "      <td>1081.000000</td>\n",
              "      <td>2013.000000</td>\n",
              "      <td>70.000000</td>\n",
              "      <td>3.250000</td>\n",
              "    </tr>\n",
              "    <tr>\n",
              "      <th>75%</th>\n",
              "      <td>1514.000000</td>\n",
              "      <td>2015.000000</td>\n",
              "      <td>75.000000</td>\n",
              "      <td>3.500000</td>\n",
              "    </tr>\n",
              "    <tr>\n",
              "      <th>max</th>\n",
              "      <td>1952.000000</td>\n",
              "      <td>2017.000000</td>\n",
              "      <td>100.000000</td>\n",
              "      <td>5.000000</td>\n",
              "    </tr>\n",
              "  </tbody>\n",
              "</table>\n",
              "</div>\n",
              "    <div class=\"colab-df-buttons\">\n",
              "\n",
              "  <div class=\"colab-df-container\">\n",
              "    <button class=\"colab-df-convert\" onclick=\"convertToInteractive('df-76ff9a1f-a6c8-4c3f-a30e-46c0668d0cbf')\"\n",
              "            title=\"Convert this dataframe to an interactive table.\"\n",
              "            style=\"display:none;\">\n",
              "\n",
              "  <svg xmlns=\"http://www.w3.org/2000/svg\" height=\"24px\" viewBox=\"0 -960 960 960\">\n",
              "    <path d=\"M120-120v-720h720v720H120Zm60-500h600v-160H180v160Zm220 220h160v-160H400v160Zm0 220h160v-160H400v160ZM180-400h160v-160H180v160Zm440 0h160v-160H620v160ZM180-180h160v-160H180v160Zm440 0h160v-160H620v160Z\"/>\n",
              "  </svg>\n",
              "    </button>\n",
              "\n",
              "  <style>\n",
              "    .colab-df-container {\n",
              "      display:flex;\n",
              "      gap: 12px;\n",
              "    }\n",
              "\n",
              "    .colab-df-convert {\n",
              "      background-color: #E8F0FE;\n",
              "      border: none;\n",
              "      border-radius: 50%;\n",
              "      cursor: pointer;\n",
              "      display: none;\n",
              "      fill: #1967D2;\n",
              "      height: 32px;\n",
              "      padding: 0 0 0 0;\n",
              "      width: 32px;\n",
              "    }\n",
              "\n",
              "    .colab-df-convert:hover {\n",
              "      background-color: #E2EBFA;\n",
              "      box-shadow: 0px 1px 2px rgba(60, 64, 67, 0.3), 0px 1px 3px 1px rgba(60, 64, 67, 0.15);\n",
              "      fill: #174EA6;\n",
              "    }\n",
              "\n",
              "    .colab-df-buttons div {\n",
              "      margin-bottom: 4px;\n",
              "    }\n",
              "\n",
              "    [theme=dark] .colab-df-convert {\n",
              "      background-color: #3B4455;\n",
              "      fill: #D2E3FC;\n",
              "    }\n",
              "\n",
              "    [theme=dark] .colab-df-convert:hover {\n",
              "      background-color: #434B5C;\n",
              "      box-shadow: 0px 1px 3px 1px rgba(0, 0, 0, 0.15);\n",
              "      filter: drop-shadow(0px 1px 2px rgba(0, 0, 0, 0.3));\n",
              "      fill: #FFFFFF;\n",
              "    }\n",
              "  </style>\n",
              "\n",
              "    <script>\n",
              "      const buttonEl =\n",
              "        document.querySelector('#df-76ff9a1f-a6c8-4c3f-a30e-46c0668d0cbf button.colab-df-convert');\n",
              "      buttonEl.style.display =\n",
              "        google.colab.kernel.accessAllowed ? 'block' : 'none';\n",
              "\n",
              "      async function convertToInteractive(key) {\n",
              "        const element = document.querySelector('#df-76ff9a1f-a6c8-4c3f-a30e-46c0668d0cbf');\n",
              "        const dataTable =\n",
              "          await google.colab.kernel.invokeFunction('convertToInteractive',\n",
              "                                                    [key], {});\n",
              "        if (!dataTable) return;\n",
              "\n",
              "        const docLinkHtml = 'Like what you see? Visit the ' +\n",
              "          '<a target=\"_blank\" href=https://colab.research.google.com/notebooks/data_table.ipynb>data table notebook</a>'\n",
              "          + ' to learn more about interactive tables.';\n",
              "        element.innerHTML = '';\n",
              "        dataTable['output_type'] = 'display_data';\n",
              "        await google.colab.output.renderOutput(dataTable, element);\n",
              "        const docLink = document.createElement('div');\n",
              "        docLink.innerHTML = docLinkHtml;\n",
              "        element.appendChild(docLink);\n",
              "      }\n",
              "    </script>\n",
              "  </div>\n",
              "\n",
              "\n",
              "<div id=\"df-8297e7da-5954-4e29-8a05-3bc029cd31bc\">\n",
              "  <button class=\"colab-df-quickchart\" onclick=\"quickchart('df-8297e7da-5954-4e29-8a05-3bc029cd31bc')\"\n",
              "            title=\"Suggest charts\"\n",
              "            style=\"display:none;\">\n",
              "\n",
              "<svg xmlns=\"http://www.w3.org/2000/svg\" height=\"24px\"viewBox=\"0 0 24 24\"\n",
              "     width=\"24px\">\n",
              "    <g>\n",
              "        <path d=\"M19 3H5c-1.1 0-2 .9-2 2v14c0 1.1.9 2 2 2h14c1.1 0 2-.9 2-2V5c0-1.1-.9-2-2-2zM9 17H7v-7h2v7zm4 0h-2V7h2v10zm4 0h-2v-4h2v4z\"/>\n",
              "    </g>\n",
              "</svg>\n",
              "  </button>\n",
              "\n",
              "<style>\n",
              "  .colab-df-quickchart {\n",
              "      --bg-color: #E8F0FE;\n",
              "      --fill-color: #1967D2;\n",
              "      --hover-bg-color: #E2EBFA;\n",
              "      --hover-fill-color: #174EA6;\n",
              "      --disabled-fill-color: #AAA;\n",
              "      --disabled-bg-color: #DDD;\n",
              "  }\n",
              "\n",
              "  [theme=dark] .colab-df-quickchart {\n",
              "      --bg-color: #3B4455;\n",
              "      --fill-color: #D2E3FC;\n",
              "      --hover-bg-color: #434B5C;\n",
              "      --hover-fill-color: #FFFFFF;\n",
              "      --disabled-bg-color: #3B4455;\n",
              "      --disabled-fill-color: #666;\n",
              "  }\n",
              "\n",
              "  .colab-df-quickchart {\n",
              "    background-color: var(--bg-color);\n",
              "    border: none;\n",
              "    border-radius: 50%;\n",
              "    cursor: pointer;\n",
              "    display: none;\n",
              "    fill: var(--fill-color);\n",
              "    height: 32px;\n",
              "    padding: 0;\n",
              "    width: 32px;\n",
              "  }\n",
              "\n",
              "  .colab-df-quickchart:hover {\n",
              "    background-color: var(--hover-bg-color);\n",
              "    box-shadow: 0 1px 2px rgba(60, 64, 67, 0.3), 0 1px 3px 1px rgba(60, 64, 67, 0.15);\n",
              "    fill: var(--button-hover-fill-color);\n",
              "  }\n",
              "\n",
              "  .colab-df-quickchart-complete:disabled,\n",
              "  .colab-df-quickchart-complete:disabled:hover {\n",
              "    background-color: var(--disabled-bg-color);\n",
              "    fill: var(--disabled-fill-color);\n",
              "    box-shadow: none;\n",
              "  }\n",
              "\n",
              "  .colab-df-spinner {\n",
              "    border: 2px solid var(--fill-color);\n",
              "    border-color: transparent;\n",
              "    border-bottom-color: var(--fill-color);\n",
              "    animation:\n",
              "      spin 1s steps(1) infinite;\n",
              "  }\n",
              "\n",
              "  @keyframes spin {\n",
              "    0% {\n",
              "      border-color: transparent;\n",
              "      border-bottom-color: var(--fill-color);\n",
              "      border-left-color: var(--fill-color);\n",
              "    }\n",
              "    20% {\n",
              "      border-color: transparent;\n",
              "      border-left-color: var(--fill-color);\n",
              "      border-top-color: var(--fill-color);\n",
              "    }\n",
              "    30% {\n",
              "      border-color: transparent;\n",
              "      border-left-color: var(--fill-color);\n",
              "      border-top-color: var(--fill-color);\n",
              "      border-right-color: var(--fill-color);\n",
              "    }\n",
              "    40% {\n",
              "      border-color: transparent;\n",
              "      border-right-color: var(--fill-color);\n",
              "      border-top-color: var(--fill-color);\n",
              "    }\n",
              "    60% {\n",
              "      border-color: transparent;\n",
              "      border-right-color: var(--fill-color);\n",
              "    }\n",
              "    80% {\n",
              "      border-color: transparent;\n",
              "      border-right-color: var(--fill-color);\n",
              "      border-bottom-color: var(--fill-color);\n",
              "    }\n",
              "    90% {\n",
              "      border-color: transparent;\n",
              "      border-bottom-color: var(--fill-color);\n",
              "    }\n",
              "  }\n",
              "</style>\n",
              "\n",
              "  <script>\n",
              "    async function quickchart(key) {\n",
              "      const quickchartButtonEl =\n",
              "        document.querySelector('#' + key + ' button');\n",
              "      quickchartButtonEl.disabled = true;  // To prevent multiple clicks.\n",
              "      quickchartButtonEl.classList.add('colab-df-spinner');\n",
              "      try {\n",
              "        const charts = await google.colab.kernel.invokeFunction(\n",
              "            'suggestCharts', [key], {});\n",
              "      } catch (error) {\n",
              "        console.error('Error during call to suggestCharts:', error);\n",
              "      }\n",
              "      quickchartButtonEl.classList.remove('colab-df-spinner');\n",
              "      quickchartButtonEl.classList.add('colab-df-quickchart-complete');\n",
              "    }\n",
              "    (() => {\n",
              "      let quickchartButtonEl =\n",
              "        document.querySelector('#df-8297e7da-5954-4e29-8a05-3bc029cd31bc button');\n",
              "      quickchartButtonEl.style.display =\n",
              "        google.colab.kernel.accessAllowed ? 'block' : 'none';\n",
              "    })();\n",
              "  </script>\n",
              "</div>\n",
              "    </div>\n",
              "  </div>\n"
            ],
            "application/vnd.google.colaboratory.intrinsic+json": {
              "type": "dataframe",
              "summary": "{\n  \"name\": \"train_df\",\n  \"rows\": 8,\n  \"fields\": [\n    {\n      \"column\": \"REF\",\n      \"properties\": {\n        \"dtype\": \"number\",\n        \"std\": 609.4319031667919,\n        \"min\": 5.0,\n        \"max\": 1952.0,\n        \"num_unique_values\": 8,\n        \"samples\": [\n          1045.4836392657621,\n          1081.0,\n          1253.0\n        ],\n        \"semantic_type\": \"\",\n        \"description\": \"\"\n      }\n    },\n    {\n      \"column\": \"Review\",\n      \"properties\": {\n        \"dtype\": \"number\",\n        \"std\": 722.665455737213,\n        \"min\": 2.924551022252481,\n        \"max\": 2017.0,\n        \"num_unique_values\": 8,\n        \"samples\": [\n          2012.3838786911413,\n          2013.0,\n          1253.0\n        ],\n        \"semantic_type\": \"\",\n        \"description\": \"\"\n      }\n    },\n    {\n      \"column\": \"Cocoa Percent\",\n      \"properties\": {\n        \"dtype\": \"number\",\n        \"std\": 421.6980892343267,\n        \"min\": 6.402352907091336,\n        \"max\": 1253.0,\n        \"num_unique_values\": 7,\n        \"samples\": [\n          1253.0,\n          71.79169992019155,\n          75.0\n        ],\n        \"semantic_type\": \"\",\n        \"description\": \"\"\n      }\n    },\n    {\n      \"column\": \"Rating\",\n      \"properties\": {\n        \"dtype\": \"number\",\n        \"std\": 442.03724416357653,\n        \"min\": 0.478383151309164,\n        \"max\": 1253.0,\n        \"num_unique_values\": 8,\n        \"samples\": [\n          3.1763766959297683,\n          3.25,\n          1253.0\n        ],\n        \"semantic_type\": \"\",\n        \"description\": \"\"\n      }\n    }\n  ]\n}"
            }
          },
          "metadata": {},
          "execution_count": 8
        }
      ]
    },
    {
      "cell_type": "code",
      "source": [
        "train_df.describe(include='object')"
      ],
      "metadata": {
        "colab": {
          "base_uri": "https://localhost:8080/",
          "height": 175
        },
        "id": "90oHp4obo_iJ",
        "outputId": "37cf5499-db75-4e8a-a05e-a22d0f45f80c"
      },
      "execution_count": null,
      "outputs": [
        {
          "output_type": "execute_result",
          "data": {
            "text/plain": [
              "       Company Specific Bean Origin Company Location Bean Type  \\\n",
              "count     1253                 1253             1253      1253   \n",
              "unique     376                  761               58        38   \n",
              "top       Soma           Madagascar           U.S.A.             \n",
              "freq        34                   38              520       628   \n",
              "\n",
              "       Broad Bean Origin  \n",
              "count               1253  \n",
              "unique                83  \n",
              "top            Venezuela  \n",
              "freq                 144  "
            ],
            "text/html": [
              "\n",
              "  <div id=\"df-a301b702-a36e-42f9-8495-945c572cbc60\" class=\"colab-df-container\">\n",
              "    <div>\n",
              "<style scoped>\n",
              "    .dataframe tbody tr th:only-of-type {\n",
              "        vertical-align: middle;\n",
              "    }\n",
              "\n",
              "    .dataframe tbody tr th {\n",
              "        vertical-align: top;\n",
              "    }\n",
              "\n",
              "    .dataframe thead th {\n",
              "        text-align: right;\n",
              "    }\n",
              "</style>\n",
              "<table border=\"1\" class=\"dataframe\">\n",
              "  <thead>\n",
              "    <tr style=\"text-align: right;\">\n",
              "      <th></th>\n",
              "      <th>Company</th>\n",
              "      <th>Specific Bean Origin</th>\n",
              "      <th>Company Location</th>\n",
              "      <th>Bean Type</th>\n",
              "      <th>Broad Bean Origin</th>\n",
              "    </tr>\n",
              "  </thead>\n",
              "  <tbody>\n",
              "    <tr>\n",
              "      <th>count</th>\n",
              "      <td>1253</td>\n",
              "      <td>1253</td>\n",
              "      <td>1253</td>\n",
              "      <td>1253</td>\n",
              "      <td>1253</td>\n",
              "    </tr>\n",
              "    <tr>\n",
              "      <th>unique</th>\n",
              "      <td>376</td>\n",
              "      <td>761</td>\n",
              "      <td>58</td>\n",
              "      <td>38</td>\n",
              "      <td>83</td>\n",
              "    </tr>\n",
              "    <tr>\n",
              "      <th>top</th>\n",
              "      <td>Soma</td>\n",
              "      <td>Madagascar</td>\n",
              "      <td>U.S.A.</td>\n",
              "      <td></td>\n",
              "      <td>Venezuela</td>\n",
              "    </tr>\n",
              "    <tr>\n",
              "      <th>freq</th>\n",
              "      <td>34</td>\n",
              "      <td>38</td>\n",
              "      <td>520</td>\n",
              "      <td>628</td>\n",
              "      <td>144</td>\n",
              "    </tr>\n",
              "  </tbody>\n",
              "</table>\n",
              "</div>\n",
              "    <div class=\"colab-df-buttons\">\n",
              "\n",
              "  <div class=\"colab-df-container\">\n",
              "    <button class=\"colab-df-convert\" onclick=\"convertToInteractive('df-a301b702-a36e-42f9-8495-945c572cbc60')\"\n",
              "            title=\"Convert this dataframe to an interactive table.\"\n",
              "            style=\"display:none;\">\n",
              "\n",
              "  <svg xmlns=\"http://www.w3.org/2000/svg\" height=\"24px\" viewBox=\"0 -960 960 960\">\n",
              "    <path d=\"M120-120v-720h720v720H120Zm60-500h600v-160H180v160Zm220 220h160v-160H400v160Zm0 220h160v-160H400v160ZM180-400h160v-160H180v160Zm440 0h160v-160H620v160ZM180-180h160v-160H180v160Zm440 0h160v-160H620v160Z\"/>\n",
              "  </svg>\n",
              "    </button>\n",
              "\n",
              "  <style>\n",
              "    .colab-df-container {\n",
              "      display:flex;\n",
              "      gap: 12px;\n",
              "    }\n",
              "\n",
              "    .colab-df-convert {\n",
              "      background-color: #E8F0FE;\n",
              "      border: none;\n",
              "      border-radius: 50%;\n",
              "      cursor: pointer;\n",
              "      display: none;\n",
              "      fill: #1967D2;\n",
              "      height: 32px;\n",
              "      padding: 0 0 0 0;\n",
              "      width: 32px;\n",
              "    }\n",
              "\n",
              "    .colab-df-convert:hover {\n",
              "      background-color: #E2EBFA;\n",
              "      box-shadow: 0px 1px 2px rgba(60, 64, 67, 0.3), 0px 1px 3px 1px rgba(60, 64, 67, 0.15);\n",
              "      fill: #174EA6;\n",
              "    }\n",
              "\n",
              "    .colab-df-buttons div {\n",
              "      margin-bottom: 4px;\n",
              "    }\n",
              "\n",
              "    [theme=dark] .colab-df-convert {\n",
              "      background-color: #3B4455;\n",
              "      fill: #D2E3FC;\n",
              "    }\n",
              "\n",
              "    [theme=dark] .colab-df-convert:hover {\n",
              "      background-color: #434B5C;\n",
              "      box-shadow: 0px 1px 3px 1px rgba(0, 0, 0, 0.15);\n",
              "      filter: drop-shadow(0px 1px 2px rgba(0, 0, 0, 0.3));\n",
              "      fill: #FFFFFF;\n",
              "    }\n",
              "  </style>\n",
              "\n",
              "    <script>\n",
              "      const buttonEl =\n",
              "        document.querySelector('#df-a301b702-a36e-42f9-8495-945c572cbc60 button.colab-df-convert');\n",
              "      buttonEl.style.display =\n",
              "        google.colab.kernel.accessAllowed ? 'block' : 'none';\n",
              "\n",
              "      async function convertToInteractive(key) {\n",
              "        const element = document.querySelector('#df-a301b702-a36e-42f9-8495-945c572cbc60');\n",
              "        const dataTable =\n",
              "          await google.colab.kernel.invokeFunction('convertToInteractive',\n",
              "                                                    [key], {});\n",
              "        if (!dataTable) return;\n",
              "\n",
              "        const docLinkHtml = 'Like what you see? Visit the ' +\n",
              "          '<a target=\"_blank\" href=https://colab.research.google.com/notebooks/data_table.ipynb>data table notebook</a>'\n",
              "          + ' to learn more about interactive tables.';\n",
              "        element.innerHTML = '';\n",
              "        dataTable['output_type'] = 'display_data';\n",
              "        await google.colab.output.renderOutput(dataTable, element);\n",
              "        const docLink = document.createElement('div');\n",
              "        docLink.innerHTML = docLinkHtml;\n",
              "        element.appendChild(docLink);\n",
              "      }\n",
              "    </script>\n",
              "  </div>\n",
              "\n",
              "\n",
              "<div id=\"df-5c54ead5-66c9-4c91-b35d-c1b49ba3ca33\">\n",
              "  <button class=\"colab-df-quickchart\" onclick=\"quickchart('df-5c54ead5-66c9-4c91-b35d-c1b49ba3ca33')\"\n",
              "            title=\"Suggest charts\"\n",
              "            style=\"display:none;\">\n",
              "\n",
              "<svg xmlns=\"http://www.w3.org/2000/svg\" height=\"24px\"viewBox=\"0 0 24 24\"\n",
              "     width=\"24px\">\n",
              "    <g>\n",
              "        <path d=\"M19 3H5c-1.1 0-2 .9-2 2v14c0 1.1.9 2 2 2h14c1.1 0 2-.9 2-2V5c0-1.1-.9-2-2-2zM9 17H7v-7h2v7zm4 0h-2V7h2v10zm4 0h-2v-4h2v4z\"/>\n",
              "    </g>\n",
              "</svg>\n",
              "  </button>\n",
              "\n",
              "<style>\n",
              "  .colab-df-quickchart {\n",
              "      --bg-color: #E8F0FE;\n",
              "      --fill-color: #1967D2;\n",
              "      --hover-bg-color: #E2EBFA;\n",
              "      --hover-fill-color: #174EA6;\n",
              "      --disabled-fill-color: #AAA;\n",
              "      --disabled-bg-color: #DDD;\n",
              "  }\n",
              "\n",
              "  [theme=dark] .colab-df-quickchart {\n",
              "      --bg-color: #3B4455;\n",
              "      --fill-color: #D2E3FC;\n",
              "      --hover-bg-color: #434B5C;\n",
              "      --hover-fill-color: #FFFFFF;\n",
              "      --disabled-bg-color: #3B4455;\n",
              "      --disabled-fill-color: #666;\n",
              "  }\n",
              "\n",
              "  .colab-df-quickchart {\n",
              "    background-color: var(--bg-color);\n",
              "    border: none;\n",
              "    border-radius: 50%;\n",
              "    cursor: pointer;\n",
              "    display: none;\n",
              "    fill: var(--fill-color);\n",
              "    height: 32px;\n",
              "    padding: 0;\n",
              "    width: 32px;\n",
              "  }\n",
              "\n",
              "  .colab-df-quickchart:hover {\n",
              "    background-color: var(--hover-bg-color);\n",
              "    box-shadow: 0 1px 2px rgba(60, 64, 67, 0.3), 0 1px 3px 1px rgba(60, 64, 67, 0.15);\n",
              "    fill: var(--button-hover-fill-color);\n",
              "  }\n",
              "\n",
              "  .colab-df-quickchart-complete:disabled,\n",
              "  .colab-df-quickchart-complete:disabled:hover {\n",
              "    background-color: var(--disabled-bg-color);\n",
              "    fill: var(--disabled-fill-color);\n",
              "    box-shadow: none;\n",
              "  }\n",
              "\n",
              "  .colab-df-spinner {\n",
              "    border: 2px solid var(--fill-color);\n",
              "    border-color: transparent;\n",
              "    border-bottom-color: var(--fill-color);\n",
              "    animation:\n",
              "      spin 1s steps(1) infinite;\n",
              "  }\n",
              "\n",
              "  @keyframes spin {\n",
              "    0% {\n",
              "      border-color: transparent;\n",
              "      border-bottom-color: var(--fill-color);\n",
              "      border-left-color: var(--fill-color);\n",
              "    }\n",
              "    20% {\n",
              "      border-color: transparent;\n",
              "      border-left-color: var(--fill-color);\n",
              "      border-top-color: var(--fill-color);\n",
              "    }\n",
              "    30% {\n",
              "      border-color: transparent;\n",
              "      border-left-color: var(--fill-color);\n",
              "      border-top-color: var(--fill-color);\n",
              "      border-right-color: var(--fill-color);\n",
              "    }\n",
              "    40% {\n",
              "      border-color: transparent;\n",
              "      border-right-color: var(--fill-color);\n",
              "      border-top-color: var(--fill-color);\n",
              "    }\n",
              "    60% {\n",
              "      border-color: transparent;\n",
              "      border-right-color: var(--fill-color);\n",
              "    }\n",
              "    80% {\n",
              "      border-color: transparent;\n",
              "      border-right-color: var(--fill-color);\n",
              "      border-bottom-color: var(--fill-color);\n",
              "    }\n",
              "    90% {\n",
              "      border-color: transparent;\n",
              "      border-bottom-color: var(--fill-color);\n",
              "    }\n",
              "  }\n",
              "</style>\n",
              "\n",
              "  <script>\n",
              "    async function quickchart(key) {\n",
              "      const quickchartButtonEl =\n",
              "        document.querySelector('#' + key + ' button');\n",
              "      quickchartButtonEl.disabled = true;  // To prevent multiple clicks.\n",
              "      quickchartButtonEl.classList.add('colab-df-spinner');\n",
              "      try {\n",
              "        const charts = await google.colab.kernel.invokeFunction(\n",
              "            'suggestCharts', [key], {});\n",
              "      } catch (error) {\n",
              "        console.error('Error during call to suggestCharts:', error);\n",
              "      }\n",
              "      quickchartButtonEl.classList.remove('colab-df-spinner');\n",
              "      quickchartButtonEl.classList.add('colab-df-quickchart-complete');\n",
              "    }\n",
              "    (() => {\n",
              "      let quickchartButtonEl =\n",
              "        document.querySelector('#df-5c54ead5-66c9-4c91-b35d-c1b49ba3ca33 button');\n",
              "      quickchartButtonEl.style.display =\n",
              "        google.colab.kernel.accessAllowed ? 'block' : 'none';\n",
              "    })();\n",
              "  </script>\n",
              "</div>\n",
              "    </div>\n",
              "  </div>\n"
            ],
            "application/vnd.google.colaboratory.intrinsic+json": {
              "type": "dataframe",
              "summary": "{\n  \"name\": \"train_df\",\n  \"rows\": 4,\n  \"fields\": [\n    {\n      \"column\": \"Company\",\n      \"properties\": {\n        \"dtype\": \"string\",\n        \"num_unique_values\": 4,\n        \"samples\": [\n          376,\n          \"34\",\n          \"1253\"\n        ],\n        \"semantic_type\": \"\",\n        \"description\": \"\"\n      }\n    },\n    {\n      \"column\": \"Specific Bean Origin\",\n      \"properties\": {\n        \"dtype\": \"string\",\n        \"num_unique_values\": 4,\n        \"samples\": [\n          761,\n          \"38\",\n          \"1253\"\n        ],\n        \"semantic_type\": \"\",\n        \"description\": \"\"\n      }\n    },\n    {\n      \"column\": \"Company Location\",\n      \"properties\": {\n        \"dtype\": \"string\",\n        \"num_unique_values\": 4,\n        \"samples\": [\n          58,\n          \"520\",\n          \"1253\"\n        ],\n        \"semantic_type\": \"\",\n        \"description\": \"\"\n      }\n    },\n    {\n      \"column\": \"Bean Type\",\n      \"properties\": {\n        \"dtype\": \"string\",\n        \"num_unique_values\": 4,\n        \"samples\": [\n          38,\n          \"628\",\n          \"1253\"\n        ],\n        \"semantic_type\": \"\",\n        \"description\": \"\"\n      }\n    },\n    {\n      \"column\": \"Broad Bean Origin\",\n      \"properties\": {\n        \"dtype\": \"string\",\n        \"num_unique_values\": 4,\n        \"samples\": [\n          83,\n          \"144\",\n          \"1253\"\n        ],\n        \"semantic_type\": \"\",\n        \"description\": \"\"\n      }\n    }\n  ]\n}"
            }
          },
          "metadata": {},
          "execution_count": 9
        }
      ]
    },
    {
      "cell_type": "markdown",
      "source": [
        "Категориальные признаки имеют большое число уникальных значений (> 30), значит применение `OneHot`-кодирования неразумно. Также 100%-е содержание какао выглядит подозрительно, что говорит о вероятном выбросе.\n",
        "\n",
        "Рассмотрим категориальные признаки подробнее на предмет пропущенных значений (пробелов, не NaN)."
      ],
      "metadata": {
        "id": "XLRI-ZP77qw5"
      }
    },
    {
      "cell_type": "code",
      "source": [
        "train_df['Broad Bean Origin'].sort_values().unique()"
      ],
      "metadata": {
        "colab": {
          "base_uri": "https://localhost:8080/"
        },
        "id": "iiMvO7JQm36H",
        "outputId": "8d2f6f8d-a636-42fd-94d6-d1ef0f32f814"
      },
      "execution_count": null,
      "outputs": [
        {
          "output_type": "execute_result",
          "data": {
            "text/plain": [
              "array(['Australia', 'Belize', 'Bolivia', 'Brazil', 'Carribean',\n",
              "       'Carribean(DR/Jam/Tri)', 'Central and S. America', 'Colombia',\n",
              "       'Colombia, Ecuador', 'Congo', 'Cost Rica, Ven', 'Costa Rica',\n",
              "       'Cuba', 'DR, Ecuador, Peru', 'Dom. Rep., Madagascar',\n",
              "       'Domincan Republic', 'Dominican Rep., Bali', 'Dominican Republic',\n",
              "       'Ecuador', 'El Salvador', 'Fiji', 'Gabon', 'Ghana',\n",
              "       'Ghana, Domin. Rep', 'Grenada', 'Guat., D.R., Peru, Mad., PNG',\n",
              "       'Guatemala', 'Haiti', 'Hawaii', 'Honduras', 'India', 'Indonesia',\n",
              "       'Indonesia, Ghana', 'Ivory Coast', 'Jamaica', 'Liberia',\n",
              "       'Mad., Java, PNG', 'Madagascar', 'Madagascar & Ecuador',\n",
              "       'Malaysia', 'Mexico', 'Nicaragua', 'Nigeria', 'PNG, Vanuatu, Mad',\n",
              "       'Panama', 'Papua New Guinea', 'Peru', 'Peru, Belize',\n",
              "       'Peru, Dom. Rep', 'Peru, Ecuador, Venezuela',\n",
              "       'Peru, Mad., Dom. Rep.', 'Peru, Madagascar', 'Philippines',\n",
              "       'Principe', 'Puerto Rico', 'Samoa', 'Sao Tome',\n",
              "       'Sao Tome & Principe', 'Solomon Islands', 'South America',\n",
              "       'South America, Africa', 'Sri Lanka', 'St. Lucia', 'Suriname',\n",
              "       'Tanzania', 'Tobago', 'Togo', 'Trinidad', 'Trinidad, Ecuador',\n",
              "       'Uganda', 'Vanuatu', 'Ven., Indonesia, Ecuad.',\n",
              "       'Ven., Trinidad, Mad.', 'Ven.,Ecu.,Peru,Nic.',\n",
              "       'Venez,Africa,Brasil,Peru,Mex', 'Venezuela',\n",
              "       'Venezuela, Carribean', 'Venezuela, Dom. Rep.', 'Venezuela, Ghana',\n",
              "       'Venezuela, Java', 'Vietnam', 'West Africa', '\\xa0'], dtype=object)"
            ]
          },
          "metadata": {},
          "execution_count": 10
        }
      ]
    },
    {
      "cell_type": "markdown",
      "source": [
        "Видим, что есть символ `\\xa0`, обозначающий неразрывный пробел, а значит пропуск. Посмотрим, сколько их."
      ],
      "metadata": {
        "id": "Cmqr051SurOw"
      }
    },
    {
      "cell_type": "code",
      "source": [
        "train_df[train_df['Broad Bean Origin'] == '\\xa0'].shape"
      ],
      "metadata": {
        "colab": {
          "base_uri": "https://localhost:8080/"
        },
        "id": "EwKo5w3Wm_kv",
        "outputId": "24d30f29-fed9-4d86-b3b8-49600de3e7f1"
      },
      "execution_count": null,
      "outputs": [
        {
          "output_type": "execute_result",
          "data": {
            "text/plain": [
              "(55, 9)"
            ]
          },
          "metadata": {},
          "execution_count": 11
        }
      ]
    },
    {
      "cell_type": "markdown",
      "source": [
        "Всего `52` пропуска. Относительно объёма данных это не много (`~ 4%`), но и не так мало, чтобы можно было смело удалить строки. Заменим их на часто встречающуюся категорию."
      ],
      "metadata": {
        "id": "sZCk3USsu5NG"
      }
    },
    {
      "cell_type": "code",
      "source": [
        "train_df['Broad Bean Origin'] = train_df['Broad Bean Origin'].replace('\\xa0', train_df['Broad Bean Origin'].mode()[0])"
      ],
      "metadata": {
        "id": "0cCKcOu8txU2"
      },
      "execution_count": null,
      "outputs": []
    },
    {
      "cell_type": "markdown",
      "source": [
        "Продолжим смотреть пропуски"
      ],
      "metadata": {
        "id": "jmnC6WG8vOXA"
      }
    },
    {
      "cell_type": "code",
      "source": [
        "train_df['Bean Type'].sort_values().unique()"
      ],
      "metadata": {
        "colab": {
          "base_uri": "https://localhost:8080/"
        },
        "id": "uVeHdfU8lNDr",
        "outputId": "ff053c05-e486-48b7-8c80-5e503e45067b"
      },
      "execution_count": null,
      "outputs": [
        {
          "output_type": "execute_result",
          "data": {
            "text/plain": [
              "array(['Amazon', 'Amazon mix', 'Amazon, ICS', 'Blend',\n",
              "       'Blend-Forastero,Criollo', 'Criollo', 'Criollo (Amarru)',\n",
              "       'Criollo (Ocumare 61)', 'Criollo (Ocumare 67)',\n",
              "       'Criollo (Ocumare 77)', 'Criollo (Ocumare)', 'Criollo (Porcelana)',\n",
              "       'Criollo (Wild)', 'Criollo, +', 'Criollo, Forastero',\n",
              "       'Criollo, Trinitario', 'EET', 'Forastero', 'Forastero (Amelonado)',\n",
              "       'Forastero (Arriba)', 'Forastero (Arriba) ASS',\n",
              "       'Forastero (Arriba) ASSS', 'Forastero (Catongo)',\n",
              "       'Forastero (Nacional)', 'Forastero (Parazinho)',\n",
              "       'Forastero(Arriba, CCN)', 'Forastero, Trinitario', 'Matina',\n",
              "       'Nacional', 'Nacional (Arriba)', 'Trinitario',\n",
              "       'Trinitario (85% Criollo)', 'Trinitario (Amelonado)',\n",
              "       'Trinitario, Criollo', 'Trinitario, Forastero',\n",
              "       'Trinitario, Nacional', 'Trinitario, TCGA', '\\xa0'], dtype=object)"
            ]
          },
          "metadata": {},
          "execution_count": 13
        }
      ]
    },
    {
      "cell_type": "code",
      "source": [
        "train_df[train_df['Bean Type'] == '\\xa0'].shape"
      ],
      "metadata": {
        "colab": {
          "base_uri": "https://localhost:8080/"
        },
        "id": "JMLNkBrtmD5t",
        "outputId": "136a30c2-34a1-42be-c928-97449f38fb67"
      },
      "execution_count": null,
      "outputs": [
        {
          "output_type": "execute_result",
          "data": {
            "text/plain": [
              "(628, 9)"
            ]
          },
          "metadata": {},
          "execution_count": 14
        }
      ]
    },
    {
      "cell_type": "markdown",
      "source": [
        "У признака `Bean Type` половина датасета составляют пропущенные значения. Этот столбец можно было бы удалить, но предварительные тесты показали, что этот признак является очень важным, поэтому оставим его, а пропуски будут приняты в качестве дополнительной категории."
      ],
      "metadata": {
        "id": "PE7fjox8vSFh"
      }
    },
    {
      "cell_type": "code",
      "source": [
        "train_df['Company'].sort_values().unique()"
      ],
      "metadata": {
        "colab": {
          "base_uri": "https://localhost:8080/"
        },
        "id": "Y5uPAsQav-HL",
        "outputId": "1344a9c5-24bd-4fe6-e565-b9b303bfa737"
      },
      "execution_count": null,
      "outputs": [
        {
          "output_type": "execute_result",
          "data": {
            "text/plain": [
              "array(['A. Morin', 'AMMA', 'Adi', 'Aequare (Gianduja)', 'Ah Cacao',\n",
              "       \"Akesson's (Pralus)\", 'Alain Ducasse', 'Alexandre',\n",
              "       'Altus aka Cao Artisan', 'Amano', 'Amatller (Simon Coll)',\n",
              "       'Amazona', 'Ambrosia', 'Amedei', 'Animas', 'Ara', 'Arete',\n",
              "       'Artisan du Chocolat', 'Askinosie', 'Bahen & Co.', 'Bakau',\n",
              "       'Bar Au Chocolat', \"Baravelli's\", 'Batch', 'Beau Cacao', 'Beehive',\n",
              "       'Belcolade', 'Bellflower', 'Belyzium', 'Benoit Nihant',\n",
              "       'Bernachon', 'Beschle (Felchlin)', 'Bisou', 'Bittersweet Origins',\n",
              "       'Black Mountain', 'Black River (A. Morin)', 'Blanxart',\n",
              "       'Blue Bandana', 'Bonnat', 'Bouga Cacao (Tulicorp)', 'Bowler Man',\n",
              "       \"Brasstown aka It's Chocolate\", 'Brazen', 'Breeze Mill', 'Bright',\n",
              "       'Britarev', 'Bronx Grrl Chocolate', 'Burnt Fork Bend', 'C-Amaro',\n",
              "       'Cacao Arabuco', 'Cacao Atlanta', 'Cacao Barry', 'Cacao Hunters',\n",
              "       'Cacao Prieto', 'Cacao Sampaka', 'Cacao de Origen',\n",
              "       'Cacao de Origin', 'Cacaoyere (Ecuatoriana)', 'Callebaut', 'Cao',\n",
              "       'Caoni (Tulicorp)', 'Captain Pembleton', 'Caribeans',\n",
              "       'Carlotta Chocolat', 'Castronovo', 'Cello', 'Cemoi', 'Chaleur B',\n",
              "       'Chchukululu (Tulicorp)', 'Chequessett', 'Chloe Chocolat',\n",
              "       'Choco Dong', 'ChocoReko', \"Chocola'te\", 'Chocolarder',\n",
              "       'Chocolate Alchemist-Philly', 'Chocolate Con Amor',\n",
              "       'Chocolate Conspiracy', 'Chocolate Makers', 'Chocolate Tree, The',\n",
              "       'Chocolats Privilege', 'Chocosol', 'Chocovic', 'Chocovivo',\n",
              "       'Choklat', 'Choocsol', 'Chuao Chocolatier', 'Claudio Corallo',\n",
              "       'Cloudforest', 'Compania de Chocolate (Salgado)', 'Condor',\n",
              "       'Confluence', 'Coppeneur', \"Cote d' Or (Kraft)\", 'Cravve', 'Creo',\n",
              "       'Daintree', 'Dalloway', 'Damson', 'Dandelion', 'Danta',\n",
              "       'Dark Forest', 'Davis', 'De Mendes', 'De Villiers', 'DeVries',\n",
              "       'Dean and Deluca (Belcolade)',\n",
              "       'Debauve & Gallais (Michel Cluizel)', 'Desbarres', 'Dick Taylor',\n",
              "       'Doble & Bignall', 'Dole (Guittard)', 'Dolfin (Belcolade)',\n",
              "       'Domori', 'Dormouse', \"Duffy's\", 'Dulcinea', 'Durand', 'Durci',\n",
              "       'East Van Roasters', 'Eau de Rose', 'Eclat (Felchlin)', 'Edelmond',\n",
              "       'El Ceibo', 'El Rey', 'Emerald Estate', \"Emily's\",\n",
              "       'Enric Rovira (Claudio Corallo)', 'Erithaj (A. Morin)', 'Escazu',\n",
              "       \"Ethel's Artisan (Mars)\", 'Ethereal', 'Fearless (AMMA)',\n",
              "       'Feitoria Cacao', 'Felchlin', 'Finca', 'Forever Cacao',\n",
              "       'Forteza (Cortes)', 'Fossa', 'Franceschi', 'Frederic Blondeel',\n",
              "       'French Broad', 'Fresco', 'Friis Holm', 'Friis Holm (Bonnat)',\n",
              "       'Fruition', 'Georgia Ramon', 'Glennmade', 'Goodnow Farms',\n",
              "       'Grand Place', \"Green & Black's (ICAM)\", 'Green Bean to Bar',\n",
              "       'Grenada Chocolate Co.', 'Guido Castagna', 'Guittard', 'Habitual',\n",
              "       'Hachez', 'Hacienda El Castillo', 'Haigh', 'Harper Macaw',\n",
              "       'Heilemann', 'Heirloom Cacao Preservation (Brasstown)',\n",
              "       'Heirloom Cacao Preservation (Guittard)',\n",
              "       'Heirloom Cacao Preservation (Manoa)',\n",
              "       'Heirloom Cacao Preservation (Millcreek)', 'Hogarth',\n",
              "       'Hoja Verde (Tulicorp)', 'Holy Cacao', 'Honest', 'Hotel Chocolat',\n",
              "       'Hotel Chocolat (Coppeneur)', 'Hummingbird', 'Idilio (Felchlin)',\n",
              "       'Indah', 'Indaphoria', 'Indi', 'Isidro', 'Izard', 'Jacque Torres',\n",
              "       'Jordis', 'Just Good Chocolate', \"K'ul\", 'Kah Kow', 'Kakao',\n",
              "       'Kallari (Ecuatoriana)', 'Kaoka (Cemoi)', 'Kiskadee', 'Kto',\n",
              "       'Kyya', \"L'Amourette\", 'L.A. Burdick (Felchlin)',\n",
              "       'La Chocolaterie Nanairo', 'La Maison du Chocolat (Valrhona)',\n",
              "       'La Oroquidea', 'La Pepa de Oro', 'Laia aka Chat-Noir',\n",
              "       'Lajedo do Ouro', 'Lake Champlain (Callebaut)', 'Letterpress',\n",
              "       'Levy', 'Lilla', 'Lillie Belle', 'Lindt & Sprungli', 'Loiza',\n",
              "       'Lonohana', 'Love Bar', 'Luker', 'Machu Picchu Trading Co.',\n",
              "       'Madecasse (Cinagra)', 'Madre', 'Maglio',\n",
              "       'Malagasy (Chocolaterie Robert)', 'Malie Kai (Guittard)', 'Malmo',\n",
              "       'Mana', 'Manifesto Cacao', 'Manoa', 'Manufaktura Czekolady',\n",
              "       'Map Chocolate', 'Marana', \"Marigold's Finest\", 'Marou', 'Mars',\n",
              "       'Marsatta', 'Martin Mayer', 'Mast Brothers', 'Matale', 'Maverick',\n",
              "       'Mayacama', 'Meadowlands', 'Menakao (aka Cinagra)', 'Mesocacao',\n",
              "       'Metiisto', 'Michel Cluizel', 'Middlebury',\n",
              "       'Millcreek Cacao Roasters', 'Mindo', 'Minimal', 'Mission', 'Mita',\n",
              "       'Moho', 'Momotombo', 'Montecristi', 'Muchomas (Mesocacao)',\n",
              "       'Mutari', 'Nahua', 'Nanea', 'Nathan Miller', 'Na�ve',\n",
              "       'Neuhaus (Callebaut)', 'Nibble', 'Night Owl',\n",
              "       'Noble Bean aka Jerjobo', \"Noir d' Ebine\", 'Nova Monda', 'Nuance',\n",
              "       'Obolo', 'Ocelot', 'Ocho', 'Olive and Sinclair', 'Olivia',\n",
              "       'Omanhene', 'Omnom', 'Original Beans (Felchlin)',\n",
              "       'Original Hawaiin Chocolate Factory', 'Orquidea', 'Pacari',\n",
              "       'Palette de Bine', 'Pangea', 'Park 75', 'Parliament', 'Pascha',\n",
              "       'Patric', 'Paul Young', 'Pierre Marcolini', 'Pinellas',\n",
              "       'Pitch Dark', 'Pomm (aka Dead Dog)', 'Potomac', 'Pralus',\n",
              "       'Pump Street Bakery', 'Pura Delizia', 'Q Chocolate',\n",
              "       'Quetzalli (Wolter)', 'Raaka', 'Rain Republic',\n",
              "       'Rancho San Jacinto', 'Ranger', 'Raoul Boulanger', 'Raw Cocoa',\n",
              "       'Republica del Cacao (aka Confecta)', 'Ritual', 'Roasting Masters',\n",
              "       'Robert (aka Chocolaterie Robert)',\n",
              "       'Rococo (Grenada Chocolate Co.)', 'Rogue', 'Rozsavolgyi',\n",
              "       'S.A.I.D.', 'SRSLY', 'Sacred', 'Salgado',\n",
              "       'Santander (Compania Nacional)', 'Scharffen Berger', 'Seaforth',\n",
              "       'Shark Mountain', 'Shattel', 'Shattell', 'Sibu', 'Sibu Sura',\n",
              "       'Silvio Bessone', 'Sirene', 'Sjolinds', 'Smooth Chocolator, The',\n",
              "       'Snake & Butterfly', 'Solomons Gold', 'Solstice', 'Soma',\n",
              "       'Somerville', 'Soul', 'Spencer', 'Sprungli (Felchlin)',\n",
              "       'StRita Supreme', 'Starchild', 'Stella (aka Bernrain)',\n",
              "       'Stone Grindz', 'Sublime Origins', 'Summerbird',\n",
              "       'Svenska Kakaobolaget', 'Szanto Tibor', 'TCHO', 'Tabal',\n",
              "       'Tablette (aka Vanillabeans)', 'Tan Ban Skrati', 'Taza', 'Tejas',\n",
              "       'Terroir', 'The Barn', 'Theo', 'Theobroma', 'Timo A. Meyer',\n",
              "       \"To'ak (Ecuatoriana)\", 'Tobago Estate (Pralus)', 'Tocoti',\n",
              "       'Treehouse', 'Tsara (Cinagra)', 'Two Ravens', 'Undone', 'Upchurch',\n",
              "       'Urzi', 'Valrhona', 'Vanleer (Barry Callebaut)',\n",
              "       'Vao Vao (Chocolaterie Robert)', 'Vicuna', 'Videri',\n",
              "       'Vietcacao (A. Morin)', 'Vintage Plantations',\n",
              "       'Vintage Plantations (Tulicorp)', 'Violet Sky', 'Vivra',\n",
              "       'Wellington Chocolate Factory', 'Whittakers', \"Wilkie's Organic\",\n",
              "       \"Willie's Cacao\", 'Wm', 'Woodblock', 'Xocolat', 'Xocolla', \"Zak's\",\n",
              "       'Zart Pralinen', 'Zokoko', 'Zotter', 'hello cocoa', 'hexx',\n",
              "       'iQ Chocolate', 'organicfair', 'twenty-four blackbirds'],\n",
              "      dtype=object)"
            ]
          },
          "metadata": {},
          "execution_count": 15
        }
      ]
    },
    {
      "cell_type": "code",
      "source": [
        "train_df['Company Location'].sort_values().unique()"
      ],
      "metadata": {
        "colab": {
          "base_uri": "https://localhost:8080/"
        },
        "id": "IYeBVFCzwLGZ",
        "outputId": "be1d730b-0fe1-469e-f2ef-f12ba20c5ebf"
      },
      "execution_count": null,
      "outputs": [
        {
          "output_type": "execute_result",
          "data": {
            "text/plain": [
              "array(['Amsterdam', 'Argentina', 'Australia', 'Austria', 'Belgium',\n",
              "       'Bolivia', 'Brazil', 'Canada', 'Chile', 'Colombia', 'Costa Rica',\n",
              "       'Czech Republic', 'Denmark', 'Domincan Republic', 'Ecuador',\n",
              "       'Eucador', 'Fiji', 'Finland', 'France', 'Germany', 'Ghana',\n",
              "       'Grenada', 'Guatemala', 'Honduras', 'Hungary', 'Iceland', 'India',\n",
              "       'Ireland', 'Israel', 'Italy', 'Japan', 'Lithuania', 'Madagascar',\n",
              "       'Mexico', 'Netherlands', 'New Zealand', 'Niacragua', 'Nicaragua',\n",
              "       'Peru', 'Poland', 'Portugal', 'Puerto Rico', 'Russia', 'Sao Tome',\n",
              "       'Scotland', 'Singapore', 'South Africa', 'South Korea', 'Spain',\n",
              "       'St. Lucia', 'Suriname', 'Sweden', 'Switzerland', 'U.K.', 'U.S.A.',\n",
              "       'Venezuela', 'Vietnam', 'Wales'], dtype=object)"
            ]
          },
          "metadata": {},
          "execution_count": 16
        }
      ]
    },
    {
      "cell_type": "code",
      "source": [
        "train_df['Specific Bean Origin'].sort_values().unique()"
      ],
      "metadata": {
        "colab": {
          "base_uri": "https://localhost:8080/"
        },
        "id": "lcaqiMj1wRC_",
        "outputId": "683f79dd-32d4-415f-fed7-6707e136bba0"
      },
      "execution_count": null,
      "outputs": [
        {
          "output_type": "execute_result",
          "data": {
            "text/plain": [
              "array(['\"heirloom\", Arriba Nacional', '100 percent', '2009 Hapa Nibby',\n",
              "       'A case of the Xerces Blues, triple roast',\n",
              "       'Abstract S. w/ Jamaica nibs,batch abs60323.0',\n",
              "       'Acarigua, w/ nibs', 'Acul-du-Nord, 2015', 'Africa',\n",
              "       'Africa meets Latina', 'Agua Fria; Sucre region', 'Agua Grande',\n",
              "       'Akata', 'Akesson Estate', 'Akesson P.',\n",
              "       \"Akesson's E., Sambirano V.\", \"Akesson's Estate\",\n",
              "       \"Akesson's, batch 4411\", 'Akessons Estate, Sambirano, 2013',\n",
              "       'Akessons Estate, Sambirano, Ambanja', 'Akosombo',\n",
              "       'Alta Verapaz, 2014', 'Alto Beni', 'Alto Beni, Covendo Region',\n",
              "       'Alto Beni, Cru Savage', 'Alto Beni, Palos Blanco',\n",
              "       'Alto Beni, Palos Blancos', 'Alto Beni, Upper Rio Beni, 2014',\n",
              "       'Alto Beni, Wild Bolivian',\n",
              "       'Alto Beni, Wild Harvest, Itenez R. 24hr c.',\n",
              "       'Alto Beni, Wild Harvest, Itenez R., 60hr c.',\n",
              "       'Alto Beni, Wild Harvest, Limited Ed.', 'Amazonas',\n",
              "       'Amazonas w/ nibs', 'Amazonia', 'Ambanja, Sambirano Valley',\n",
              "       'Ambanja, Tsara Valley', 'Ambanja, batch 1 SRB', 'Ambolikapiky',\n",
              "       'Ambolikapiky P.', 'Andoa, Grand Cru blend',\n",
              "       'Antigua, Special Reserve', 'Apurimac',\n",
              "       'Apurimac, El Quinacho Co-op', 'Aragua, Trincheras', 'Araguani',\n",
              "       'Aranama', 'Arauca', 'Arhuacos', 'Arriba',\n",
              "       'Asajaya E, NW Borneo, b. #132/4500', 'Asante',\n",
              "       'Asochivite, batch 1005', 'Autumn, Primary Harvest, 2012',\n",
              "       'Ayacucho, \"El Guinacho\"', 'Ba Lai', 'Ba Ria',\n",
              "       'Ba Ria Vung Tau Province',\n",
              "       \"Bachelor's Hall E., St. Thomas Parish\", 'Bahia',\n",
              "       'Bahia Black, batch bra50722.1', 'Bahia Brazil, Fazenda Sao Pedro',\n",
              "       'Bahia, Agri-Forestal Plantation, 2010', 'Bahia, Batch 148',\n",
              "       'Bahia, Fazenda Venturosa',\n",
              "       'Bahia, Floresta Azul,Good Friends Reserve#3', 'Bahia, Scavina',\n",
              "       'Bahia, batch a1213', 'Baking', 'Bali',\n",
              "       'Bali (west), Sukrama Family, Melaya area', 'Bali, Jembrana',\n",
              "       'Bali, Sukrama Bros. Farm, Melaya, 62hr C', 'Bambamarca, 2015',\n",
              "       'Baracoa', 'Baracoa, Cuba', 'Barinas', 'Barlovento, Venezuela',\n",
              "       'Belize', 'Belize south', 'Belize, 2013',\n",
              "       'Belize, 2014 Harvest, Batch 9', 'Belize, Batch 2',\n",
              "       'Belize, med roast', 'Bellavista Coop, #225, LR, MC, CG Exclusive',\n",
              "       'Ben Tre', 'Ben Tre, Dong Nai', 'Ben Tre, Mekong Delta',\n",
              "       'Ben Tre, Mekong Delta, MoCay', 'Beniamo', 'Black Science Blend 1',\n",
              "       'Blend', 'Blend No. 1', 'Blue Mountain', 'Blue Mountain Region',\n",
              "       'Bocas del Toro, Tierra Oscura', 'Bolivar', 'Bolivar, Arriba',\n",
              "       'Bolivar, Guaranda', 'Bolivia', 'Bolivia, Bo-nib-ia, w/ nibs',\n",
              "       'Bolivian', 'Brazil', 'Brazil Blend', 'Brazil Rio Doce',\n",
              "       'Brazil, Mitzi Blue', 'Brazilian', 'Bundibugyo',\n",
              "       'Bundibugyo District', 'Buto', 'Cabosse', 'Cacao Blanco',\n",
              "       'Cacao Nacional W.F.', 'Cacao Nib Crunch', 'Cahabon Region',\n",
              "       'Camino Verde', 'Camino Verde P., 2012, Balao, Guayas',\n",
              "       'Camino Verde P., Balao, Guayas',\n",
              "       'Camino Verde P., Balao, Guayas, \"Fruity\"',\n",
              "       'Camino Verde P., Balao, Guayas, 2013',\n",
              "       'Camino Verde P., Balao, Guayas, 2014',\n",
              "       'Camino Verde, Black S., batch cvu6030.0', 'Campesino w/ nibs',\n",
              "       'Canoabo', 'Capistrano', 'Capistrano*',\n",
              "       'Caracas, Venezuela and Ghana', 'Caraibe',\n",
              "       'Caranero, Choc. Garage Exclusive', 'Carenero',\n",
              "       'Carenero Superior', 'Carenero Superior, #203, MR, SC',\n",
              "       'Carenero Superior, Bucare', 'Carenero Superior, Concepcion',\n",
              "       'Carenero Superior, Gran Saman', 'Carenero, Empyrean Sabor',\n",
              "       'Carenero, Guapiles, Ocumare blend', 'Caribe', 'Carre Amer',\n",
              "       'Carre Grand Noir', 'Carribean', 'Carribean-Raw', 'Catongo',\n",
              "       'Ceylan', 'Chanchamayo Province',\n",
              "       'Chanchamayo, Pichanadi, 2012, 60hr c.', 'Chiapan', 'Chiapas',\n",
              "       'Chiapas, Lacandon Jungle',\n",
              "       'Chiapas, Lacandon Jungle, Oaxacom Mtn', 'Chiapas, Mokaya P.',\n",
              "       'Chiapas, Triple Cacao',\n",
              "       'Chimelb, Lanquin, Alta Verapaz, b-GUA001', 'Choroni', 'Chuao',\n",
              "       'Chuao, #217, DR, MC', 'Chuao, Aragua region', 'Chuao, Dark Roast',\n",
              "       'Chuao, Mantuano blend', 'Chuao, Venezuela', 'Chucuri',\n",
              "       'Chulucanas, Batch 1', 'Chuno',\n",
              "       'Chuno, San Jose de Bocay, Pantasma R.,B.S.', 'Chuno, Xoco',\n",
              "       'Chuno, double turned, Xoco', 'Citrus-beta', 'Classic',\n",
              "       'Claudio Corallo w/ nibs', 'Colombia', 'Colombia, Batch 9',\n",
              "       'Colombian', 'Colombian 2008', 'Colombian Semi Dark',\n",
              "       'Colombian w/ nibs', 'Colombie', 'Complexite', 'Conacado',\n",
              "       'Conacado Coop', 'Conacado, #212, LR, SC',\n",
              "       'Conacado, #223, MR, SC', 'Conacado, 2012, 120hr c.',\n",
              "       'Conacado, Manifesto', 'Concepcion', 'Congo', 'Congo, Grand Cru',\n",
              "       'Coopertiva Amazona', 'Cooproagro',\n",
              "       'Corazon del Ecuador, Calceta beans', 'Cordoba', 'Corona Arriba',\n",
              "       'Cortes', 'Costa Esmeraldas', 'Costa Rica', 'Costa Rica, Oscuro',\n",
              "       'Coto Brus', 'Coto Brus, Heirloom, Batch 1', 'Coucher du Soleil',\n",
              "       'Crazy 88', 'Criollo Blend', 'Criollo, Dominican Republic',\n",
              "       'Crudo', 'Cuana, 2008', 'Cuba', 'Cuba, Batch 59/100',\n",
              "       'Cumboto, farmer Jose Lugo', 'Cusco', 'Cusco, Cacao Cusco',\n",
              "       'Cuyagua', 'Daintree Estates, N. Queensland',\n",
              "       'Dak Lak, Batch 2451', 'Dark', 'Dark 67', 'Dark 75',\n",
              "       'Dark, Stone Ground', 'Davao', 'Diego 48hr/ W.F. blend prototype',\n",
              "       'Diego 60hr/ W.F. blend prototype', 'Diego/ original micro',\n",
              "       'Djakarta, Java and Ghana', 'Dominican', 'Dominican Republic',\n",
              "       'Dominican Republic prototype', 'Dominican Republic w/ nibs',\n",
              "       'Dominican Republic, Batch 3', 'Dominican Republic, Batch 31616',\n",
              "       'Dominican Republic, Batch D2', 'Dominican Republic, Coop',\n",
              "       'Dominican Republic, batch 7', 'Dominican Republic, rustic',\n",
              "       'Don Homero- Cerecita Valley', 'Dong Nai', 'Dos Rios',\n",
              "       'Downtown London', 'Dual Origins, Sambirano, Elvesia',\n",
              "       'Duo- Gran Couva & Camino Verde', 'Eastern Promises', 'Ecuador',\n",
              "       'Ecuador, Batch 31516', 'Ecuador, Bob Bar',\n",
              "       'Ecuador, Choc. Garage Exclusive', 'Ecuador, Midnight Dark',\n",
              "       'Ecuador, Puristique', 'Ecuador, lot E432314L', 'Ecuador, raw',\n",
              "       'Ecuador, w/ nibs', 'El Carmen, batch 1003', 'El Ceibo Coop',\n",
              "       'El Oro', 'El Oro, Hacienda de Oro', 'El Salvador', 'Elvesia',\n",
              "       'Elvesia P.', 'Elvesia P., Batch 32', 'Elvesia P., Black Science',\n",
              "       'Elvesia, 2011', 'Emerald Estate', 'Epique, Blend No. 49',\n",
              "       'Equateur', 'Equator', 'Esmeraldas', 'Esmeraldas, Salazar Farm',\n",
              "       \"Espiritu Santo, 'Smoke Monster'\", 'Excellence (US Version)',\n",
              "       'Fazenda Camboa', 'Fazenda Camboa, Bahia',\n",
              "       'Fazenda Sempre Firme P., Bahia', 'Fazenda Sempre Firme, Bahia',\n",
              "       'Finisterra', 'Fortissima', 'French Laundry 20th Anniversary',\n",
              "       'Fruity-beta', 'Gabon', 'Garaua', 'Ghana', 'Ghana Puristique',\n",
              "       'Ghana prototype', 'Ghana, #211, MR, MC', 'Ghana, 2013',\n",
              "       'Ghana, 2013, batch 129', 'Ghana, prototype', 'Goddess Blend',\n",
              "       'Goodman Estate', 'Gran Blanco', 'Gran Couva',\n",
              "       'Gran Couva 2005 P.', 'Grand Cru Dominican Republic',\n",
              "       'Grand Cru Ecuador', 'Grand Cru Ghana', 'Granella', 'Grenada',\n",
              "       'Grenade', 'Gru Grococo, St. Andrews', 'Gruppo Salinas',\n",
              "       'Guadalcanal', 'Guanaja', 'Guaniamo', 'Guaniamo, Amazonas',\n",
              "       'Guantupi River', 'Guapiles',\n",
              "       'Guasare, La Sierra de Perija, batch gua001',\n",
              "       'Guasare, Zulia Prov.', 'Guatemala', 'Guayas', 'Guyave',\n",
              "       'Hacienda Las Trincheras', 'Hacienda Victoria',\n",
              "       'Hacienda la Trinidad', 'Haiti', \"Haleiwa E, O'ahu, 2014\",\n",
              "       \"Haleiwa, O'ahu; Lonohana E., Kanahiku\", 'Ham Luong',\n",
              "       'Hamakua Coast, Kokoleka', 'Hamakua, Hawaiian Crown, #176',\n",
              "       \"Hawai'i, Kona Grand Cru E.\", 'Hawaiian, Big Island', 'Hispaniola',\n",
              "       'Hispaniola, 2008', 'Hispaniola, 2013', 'Hispaniola, batch 170104',\n",
              "       'Honduras', 'House Blend, Batch 2', 'Houseblend',\n",
              "       'Huallabamba, 2015', 'Huila', 'Huiwani Coop', 'IL100, H. San Jose',\n",
              "       'Ilblend', 'India', 'India (south)', 'Indianer, Raw',\n",
              "       'Indigena Amazonia, Grand Cru, Quizas', 'Indio Rojo, Xoco',\n",
              "       'Island Growers, 120hr c.', 'Island Growers, 96hr c.',\n",
              "       'Ivory Coast', 'Ivory Coast, Batch 56/100', 'Jamaica',\n",
              "       \"Jamaica a l'ancienne\", 'Jamaica, #204, DR, SC',\n",
              "       'Jamaica, #205, DR, MC', 'Jamaica, #206, DR, LC',\n",
              "       'Jamaica, #209, DR, SC', 'Jamaica, #210, DR, MC', 'Jamaique',\n",
              "       'Java', 'Java, Grand Cru', 'Java, Indonesie', 'Johe', 'Johe, Xoco',\n",
              "       'Juliana', 'Kakao Kamili, Kilombero Valley', 'Kaori', 'Kendari',\n",
              "       'Kendem Lembu, Java', 'Kerala State', 'Kilombero Valley',\n",
              "       'Kilombero, batch 41', 'Kokoa Kamili', 'Kokoa Kamili Coop',\n",
              "       'Kokoa Kamili, batch 1 SRB', 'Kolumbia', 'Kpime', 'Kulili Estate',\n",
              "       'Kuruba', 'La Bahia, w/ cane juice', 'La Dalia',\n",
              "       'La Dalia, Matagalpa',\n",
              "       'La Dalia, Matagalpa,cacao Bisesto,green label',\n",
              "       'La Masica, Batch 1, FHIA Research Center', 'La Red',\n",
              "       'La Red de Guanconejo, N. Highlands coop', 'La Red, 2011',\n",
              "       'La Red, Guaconejo', 'La Red, Guanconjeco', 'La Selva',\n",
              "       'La Tronca, Matagalpa', 'Lachua w/ maple sugar, batch 5',\n",
              "       \"Lachua, Q'egchi families\", 'Lago di Como, Blu', 'Lam Dong',\n",
              "       'Lam Dong, Batch 153',\n",
              "       'LamasdelChanka, San Martin, Oro Verde coop', 'Lanquin Estate',\n",
              "       'Las Acacias E.', 'Las Islas', 'Latino', 'Le Chocolat Chaud',\n",
              "       'Le Noir Amer', 'Le Noir Extra Amer', 'Lever du Soleil', 'Liberia',\n",
              "       'Liberia, #174', 'Little Big Man',\n",
              "       'Loma Los Pinos, Yacao region, D.R.', 'Loma Sotavento, 2013',\n",
              "       'Los Ancones P.', 'Los Colorados, Santo Domingo, Equateur',\n",
              "       'Los Llanos', 'Los Rios', 'Los Rios, H. Iara',\n",
              "       'Los Rios, H. Iara, 2012', 'Los Rios, H. Iara, 2012, 120hr c.',\n",
              "       'Los Rios, Hacienda Limon, Heirloom',\n",
              "       'Los Rios, Hacienda Limon, Orecao, 2015',\n",
              "       'Los Rios, Quevedo, Arriba', 'Los Rios, Rancho Grande 2004/2007',\n",
              "       'Los Rios, Rancho Grande 2007', 'Los Rios, Vinces', 'Los Ujuxtes',\n",
              "       'Mababa', 'Machu Pichu', 'Macondo',\n",
              "       'Macuare; Miranda; Chloe formula', 'Madagared', 'Madagascar',\n",
              "       'Madagascar w/ nibs', 'Madagascar, Ambolikapiky P.',\n",
              "       'Madagascar, Batch 2', 'Madagascar, Batch 59/100',\n",
              "       'Madagascar, Batch 8', 'Madagascar, Sassy Bar',\n",
              "       'Madagascar, lot M0403R', 'Madagascar, w/ shell', 'Mahali, Kasai',\n",
              "       'Makwale Village, Kyela', 'Maleku', 'Malekula P., 2013', 'Manabi',\n",
              "       'Mangaro P.', 'Manhattan', 'Mantuano', 'Mantuano, 2012', 'Mara',\n",
              "       'Marabel Farms', 'Maracaibo', 'Maracaibo Clasificado',\n",
              "       'Maracaibo, El Rosario', 'Maralumi P.', 'Maranon',\n",
              "       'Maranon Canyon', 'Maranon Canyon, Fortunato No. 4',\n",
              "       'Maranon, #230, DR, LC', 'Maranon, 2014', 'Maranon, Cajamarca',\n",
              "       'Maranon, Fortunato No. 4', 'Maranon, Good & Evil, w/ nibs',\n",
              "       'Maranon, Joya Rara', 'Marcial, single Cote, 2012',\n",
              "       'Markham Valley', 'Markham Valley, #220, MR, MC',\n",
              "       'Markham Valley, #221, DR, MC', 'Matagalpa', 'Matasawalevu',\n",
              "       'Matiguas', 'Matina 1-6, prototype',\n",
              "       \"Maunawili, O'ahu, Agri Research C., 2015\", 'Maya Mountain',\n",
              "       'Maya Mountain, Toledo, Batch 29', 'Maya Mtn',\n",
              "       'Maya Mtn, Batch 454, Heirloom', 'Maya Mtn, Moho R., Toledo D.',\n",
              "       'Maya Mtn, Moho R., Toledo D., 2015', 'Medagla, Xoco',\n",
              "       'Mekong Delta & Dong Nai', 'Mekong Delta, early 2014 Harvest',\n",
              "       'Mexico, Lot 28022016', 'Mid Mountain, 2014', 'Midnight',\n",
              "       'Millot P., Ambanja', 'Millot Plantation', 'Mindo', 'Misterio',\n",
              "       'Moho River', 'Moho River Valley', 'Moho Valley', 'Mombacho',\n",
              "       'Momotombo', 'Monte Alegre, 3 diff. plantations',\n",
              "       'Monte Alegre, D. Badaro, Raw, Organic', 'Monte Alegre, D. Badero',\n",
              "       'Monte Alegre, Diego Badero', 'Montubia', 'Mora Mora 2006',\n",
              "       'Morropon, Norandiono Coop, Piura', 'Nacional', 'Namau Village',\n",
              "       'Napa', 'Nativo, Varzea', 'Nature', 'Nibby', 'Nicaliso, Xoco',\n",
              "       'Nicalizo', 'Nicaragua', 'Nicaragua, American style',\n",
              "       'Nicaragua, w/ inbs', 'Nigeria', 'Noir', 'Noir Infini',\n",
              "       'Non Pariel Estate', 'Norandino, batch 161208', 'Noula Coop',\n",
              "       'Nourish', 'Nube- prototype', 'Nutty-beta', 'Nyangbo',\n",
              "       \"O'ahu, N. Shore, Waialua Estate\",\n",
              "       \"O'ahu, N. Shore, Waialua Estate w/ nibs\",\n",
              "       'Oahu, Winward, #151, Maunawili district', 'Ocumare', 'Ocumare 61',\n",
              "       'Ocumare 67, Puertofino', 'Ocumare 77', 'Ocumare de la Costa',\n",
              "       'Ocumare, H. Cata, 48hr c.', 'Ocumare, Premier Cru, Quizas No. 2',\n",
              "       'Ocumare, Puerto Cabello', 'Ocumare, Venezuela',\n",
              "       'Ocumare, prototype', 'Oko Caribe', 'Oko Caribe, DOR005',\n",
              "       'Oko Caribe, Duarte P., Collab w Chocosol',\n",
              "       'Oko Caribe, Duarte Province, 2016 H.', 'Oko Caribe, batch 1 SRB',\n",
              "       'One Hundred', \"Opaeula Estate, O'ahu, Ele'ele\",\n",
              "       \"Opaeula Estate, O'ahu, Nene, CG Exclusive\", 'Orinoco', 'Oro',\n",
              "       'Oscuro', 'Otucan, Grand Cru', 'PNG, Devotion', 'PNG, Nib Bar',\n",
              "       'Palo Blanco w/ panela, Chulucanas', 'Palo Blanco, Chulucanas',\n",
              "       'Palos Blancos', 'Palos Blancos + nibs', 'Panama', 'Pangoa',\n",
              "       'Pangoa, w/ nibs', 'Papua', 'Papua Kerafat', 'Papua New Guinea',\n",
              "       'Papua New Guinea, Batch 2',\n",
              "       'Papua New Guinea, triple roast, batch 1',\n",
              "       'Paramaribo, batch 20160043-01', 'Patanemo',\n",
              "       'Patanemo Vil., Carabobo State, Tisano family',\n",
              "       'Patanemo, Epoch, Donaldo', 'Pepiniere, single Cote',\n",
              "       'Perfect Illusion', 'Perla Negra', 'Peru', 'Peru + nibs',\n",
              "       'Peru Brutus', 'Peru, Awagum bar', 'Peru, Batch 51/100',\n",
              "       'Peru, Las Pampas P.', 'Peru, Madagascar', 'Peruvian',\n",
              "       'Peruvian Amazon', 'Phantom', 'Philly Blend, 5 plantations',\n",
              "       'Pichincha', 'Pisa', 'Piura', 'Piura Blanco',\n",
              "       'Piura Blanco, Norandino', 'Piura Select, Cacao Blanc',\n",
              "       'Piura, Choc. Garage Exclusive', 'Piura, Illanka, Quemazon',\n",
              "       'Porcelana', 'Porcelana, Apotequil', 'Porcelana, Batch 5163',\n",
              "       'Porcelana, Colombia, Amazonas',\n",
              "       'Porcelana, Maracaibo, Palmira P. 2005',\n",
              "       'Porcelana, Maracaibo, Palmira P. 2006', 'Porcelana, Pedegral',\n",
              "       'Porcelana, Premier Cru, Quizas No. 1',\n",
              "       'Porcelana, S. of Lake Maracaibo', 'Porcelana, Tabasco',\n",
              "       'Porcelana, Tabasco, Finca La Joya', 'Porcelana, Tabasco, Mexico',\n",
              "       'Porcelana, Venezuela', 'Presidio', 'Principe', 'Puerto Cabello',\n",
              "       'Puerto Plata', 'Puerto Rico', 'Purple Haze', 'Quetzalcoatl',\n",
              "       'Quilla', 'Quito', 'ROIG', 'ROIG, 2014', 'Rainforest', 'Raw',\n",
              "       'Red Mayan, Xoco', 'Red Vanilla', 'Rio Arriba', 'Rio Caribe',\n",
              "       'Rio Caribe, Batch 7', 'Rio Caribe, Macuro',\n",
              "       'Rio Caribe, Tepui Treasure', 'Rio Eni', 'Rio Peripa H.',\n",
              "       'Rio Tuma', 'Rizek Cacao, Cibao Valley, Domin. Rep.',\n",
              "       'Rizek Cacao, Domin. Rep.', 'Roxborough, Tobago', 'Rugoso',\n",
              "       'Rugoso, Bad Fermentation', 'Samana', 'Samar, East Visayas region',\n",
              "       'Sambirano', 'Sambirano 2006', 'Sambirano Valley',\n",
              "       'Sambirano Valley, #214, LR, MC', 'Sambirano Valley, #216, MR, LC',\n",
              "       'Sambirano Valley, 2012',\n",
              "       'Sambirano Valley, Black Science, B-60307.0',\n",
              "       'Sambirano Valley, batch 2477', 'Sambirano, Ambanja',\n",
              "       'Sambirano, Ampamakia 2005, Millot P.', 'Sambirano, Menava P.',\n",
              "       'Sambirano, batch 170102', 'San Andres',\n",
              "       'San Andres, American style', 'San Andres, silk', 'San Joaquin',\n",
              "       'San Jose', 'San Jose del Tambo', 'San Juan', 'San Juan Estate',\n",
              "       'San Juan Estate, Cherry Blossoms at Night',\n",
              "       'San Juan Estate, Gran Couva', 'San Juan de Cheni', 'San Martin',\n",
              "       'San Martin, Batch 2', 'San Martin, Bellavista Coop, #226, DR, MC',\n",
              "       'Sang Yum Coop', 'Sangre Grande P., Trinidad', 'Santo Domingo',\n",
              "       'Sao Tome', 'Sao Tome, Batch 151',\n",
              "       'Satipo Pangoa region, 16hr conche',\n",
              "       'Satipo Pangoa region, 20hr conche', 'Satipo region, white label',\n",
              "       'Selva', 'Selva Maya', 'Semisweet', 'Sensations Intense',\n",
              "       'Serian E., NW Borneo, b. #134/3800', 'Shake Shack',\n",
              "       'Sierra Nevada', 'Signature Blend', 'Silvestre, Batch 1, 2011',\n",
              "       'Silvestre, Batch 7, 2013', \"Sisa's Secret/ original micro\",\n",
              "       'Solomon Island', 'Solomon Island w/ nibs', 'Somia Plantation',\n",
              "       'Somia Plantation, 2012', 'Somia Plantation, Akesson, 2012',\n",
              "       'Somia Plantation, Sambirano, 70hr C', 'Somia, 2013',\n",
              "       'South America', 'South America and Africa',\n",
              "       'Special Maker Reserve', 'Sri Lanka', 'Star of Ecuador',\n",
              "       'Star of Peru', 'Suchitepequez E.', 'Sur del Lago',\n",
              "       'Sur del Lago Classificado',\n",
              "       'Sur del Lago, Amiari Meridena, Zulia, w/ nibs',\n",
              "       'Sur del Lago, Merida', 'Surfin', 'TCHOPro 60.5', 'TCHOPro 68',\n",
              "       'Tabasco', 'Tainori', 'Talamanca, Raul-Kekoldo community',\n",
              "       'Tan Phu Dong Island, Heart of Darkness',\n",
              "       'Tan Phu Dong, Treasure Island', 'Tanzania', 'Tanzania, Party Bar',\n",
              "       'Tanzania, batch a1', 'Tarakan', 'Tawau, Oct. 2015 Harvest',\n",
              "       'Tenende, Uwate', 'Terreiro Velho P.', 'Tien Giang',\n",
              "       'Tien Giang, 2015, batch 10-2-16',\n",
              "       'Tien Giang, Black S., batch VIT60420.0', 'Tingo Maria', 'Tobago',\n",
              "       'Tokiala', 'Toledo District', 'Toledo District, 2015 Harvest',\n",
              "       'Toledo District, w/ nibs', 'Tome Acu',\n",
              "       'Tome Acu E., Amazon Rainforest', 'Toscano Black',\n",
              "       'Tranquilidad, Batch 1', 'Tres Hombres', 'Trinatario Treasure',\n",
              "       'Trincheras', 'Trinidad', 'Trinidad, Heritage, Limited ed.',\n",
              "       'Trinitario', 'Trinite', 'Trintade, Sao Tome', 'Tsaranta',\n",
              "       'Tumaco', 'Tumbes', 'Tumbes Coop', 'Tumbes, \"Zarumilla\"',\n",
              "       'Tumbes, 2013 Harvest, Batch 8', 'Tumbes, Batch 2',\n",
              "       'Tumbes, Dear Mr. Finley, 2014', 'Twilight', 'UNOCACE', 'Uba Budo',\n",
              "       'Uganda', 'Umoho R., Toledo District, San Felipe', 'Upala',\n",
              "       'Upala, Batch 18', 'Vale do Juliana, w/ nibs', 'Vanua Levu',\n",
              "       'Vanua Levu, Toto-A', 'Vanuatu', 'Vanuatu, batch 2410',\n",
              "       'Venezuela', 'Venezuela; Barinos, Merida, Tachron', 'Venzuela',\n",
              "       'Vietnam', 'Vietnam, Batch 50/100', 'Vila Gracinda',\n",
              "       'Villa Andina', 'Vinces', 'Virunga', \"Waiahole, O'ahu\",\n",
              "       'Wampusirpi Region', 'Wasatch', 'West Africa',\n",
              "       'Wild Beniano, 2016, batch 128, Heirloom', 'Wild Bolivian',\n",
              "       'Wild Bolivian, Jungle Love', 'Wild Thing', 'Winak Coop, Napo',\n",
              "       'Winak, Sumaco', 'Xoconusco', 'Xoconusco, cacao Real',\n",
              "       'Zorzal Reserva', 'Zorzal Reserva w/ Charles Kerchner',\n",
              "       'Zorzal Reserva, 2015 H., Kerchner', 'black label', 'la Amistad',\n",
              "       'one hundred', 'single estate',\n",
              "       'the lost city, gracias a dias, batch 362'], dtype=object)"
            ]
          },
          "metadata": {},
          "execution_count": 17
        }
      ]
    },
    {
      "cell_type": "markdown",
      "source": [
        "У остальных признаков пропуски не обнаружены.\n",
        "\n",
        "Таким образом, мы конвертировали признак `Cocoa Percent` в числовой тип данных, удалили пару строк со значениями `NaN`, преобразовали пропуски в виде пробелов в признаке `Broad Bean Origin` и оставили признак `Bean Type`, содержащий половину строк с пробелами."
      ],
      "metadata": {
        "id": "VbdSKR3twebB"
      }
    },
    {
      "cell_type": "markdown",
      "source": [
        "## Анализ выбросов, построение распределений признаков"
      ],
      "metadata": {
        "id": "yQORhIlnmlI0"
      }
    },
    {
      "cell_type": "markdown",
      "source": [
        "Выделяем матрицу объект-признак и вектор с целевой переменной"
      ],
      "metadata": {
        "id": "LTFDmWziyFLY"
      }
    },
    {
      "cell_type": "code",
      "source": [
        "X_train = train_df.drop('Rating', axis=1)\n",
        "y_train = train_df['Rating']"
      ],
      "metadata": {
        "id": "Xlfs7w8irPwX"
      },
      "execution_count": null,
      "outputs": []
    },
    {
      "cell_type": "markdown",
      "source": [
        "Выделяем числовые и категориальные столбцы"
      ],
      "metadata": {
        "id": "8jmu3789m02-"
      }
    },
    {
      "cell_type": "code",
      "source": [
        "cat_cols = [col for col in X_train.columns if X_train[col].dtype == 'object']\n",
        "num_cols = [col for col in X_train.columns if X_train[col].dtype != 'object']\n",
        "print('Числовые признаки: ', num_cols)\n",
        "print('Категориальные признаки: ', cat_cols)"
      ],
      "metadata": {
        "colab": {
          "base_uri": "https://localhost:8080/"
        },
        "id": "RQFR7BgBm6ON",
        "outputId": "0fe93156-329f-417e-9c5a-614d2020a835"
      },
      "execution_count": null,
      "outputs": [
        {
          "output_type": "stream",
          "name": "stdout",
          "text": [
            "Числовые признаки:  ['REF', 'Review', 'Cocoa Percent']\n",
            "Категориальные признаки:  ['Company', 'Specific Bean Origin', 'Company Location', 'Bean Type', 'Broad Bean Origin']\n"
          ]
        }
      ]
    },
    {
      "cell_type": "markdown",
      "source": [
        "Посмотрим распределение числовых признаков"
      ],
      "metadata": {
        "id": "OLlBYvtgsblw"
      }
    },
    {
      "cell_type": "code",
      "source": [
        "for col in num_cols:\n",
        "    plt.figure(figsize=(3, 3))\n",
        "    sns.boxplot(data=X_train[col])\n",
        "    plt.show()"
      ],
      "metadata": {
        "colab": {
          "base_uri": "https://localhost:8080/",
          "height": 783
        },
        "id": "9YF7NbAqtg12",
        "outputId": "8b04c187-0388-46c6-a87a-2a47f3710e53"
      },
      "execution_count": null,
      "outputs": [
        {
          "output_type": "display_data",
          "data": {
            "text/plain": [
              "<Figure size 300x300 with 1 Axes>"
            ],
            "image/png": "[encoded data removed]"
          },
          "metadata": {}
        },
        {
          "output_type": "display_data",
          "data": {
            "text/plain": [
              "<Figure size 300x300 with 1 Axes>"
            ],
            "image/png": "[encoded data removed]"
          },
          "metadata": {}
        },
        {
          "output_type": "display_data",
          "data": {
            "text/plain": [
              "<Figure size 300x300 with 1 Axes>"
            ],
            "image/png": "[encoded data removed]"
          },
          "metadata": {}
        }
      ]
    },
    {
      "cell_type": "markdown",
      "source": [
        "В глаза бросаются значения `Cocoa Percent` около 100. Это похоже на выбросы, так как в реальности вряд ли возможен шоколад со 100-процентным содержанием какао. Удалим эти данные."
      ],
      "metadata": {
        "id": "HSv7j93bCMiU"
      }
    },
    {
      "cell_type": "code",
      "source": [
        "X_train = X_train[X_train['Cocoa Percent'] < 95]"
      ],
      "metadata": {
        "id": "QjM29aRoucyS"
      },
      "execution_count": null,
      "outputs": []
    },
    {
      "cell_type": "code",
      "source": [
        "y_train = y_train[X_train.index]"
      ],
      "metadata": {
        "id": "yXvG_Oo8uyl8"
      },
      "execution_count": null,
      "outputs": []
    },
    {
      "cell_type": "markdown",
      "source": [
        "Посмотрим на распределение целевой переменной."
      ],
      "metadata": {
        "id": "1lVbGCFKAn8U"
      }
    },
    {
      "cell_type": "code",
      "source": [
        "sns.boxplot(y_train)"
      ],
      "metadata": {
        "colab": {
          "base_uri": "https://localhost:8080/",
          "height": 428
        },
        "id": "6YC7WgR6uXlO",
        "outputId": "8a2428a3-612f-4248-9634-bc00bd7ebbae"
      },
      "execution_count": null,
      "outputs": [
        {
          "output_type": "execute_result",
          "data": {
            "text/plain": [
              "<Axes: ylabel='Rating'>"
            ]
          },
          "metadata": {},
          "execution_count": 23
        },
        {
          "output_type": "display_data",
          "data": {
            "text/plain": [
              "<Figure size 640x480 with 1 Axes>"
            ],
            "image/png": "[encoded data removed]"
          },
          "metadata": {}
        }
      ]
    },
    {
      "cell_type": "markdown",
      "source": [
        "Достаточно далеко от общей массы значений находятся значения рейтинга 1 и 5. Предварительные тесты с моделью `CatBoostRegressor` показали, что наилучший результат обучения (оценка `r2-score`) достигается при удалении рейтинга 1. Удалим его."
      ],
      "metadata": {
        "id": "O8R0tGKDun_B"
      }
    },
    {
      "cell_type": "code",
      "source": [
        "y_train = y_train[y_train > 1]"
      ],
      "metadata": {
        "id": "rrBO2x-Auuol"
      },
      "execution_count": null,
      "outputs": []
    },
    {
      "cell_type": "code",
      "source": [
        "X_train = X_train.loc[y_train.index, :]"
      ],
      "metadata": {
        "id": "VjJHeI0jxvob"
      },
      "execution_count": null,
      "outputs": []
    },
    {
      "cell_type": "markdown",
      "source": [
        "Построим матрицу корреляций числовых признаков."
      ],
      "metadata": {
        "id": "pvegXFUOvn7B"
      }
    },
    {
      "cell_type": "code",
      "source": [
        "temp_df = train_df[num_cols + ['Rating']]\n",
        "\n",
        "sns.heatmap(data=temp_df.corr(), cmap='twilight_shifted', annot=True, vmin=-1, vmax=1)"
      ],
      "metadata": {
        "colab": {
          "base_uri": "https://localhost:8080/",
          "height": 452
        },
        "id": "jj7elAG_vrSv",
        "outputId": "29aede0b-3c16-4a1c-a070-94aaa09ed9f3"
      },
      "execution_count": null,
      "outputs": [
        {
          "output_type": "execute_result",
          "data": {
            "text/plain": [
              "<Axes: >"
            ]
          },
          "metadata": {},
          "execution_count": 26
        },
        {
          "output_type": "display_data",
          "data": {
            "text/plain": [
              "<Figure size 640x480 with 2 Axes>"
            ],
            "image/png": "[encoded data removed]"
          },
          "metadata": {}
        }
      ]
    },
    {
      "cell_type": "markdown",
      "source": [
        "Наблюдается сильная корреляция между признаками `REF` и `Review`. В данном случае, можно оставить как есть, а также удалить один из коррелированных признаков, либо перемножить их с удалением исходных. Прогнозы с помощью `CatBoost` со встроенной кодировкой показали, что лучший результат достигается, если оставить признаки как есть."
      ],
      "metadata": {
        "id": "lovhlieCxESB"
      }
    },
    {
      "cell_type": "markdown",
      "source": [
        "Посмотрим корреляцию между категориальными признаками"
      ],
      "metadata": {
        "id": "CCwSawXxyOxt"
      }
    },
    {
      "cell_type": "code",
      "source": [
        "!pip install association-metrics"
      ],
      "metadata": {
        "colab": {
          "base_uri": "https://localhost:8080/"
        },
        "id": "dZgW4vhryTfr",
        "outputId": "5c269296-1c1d-48ef-ebaf-e8aacf64b160"
      },
      "execution_count": null,
      "outputs": [
        {
          "output_type": "stream",
          "name": "stdout",
          "text": [
            "Collecting association-metrics\n",
            "  Downloading association-metrics-0.0.1.tar.gz (3.2 kB)\n",
            "  Preparing metadata (setup.py) ... \u001b[?25l\u001b[?25hdone\n",
            "Building wheels for collected packages: association-metrics\n",
            "  Building wheel for association-metrics (setup.py) ... \u001b[?25l\u001b[?25hdone\n",
            "  Created wheel for association-metrics: filename=association_metrics-0.0.1-py3-none-any.whl size=3930 sha256=cf39683b6166000d48dcc31e7efe9a527b87aeb151f13b43928ffe6f6322cef4\n",
            "  Stored in directory: /root/.cache/pip/wheels/01/47/5f/4360ef6988df6f1b0c1857cab43334269110160bd97b716936\n",
            "Successfully built association-metrics\n",
            "Installing collected packages: association-metrics\n",
            "Successfully installed association-metrics-0.0.1\n"
          ]
        }
      ]
    },
    {
      "cell_type": "code",
      "source": [
        "import association_metrics as am\n",
        "\n",
        "XC = X_train.apply(\n",
        "        lambda x: x.astype(\"category\") if x.dtype == \"object\" else x)\n",
        "\n",
        "cramersv = am.CramersV(XC)\n",
        "\n",
        "matrix_Cram = cramersv.fit()\n",
        "\n",
        "sns.heatmap(data=matrix_Cram, cmap='twilight_shifted', annot=True, vmin=-1, vmax=1)"
      ],
      "metadata": {
        "colab": {
          "base_uri": "https://localhost:8080/",
          "height": 579
        },
        "id": "uAfJZtkxyWxc",
        "outputId": "c71d98fa-4cff-40bc-9ab3-75b6e8d975c3"
      },
      "execution_count": null,
      "outputs": [
        {
          "output_type": "execute_result",
          "data": {
            "text/plain": [
              "<Axes: >"
            ]
          },
          "metadata": {},
          "execution_count": 28
        },
        {
          "output_type": "display_data",
          "data": {
            "text/plain": [
              "<Figure size 640x480 with 2 Axes>"
            ],
            "image/png": "[encoded data removed]"
          },
          "metadata": {}
        }
      ]
    },
    {
      "cell_type": "markdown",
      "source": [
        "Сильная корреляция между `Company` и `Company Location`, между `Specific Bean Origin` и `Broad Bean Origin`. Предварительные тесты показали, что лучше удалить только признак `Company Location`."
      ],
      "metadata": {
        "id": "LJBNtyKOnl_-"
      }
    },
    {
      "cell_type": "code",
      "source": [
        "X_train.drop(['Company Location'], axis=1, inplace=True)"
      ],
      "metadata": {
        "id": "4tDbN1FY9VTV"
      },
      "execution_count": null,
      "outputs": []
    },
    {
      "cell_type": "markdown",
      "source": [
        "Вывод:\n",
        "Были удалены строки со значением процентного содержания какао (`Cocoa Percent`) более 95%, удалены строки с рейтингом (`Rating`) 1. Удалён признак `Company Location` из-за сильной корреляции с признаком `Company`, а также исходя из результатов обучения с помощью `CatBoostRegressor` со встроенной кодировкой."
      ],
      "metadata": {
        "id": "R8xdTwQG0RNJ"
      }
    },
    {
      "cell_type": "markdown",
      "source": [
        "## Построение новых признаков, обоснование"
      ],
      "metadata": {
        "id": "q-AjrbnCwclJ"
      }
    },
    {
      "cell_type": "markdown",
      "source": [
        "Построим новые признаки на основе устоявшихся.\n",
        "\n",
        "Общий принцип построения признаков на основе категориальных, принятый в данной работе - посчитать количество категорий встречающихся в признаке для каждой категории и связать это количество с категорией. Таким образом признак будет отражать частоту, с которой встречается та или иная категория. Затем смотрим распределение нового признака и строим на его основе ещё один категориальный, группирующий значения числового признака.\n",
        "\n",
        "Принцип построения признаков на основе числовых - перемножение исходных до `2`-го порядка включительно.\n",
        "\n",
        "Отбор признаков осуществлён на основе результатов обучения модели `CatBoostRegressor` со встроенной кодировкой категорильных признаков с использованием метрики `r2-score`. Обучение проводилось как на одной части тренировчной выборки с предсказанием на другой, так и при кросс-валидации с `5`-ю фолдами. Дополнительно оценивается стандартное отклонение метрик при кросс-валидации. Также признаки отбирались исходя из результата прогноза на тестовых данных при их публикации на `Kaggle`."
      ],
      "metadata": {
        "id": "8nM413nn1Mcs"
      }
    },
    {
      "cell_type": "code",
      "source": [
        "!pip install catboost -q"
      ],
      "metadata": {
        "colab": {
          "base_uri": "https://localhost:8080/"
        },
        "id": "L4fyHGIjwjId",
        "outputId": "83596983-35a7-41ac-d692-9e46c6c98f47"
      },
      "execution_count": null,
      "outputs": [
        {
          "output_type": "stream",
          "name": "stdout",
          "text": [
            "\u001b[2K     \u001b[90m━━━━━━━━━━━━━━━━━━━━━━━━━━━━━━━━━━━━━━━━\u001b[0m \u001b[32m98.2/98.2 MB\u001b[0m \u001b[31m4.9 MB/s\u001b[0m eta \u001b[36m0:00:00\u001b[0m\n",
            "\u001b[?25h"
          ]
        }
      ]
    },
    {
      "cell_type": "code",
      "source": [
        "from catboost import CatBoostRegressor\n",
        "from sklearn.model_selection import train_test_split, cross_val_score\n",
        "from sklearn.metrics import r2_score"
      ],
      "metadata": {
        "id": "N-r2bajVxl8G"
      },
      "execution_count": null,
      "outputs": []
    },
    {
      "cell_type": "markdown",
      "source": [
        "Построим функцию для получения значений метрик для заданной выборки и функцию для получения матрицы корреляции числовых признаков."
      ],
      "metadata": {
        "id": "bM6WhUQH4eVZ"
      }
    },
    {
      "cell_type": "code",
      "source": [
        "def get_scores(X, y):\n",
        "    X_train_new, X_val, y_train_new, y_val = train_test_split(X, y, test_size=0.2, random_state=RANDOM_STATE)\n",
        "    cat_cols = [col for col in X.columns if X[col].dtype == 'object']\n",
        "\n",
        "    reg_cat = CatBoostRegressor(cat_features=cat_cols, verbose=0, random_state=RANDOM_STATE)\n",
        "\n",
        "    reg_cat.fit(X_train_new, y_train_new)\n",
        "    y_pred = reg_cat.predict(X_val)\n",
        "    r2 = r2_score(y_val, y_pred)\n",
        "\n",
        "    scores = cross_val_score(reg_cat, X, y, cv=5, scoring='r2')\n",
        "    print('r2 на одном фолде:', r2, '\\nСредний r2:', scores.mean(), '\\nSTD r2:', scores.std())\n",
        "\n",
        "\n",
        "def get_num_corr(X, y):\n",
        "    num_cols_temp = [col for col in X.columns if X[col].dtype != 'object']\n",
        "    temp_df = X[num_cols_temp]\n",
        "    temp_df['Rating'] = y\n",
        "\n",
        "    return sns.heatmap(data=temp_df.corr(), cmap='twilight_shifted', annot=True, vmin=-1, vmax=1)"
      ],
      "metadata": {
        "id": "pVBkP00UWG6m"
      },
      "execution_count": null,
      "outputs": []
    },
    {
      "cell_type": "markdown",
      "source": [
        "Посмотрим значения метрик"
      ],
      "metadata": {
        "id": "GZgqbwcU43d0"
      }
    },
    {
      "cell_type": "code",
      "source": [
        "get_scores(X_train, y_train)"
      ],
      "metadata": {
        "colab": {
          "base_uri": "https://localhost:8080/"
        },
        "id": "LNB45x1DXYIR",
        "outputId": "eacf1bec-88da-4258-d852-79a1bbb2653c"
      },
      "execution_count": null,
      "outputs": [
        {
          "output_type": "stream",
          "name": "stdout",
          "text": [
            "r2 на одном фолде: 0.20266208901711402 \n",
            "Средний r2: 0.16632922128071714 \n",
            "STD r2: 0.057207020465132444\n"
          ]
        }
      ]
    },
    {
      "cell_type": "markdown",
      "source": [
        "Базовый результат: на одном фолде `0.203`, средний `0.166`, STD `0.057`.\n"
      ],
      "metadata": {
        "id": "9stIoMin5Ki0"
      }
    },
    {
      "cell_type": "markdown",
      "source": [
        "Новые признаки на основе категориальных строились с помощью конструкций `groupby` и `transform`. Построим первый."
      ],
      "metadata": {
        "id": "-1025d0OPuS4"
      }
    },
    {
      "cell_type": "code",
      "source": [
        "X_train['Bean Type_freq'] = X_train.groupby('Bean Type')['Bean Type'].transform('count')"
      ],
      "metadata": {
        "id": "AkzH9X1XUubt"
      },
      "execution_count": null,
      "outputs": []
    },
    {
      "cell_type": "code",
      "source": [
        "get_scores(X_train, y_train)"
      ],
      "metadata": {
        "colab": {
          "base_uri": "https://localhost:8080/"
        },
        "id": "ZVls23DGX9Qe",
        "outputId": "af6a29d2-f6fd-44a1-dfa6-a2c676839e17"
      },
      "execution_count": null,
      "outputs": [
        {
          "output_type": "stream",
          "name": "stdout",
          "text": [
            "r2 на одном фолде: 0.29427935700581775 \n",
            "Средний r2: 0.21989594622847447 \n",
            "STD r2: 0.07408865229901902\n"
          ]
        }
      ]
    },
    {
      "cell_type": "markdown",
      "source": [
        "Результат улучшился!\n",
        "\n",
        "Посмотрим распределение этого признака"
      ],
      "metadata": {
        "id": "XgBnJwmP7qQu"
      }
    },
    {
      "cell_type": "code",
      "source": [
        "X_train[['Bean Type_freq']].hist()"
      ],
      "metadata": {
        "colab": {
          "base_uri": "https://localhost:8080/",
          "height": 469
        },
        "id": "7H7mLPHX7rVv",
        "outputId": "2342815c-0bc0-4d3f-93e4-aa282ed56f7f"
      },
      "execution_count": null,
      "outputs": [
        {
          "output_type": "execute_result",
          "data": {
            "text/plain": [
              "array([[<Axes: title={'center': 'Bean Type_freq'}>]], dtype=object)"
            ]
          },
          "metadata": {},
          "execution_count": 36
        },
        {
          "output_type": "display_data",
          "data": {
            "text/plain": [
              "<Figure size 640x480 with 1 Axes>"
            ],
            "image/png": "[encoded data removed]"
          },
          "metadata": {}
        }
      ]
    },
    {
      "cell_type": "markdown",
      "source": [
        "Видим, что есть три чёткие группы, на которые можно разделить признак, условно на редкий тип какао-бобов, средний и популярный. Последний является категорией-пробелом, как было показано выше. Однако, всё же примем его за отдельную категорию.\n",
        "\n",
        "Создадим функцию для обозначения редкости какао-бобов в зависимости от количества категорий."
      ],
      "metadata": {
        "id": "-uNTjXIw8GNR"
      }
    },
    {
      "cell_type": "code",
      "source": [
        "#  Редкость типов бобов в зависимости от их количества в датасете\n",
        "def rarity(value):\n",
        "    if value < 200:\n",
        "        return 'rare'\n",
        "    elif value < 400:\n",
        "        return 'medium'\n",
        "    return 'famous'"
      ],
      "metadata": {
        "id": "dtbet_qBXfSs"
      },
      "execution_count": null,
      "outputs": []
    },
    {
      "cell_type": "code",
      "source": [
        "X_train['Bean_Type_Rarity'] = X_train['Bean Type_freq'].apply(rarity)"
      ],
      "metadata": {
        "id": "GWvPzd60WMEB"
      },
      "execution_count": null,
      "outputs": []
    },
    {
      "cell_type": "code",
      "source": [
        "X_train.drop('Bean Type_freq', axis=1, inplace=True)"
      ],
      "metadata": {
        "id": "EVqXrByaF4O0"
      },
      "execution_count": null,
      "outputs": []
    },
    {
      "cell_type": "code",
      "source": [
        "get_scores(X_train, y_train)"
      ],
      "metadata": {
        "colab": {
          "base_uri": "https://localhost:8080/"
        },
        "id": "C4dfPkmkSuBI",
        "outputId": "8a50fb60-643b-4230-b24f-72b06e4fc2fc"
      },
      "execution_count": null,
      "outputs": [
        {
          "output_type": "stream",
          "name": "stdout",
          "text": [
            "r2 на одном фолде: 0.2813310948620785 \n",
            "Средний r2: 0.21760782350038538 \n",
            "STD r2: 0.08393568732195311\n"
          ]
        }
      ]
    },
    {
      "cell_type": "markdown",
      "source": [
        "Значения `r2-score` снизились, однако `стандартное отклонение` по кросс-валидации также значительно снизилось, что говорит о снижении переобучения модели. Результат на тестовых данных оказался гораздо выше, поэтому этот признак оставляем."
      ],
      "metadata": {
        "id": "z0Ee0jAb9cuy"
      }
    },
    {
      "cell_type": "markdown",
      "source": [
        "Аналогичным образом можно создать признаки на основе других категориальных признаков, однако они не показали себя лучше, чем на данный момент. При текущем наборе признаков значение `r2-score` на тестовых данных при обучении модели `CatBoostRegressor` со встроенной кодировкой и параметрами по умолчанию - `0.19053`."
      ],
      "metadata": {
        "id": "cRRYoqWQ90C7"
      }
    },
    {
      "cell_type": "markdown",
      "source": [
        "Например, посмотрим на распределение признака на основе признака `Company`."
      ],
      "metadata": {
        "id": "c7QUfIDi_gfd"
      }
    },
    {
      "cell_type": "code",
      "source": [
        "X_train['Company_freq'] = X_train.groupby('Company')['Company'].transform('count')"
      ],
      "metadata": {
        "id": "N1gfzoCM_o_Z"
      },
      "execution_count": null,
      "outputs": []
    },
    {
      "cell_type": "code",
      "source": [
        "X_train[['Company_freq']].hist()"
      ],
      "metadata": {
        "colab": {
          "base_uri": "https://localhost:8080/",
          "height": 469
        },
        "id": "TAn9HrFe_5Pk",
        "outputId": "fe0faa77-6ce7-40c5-bc07-7201eab50057"
      },
      "execution_count": null,
      "outputs": [
        {
          "output_type": "execute_result",
          "data": {
            "text/plain": [
              "array([[<Axes: title={'center': 'Company_freq'}>]], dtype=object)"
            ]
          },
          "metadata": {},
          "execution_count": 41
        },
        {
          "output_type": "display_data",
          "data": {
            "text/plain": [
              "<Figure size 640x480 with 1 Axes>"
            ],
            "image/png": "[encoded data removed]"
          },
          "metadata": {}
        }
      ]
    },
    {
      "cell_type": "markdown",
      "source": [
        "Видим, что есть большое количество компаний, которые редко встречаются в данных. На основе этого признака можно было бы создать признак, условно обозначающий известность компании - этот признак, исходя из общих соображений, вполне мог бы отражаться на рейтинге шоколада. Например, можно подобрать границу, разделяющую график на две части, обозначающие известные компании и малоизвестные. Однако эти признаки с перебором всевозможных положений границы не улучшают результаты прогноза на тестовых данных.\n",
        "\n",
        "Посмотрим для примера результаты обучения на тренировчной выборке и матрицу корреляций."
      ],
      "metadata": {
        "id": "jEgnc9qA_9dM"
      }
    },
    {
      "cell_type": "code",
      "source": [
        "get_scores(X_train, y_train)"
      ],
      "metadata": {
        "colab": {
          "base_uri": "https://localhost:8080/"
        },
        "id": "hGGc3bDhA9HE",
        "outputId": "7341d3ae-1893-4cff-b00f-94d5867af6c6"
      },
      "execution_count": null,
      "outputs": [
        {
          "output_type": "stream",
          "name": "stdout",
          "text": [
            "r2 на одном фолде: 0.1967480797505914 \n",
            "Средний r2: 0.16348385562731066 \n",
            "STD r2: 0.04747196333160441\n"
          ]
        }
      ]
    },
    {
      "cell_type": "markdown",
      "source": [
        "Результат слегка ухудшился по сравнению с предыдщим результатом: `r2-score` снизился, `STD` увеличилось."
      ],
      "metadata": {
        "id": "B8H_9dfeBIfx"
      }
    },
    {
      "cell_type": "code",
      "source": [
        "get_num_corr(X_train, y_train)"
      ],
      "metadata": {
        "colab": {
          "base_uri": "https://localhost:8080/",
          "height": 649
        },
        "id": "SDmUlL2VRP_w",
        "outputId": "d1d8d663-d62a-436d-c543-bf427417a765"
      },
      "execution_count": null,
      "outputs": [
        {
          "output_type": "stream",
          "name": "stderr",
          "text": [
            "<ipython-input-32-0c1149415d42>:18: SettingWithCopyWarning: \n",
            "A value is trying to be set on a copy of a slice from a DataFrame.\n",
            "Try using .loc[row_indexer,col_indexer] = value instead\n",
            "\n",
            "See the caveats in the documentation: https://pandas.pydata.org/pandas-docs/stable/user_guide/indexing.html#returning-a-view-versus-a-copy\n",
            "  temp_df['Rating'] = y\n"
          ]
        },
        {
          "output_type": "execute_result",
          "data": {
            "text/plain": [
              "<Axes: >"
            ]
          },
          "metadata": {},
          "execution_count": 43
        },
        {
          "output_type": "display_data",
          "data": {
            "text/plain": [
              "<Figure size 640x480 with 2 Axes>"
            ],
            "image/png": "[encoded data removed]"
          },
          "metadata": {}
        }
      ]
    },
    {
      "cell_type": "markdown",
      "source": [
        "Новый признак `Company_freq` имеет наибольшую корреляцию с целевой переменной. Тем не менее, он оказывается не значительным.\n",
        "\n",
        "Удалим его."
      ],
      "metadata": {
        "id": "OlpjlqAn_FTT"
      }
    },
    {
      "cell_type": "code",
      "source": [
        "X_train.drop('Company_freq', axis=1, inplace=True)"
      ],
      "metadata": {
        "id": "fLOzUVi9H6-M"
      },
      "execution_count": null,
      "outputs": []
    },
    {
      "cell_type": "markdown",
      "source": [
        "Новые признаки на основе числовых были построены путём их перемножения. Некоторые новые признаки улучшали результаты прогноза на тренирочной выборке, однако ухудшали прогнозы на тестовой выборке. Поэтому новые признаки не были добавлены."
      ],
      "metadata": {
        "id": "HbrE4-ImOBRy"
      }
    },
    {
      "cell_type": "markdown",
      "source": [
        "Ниже показны примеры новых признаков."
      ],
      "metadata": {
        "id": "CLcy-WcLOab-"
      }
    },
    {
      "cell_type": "code",
      "source": [
        "num_cols = [col for col in X_train.columns if X_train[col].dtype != 'object']\n",
        "print('Числовые признаки: ', num_cols)"
      ],
      "metadata": {
        "colab": {
          "base_uri": "https://localhost:8080/"
        },
        "id": "WWIsav15JUez",
        "outputId": "d6e59b27-b6c8-4561-c803-0e19770e3de2"
      },
      "execution_count": null,
      "outputs": [
        {
          "output_type": "stream",
          "name": "stdout",
          "text": [
            "Числовые признаки:  ['REF', 'Review', 'Cocoa Percent', 'Bean Type_freq']\n"
          ]
        }
      ]
    },
    {
      "cell_type": "code",
      "source": [
        "# X_train['Bean_2'] = X_train['Bean Type_freq'] ** 2\n",
        "# X_train['REF_Bean'] = X_train['REF'] * X_train['Bean Type_freq']\n",
        "# X_train['Cocoa_Bean'] = X_train['Cocoa Percent'] * X_train['Bean Type_freq']\n",
        "# X_train['Review_Cocoa'] = X_train['Review'] * X_train['Cocoa Percent']\n",
        "# X_train['Review_Bean'] = X_train['Review'] * X_train['Bean Type_freq']"
      ],
      "metadata": {
        "id": "6kUXO7EcJihj"
      },
      "execution_count": null,
      "outputs": []
    },
    {
      "cell_type": "markdown",
      "source": [
        "Посмотрим на важность признаков для модели `CatBoostRegressor`."
      ],
      "metadata": {
        "id": "_VywvMLrOjvh"
      }
    },
    {
      "cell_type": "code",
      "source": [
        "cat_cols = [col for col in X_train.columns if X_train[col].dtype == 'object']\n",
        "model = CatBoostRegressor(cat_features=cat_cols, verbose=0)\n",
        "\n",
        "model.fit(X_train, y_train)\n",
        "pd.DataFrame({'feature_name': model.feature_names_,\n",
        "              'importance': model.get_feature_importance()}).sort_values(by='importance', ascending=False)"
      ],
      "metadata": {
        "colab": {
          "base_uri": "https://localhost:8080/",
          "height": 331
        },
        "id": "hRMpRaVdH861",
        "outputId": "612becc8-1b92-4780-fd4c-44cff33fea04"
      },
      "execution_count": null,
      "outputs": [
        {
          "output_type": "execute_result",
          "data": {
            "text/plain": [
              "           feature_name  importance\n",
              "0               Company   26.808447\n",
              "6     Broad Bean Origin   15.327817\n",
              "2                   REF   14.190960\n",
              "4         Cocoa Percent   13.434674\n",
              "8      Bean_Type_Rarity    9.059101\n",
              "5             Bean Type    8.495514\n",
              "1  Specific Bean Origin    7.444779\n",
              "3                Review    3.460836\n",
              "7        Bean Type_freq    1.777871"
            ],
            "text/html": [
              "\n",
              "  <div id=\"df-deb7331d-e02c-4001-8688-97668b5d29d8\" class=\"colab-df-container\">\n",
              "    <div>\n",
              "<style scoped>\n",
              "    .dataframe tbody tr th:only-of-type {\n",
              "        vertical-align: middle;\n",
              "    }\n",
              "\n",
              "    .dataframe tbody tr th {\n",
              "        vertical-align: top;\n",
              "    }\n",
              "\n",
              "    .dataframe thead th {\n",
              "        text-align: right;\n",
              "    }\n",
              "</style>\n",
              "<table border=\"1\" class=\"dataframe\">\n",
              "  <thead>\n",
              "    <tr style=\"text-align: right;\">\n",
              "      <th></th>\n",
              "      <th>feature_name</th>\n",
              "      <th>importance</th>\n",
              "    </tr>\n",
              "  </thead>\n",
              "  <tbody>\n",
              "    <tr>\n",
              "      <th>0</th>\n",
              "      <td>Company</td>\n",
              "      <td>26.808447</td>\n",
              "    </tr>\n",
              "    <tr>\n",
              "      <th>6</th>\n",
              "      <td>Broad Bean Origin</td>\n",
              "      <td>15.327817</td>\n",
              "    </tr>\n",
              "    <tr>\n",
              "      <th>2</th>\n",
              "      <td>REF</td>\n",
              "      <td>14.190960</td>\n",
              "    </tr>\n",
              "    <tr>\n",
              "      <th>4</th>\n",
              "      <td>Cocoa Percent</td>\n",
              "      <td>13.434674</td>\n",
              "    </tr>\n",
              "    <tr>\n",
              "      <th>8</th>\n",
              "      <td>Bean_Type_Rarity</td>\n",
              "      <td>9.059101</td>\n",
              "    </tr>\n",
              "    <tr>\n",
              "      <th>5</th>\n",
              "      <td>Bean Type</td>\n",
              "      <td>8.495514</td>\n",
              "    </tr>\n",
              "    <tr>\n",
              "      <th>1</th>\n",
              "      <td>Specific Bean Origin</td>\n",
              "      <td>7.444779</td>\n",
              "    </tr>\n",
              "    <tr>\n",
              "      <th>3</th>\n",
              "      <td>Review</td>\n",
              "      <td>3.460836</td>\n",
              "    </tr>\n",
              "    <tr>\n",
              "      <th>7</th>\n",
              "      <td>Bean Type_freq</td>\n",
              "      <td>1.777871</td>\n",
              "    </tr>\n",
              "  </tbody>\n",
              "</table>\n",
              "</div>\n",
              "    <div class=\"colab-df-buttons\">\n",
              "\n",
              "  <div class=\"colab-df-container\">\n",
              "    <button class=\"colab-df-convert\" onclick=\"convertToInteractive('df-deb7331d-e02c-4001-8688-97668b5d29d8')\"\n",
              "            title=\"Convert this dataframe to an interactive table.\"\n",
              "            style=\"display:none;\">\n",
              "\n",
              "  <svg xmlns=\"http://www.w3.org/2000/svg\" height=\"24px\" viewBox=\"0 -960 960 960\">\n",
              "    <path d=\"M120-120v-720h720v720H120Zm60-500h600v-160H180v160Zm220 220h160v-160H400v160Zm0 220h160v-160H400v160ZM180-400h160v-160H180v160Zm440 0h160v-160H620v160ZM180-180h160v-160H180v160Zm440 0h160v-160H620v160Z\"/>\n",
              "  </svg>\n",
              "    </button>\n",
              "\n",
              "  <style>\n",
              "    .colab-df-container {\n",
              "      display:flex;\n",
              "      gap: 12px;\n",
              "    }\n",
              "\n",
              "    .colab-df-convert {\n",
              "      background-color: #E8F0FE;\n",
              "      border: none;\n",
              "      border-radius: 50%;\n",
              "      cursor: pointer;\n",
              "      display: none;\n",
              "      fill: #1967D2;\n",
              "      height: 32px;\n",
              "      padding: 0 0 0 0;\n",
              "      width: 32px;\n",
              "    }\n",
              "\n",
              "    .colab-df-convert:hover {\n",
              "      background-color: #E2EBFA;\n",
              "      box-shadow: 0px 1px 2px rgba(60, 64, 67, 0.3), 0px 1px 3px 1px rgba(60, 64, 67, 0.15);\n",
              "      fill: #174EA6;\n",
              "    }\n",
              "\n",
              "    .colab-df-buttons div {\n",
              "      margin-bottom: 4px;\n",
              "    }\n",
              "\n",
              "    [theme=dark] .colab-df-convert {\n",
              "      background-color: #3B4455;\n",
              "      fill: #D2E3FC;\n",
              "    }\n",
              "\n",
              "    [theme=dark] .colab-df-convert:hover {\n",
              "      background-color: #434B5C;\n",
              "      box-shadow: 0px 1px 3px 1px rgba(0, 0, 0, 0.15);\n",
              "      filter: drop-shadow(0px 1px 2px rgba(0, 0, 0, 0.3));\n",
              "      fill: #FFFFFF;\n",
              "    }\n",
              "  </style>\n",
              "\n",
              "    <script>\n",
              "      const buttonEl =\n",
              "        document.querySelector('#df-deb7331d-e02c-4001-8688-97668b5d29d8 button.colab-df-convert');\n",
              "      buttonEl.style.display =\n",
              "        google.colab.kernel.accessAllowed ? 'block' : 'none';\n",
              "\n",
              "      async function convertToInteractive(key) {\n",
              "        const element = document.querySelector('#df-deb7331d-e02c-4001-8688-97668b5d29d8');\n",
              "        const dataTable =\n",
              "          await google.colab.kernel.invokeFunction('convertToInteractive',\n",
              "                                                    [key], {});\n",
              "        if (!dataTable) return;\n",
              "\n",
              "        const docLinkHtml = 'Like what you see? Visit the ' +\n",
              "          '<a target=\"_blank\" href=https://colab.research.google.com/notebooks/data_table.ipynb>data table notebook</a>'\n",
              "          + ' to learn more about interactive tables.';\n",
              "        element.innerHTML = '';\n",
              "        dataTable['output_type'] = 'display_data';\n",
              "        await google.colab.output.renderOutput(dataTable, element);\n",
              "        const docLink = document.createElement('div');\n",
              "        docLink.innerHTML = docLinkHtml;\n",
              "        element.appendChild(docLink);\n",
              "      }\n",
              "    </script>\n",
              "  </div>\n",
              "\n",
              "\n",
              "<div id=\"df-1e98417a-edc9-4fed-91d9-0d50b1d830b0\">\n",
              "  <button class=\"colab-df-quickchart\" onclick=\"quickchart('df-1e98417a-edc9-4fed-91d9-0d50b1d830b0')\"\n",
              "            title=\"Suggest charts\"\n",
              "            style=\"display:none;\">\n",
              "\n",
              "<svg xmlns=\"http://www.w3.org/2000/svg\" height=\"24px\"viewBox=\"0 0 24 24\"\n",
              "     width=\"24px\">\n",
              "    <g>\n",
              "        <path d=\"M19 3H5c-1.1 0-2 .9-2 2v14c0 1.1.9 2 2 2h14c1.1 0 2-.9 2-2V5c0-1.1-.9-2-2-2zM9 17H7v-7h2v7zm4 0h-2V7h2v10zm4 0h-2v-4h2v4z\"/>\n",
              "    </g>\n",
              "</svg>\n",
              "  </button>\n",
              "\n",
              "<style>\n",
              "  .colab-df-quickchart {\n",
              "      --bg-color: #E8F0FE;\n",
              "      --fill-color: #1967D2;\n",
              "      --hover-bg-color: #E2EBFA;\n",
              "      --hover-fill-color: #174EA6;\n",
              "      --disabled-fill-color: #AAA;\n",
              "      --disabled-bg-color: #DDD;\n",
              "  }\n",
              "\n",
              "  [theme=dark] .colab-df-quickchart {\n",
              "      --bg-color: #3B4455;\n",
              "      --fill-color: #D2E3FC;\n",
              "      --hover-bg-color: #434B5C;\n",
              "      --hover-fill-color: #FFFFFF;\n",
              "      --disabled-bg-color: #3B4455;\n",
              "      --disabled-fill-color: #666;\n",
              "  }\n",
              "\n",
              "  .colab-df-quickchart {\n",
              "    background-color: var(--bg-color);\n",
              "    border: none;\n",
              "    border-radius: 50%;\n",
              "    cursor: pointer;\n",
              "    display: none;\n",
              "    fill: var(--fill-color);\n",
              "    height: 32px;\n",
              "    padding: 0;\n",
              "    width: 32px;\n",
              "  }\n",
              "\n",
              "  .colab-df-quickchart:hover {\n",
              "    background-color: var(--hover-bg-color);\n",
              "    box-shadow: 0 1px 2px rgba(60, 64, 67, 0.3), 0 1px 3px 1px rgba(60, 64, 67, 0.15);\n",
              "    fill: var(--button-hover-fill-color);\n",
              "  }\n",
              "\n",
              "  .colab-df-quickchart-complete:disabled,\n",
              "  .colab-df-quickchart-complete:disabled:hover {\n",
              "    background-color: var(--disabled-bg-color);\n",
              "    fill: var(--disabled-fill-color);\n",
              "    box-shadow: none;\n",
              "  }\n",
              "\n",
              "  .colab-df-spinner {\n",
              "    border: 2px solid var(--fill-color);\n",
              "    border-color: transparent;\n",
              "    border-bottom-color: var(--fill-color);\n",
              "    animation:\n",
              "      spin 1s steps(1) infinite;\n",
              "  }\n",
              "\n",
              "  @keyframes spin {\n",
              "    0% {\n",
              "      border-color: transparent;\n",
              "      border-bottom-color: var(--fill-color);\n",
              "      border-left-color: var(--fill-color);\n",
              "    }\n",
              "    20% {\n",
              "      border-color: transparent;\n",
              "      border-left-color: var(--fill-color);\n",
              "      border-top-color: var(--fill-color);\n",
              "    }\n",
              "    30% {\n",
              "      border-color: transparent;\n",
              "      border-left-color: var(--fill-color);\n",
              "      border-top-color: var(--fill-color);\n",
              "      border-right-color: var(--fill-color);\n",
              "    }\n",
              "    40% {\n",
              "      border-color: transparent;\n",
              "      border-right-color: var(--fill-color);\n",
              "      border-top-color: var(--fill-color);\n",
              "    }\n",
              "    60% {\n",
              "      border-color: transparent;\n",
              "      border-right-color: var(--fill-color);\n",
              "    }\n",
              "    80% {\n",
              "      border-color: transparent;\n",
              "      border-right-color: var(--fill-color);\n",
              "      border-bottom-color: var(--fill-color);\n",
              "    }\n",
              "    90% {\n",
              "      border-color: transparent;\n",
              "      border-bottom-color: var(--fill-color);\n",
              "    }\n",
              "  }\n",
              "</style>\n",
              "\n",
              "  <script>\n",
              "    async function quickchart(key) {\n",
              "      const quickchartButtonEl =\n",
              "        document.querySelector('#' + key + ' button');\n",
              "      quickchartButtonEl.disabled = true;  // To prevent multiple clicks.\n",
              "      quickchartButtonEl.classList.add('colab-df-spinner');\n",
              "      try {\n",
              "        const charts = await google.colab.kernel.invokeFunction(\n",
              "            'suggestCharts', [key], {});\n",
              "      } catch (error) {\n",
              "        console.error('Error during call to suggestCharts:', error);\n",
              "      }\n",
              "      quickchartButtonEl.classList.remove('colab-df-spinner');\n",
              "      quickchartButtonEl.classList.add('colab-df-quickchart-complete');\n",
              "    }\n",
              "    (() => {\n",
              "      let quickchartButtonEl =\n",
              "        document.querySelector('#df-1e98417a-edc9-4fed-91d9-0d50b1d830b0 button');\n",
              "      quickchartButtonEl.style.display =\n",
              "        google.colab.kernel.accessAllowed ? 'block' : 'none';\n",
              "    })();\n",
              "  </script>\n",
              "</div>\n",
              "    </div>\n",
              "  </div>\n"
            ],
            "application/vnd.google.colaboratory.intrinsic+json": {
              "type": "dataframe",
              "summary": "{\n  \"name\": \"              'importance': model\",\n  \"rows\": 9,\n  \"fields\": [\n    {\n      \"column\": \"feature_name\",\n      \"properties\": {\n        \"dtype\": \"string\",\n        \"num_unique_values\": 9,\n        \"samples\": [\n          \"Review\",\n          \"Broad Bean Origin\",\n          \"Bean Type\"\n        ],\n        \"semantic_type\": \"\",\n        \"description\": \"\"\n      }\n    },\n    {\n      \"column\": \"importance\",\n      \"properties\": {\n        \"dtype\": \"number\",\n        \"std\": 7.493343256744713,\n        \"min\": 1.7778706548932264,\n        \"max\": 26.808446920403057,\n        \"num_unique_values\": 9,\n        \"samples\": [\n          3.4608359032789173,\n          15.327817172418044,\n          8.495514371253703\n        ],\n        \"semantic_type\": \"\",\n        \"description\": \"\"\n      }\n    }\n  ]\n}"
            }
          },
          "metadata": {},
          "execution_count": 46
        }
      ]
    },
    {
      "cell_type": "markdown",
      "source": [
        "Видим, что новый признак `Bean Type_freq` имеет наименьшее влияние на модель, однако его удаление привело бы к ухудшению результатов."
      ],
      "metadata": {
        "id": "jdFs9_AtO44b"
      }
    },
    {
      "cell_type": "markdown",
      "source": [
        "Вывод:\n",
        "Были обосновано добавлены два новых признака на основе признака `Bean Type`: `Bean Type_freq` и `Bean_Type_Rarity`."
      ],
      "metadata": {
        "id": "xflz6HUTPEte"
      }
    },
    {
      "cell_type": "markdown",
      "source": [
        "## Построение Pipeline"
      ],
      "metadata": {
        "id": "iHKl79CH-I26"
      }
    },
    {
      "cell_type": "markdown",
      "source": [
        "Посмотрим на результаты обучения других моделей с использованием кодировщиков и масштабирования."
      ],
      "metadata": {
        "id": "NLct_Vu5SCLO"
      }
    },
    {
      "cell_type": "markdown",
      "source": [
        "План\n",
        "\n",
        "1. Для кодирования категориальных признаков будем использовать `Target Encoding` и `Ordinal Encoding` (из-за большого числа уникальных значений).\n",
        "2. Для масштабирования признаков используем `StandardScaler` и `MinMaxScaler`.\n",
        "3. Рассмотрим пайплайны с построением новых признаков с помощью `PolynomialsFeatures` и без.\n",
        "4. Используем линеную модель, случайный лес и бустинг `XGBoost`."
      ],
      "metadata": {
        "id": "rizmQQHx-TS-"
      }
    },
    {
      "cell_type": "code",
      "source": [
        "!pip install category_encoders -q\n",
        "!pip install xgboost -q"
      ],
      "metadata": {
        "id": "4az1bYiiDcf4",
        "colab": {
          "base_uri": "https://localhost:8080/"
        },
        "outputId": "b804c448-b340-4b4b-88f9-99a9b44597d6"
      },
      "execution_count": null,
      "outputs": [
        {
          "output_type": "stream",
          "name": "stdout",
          "text": [
            "\u001b[?25l     \u001b[90m━━━━━━━━━━━━━━━━━━━━━━━━━━━━━━━━━━━━━━━━\u001b[0m \u001b[32m0.0/81.9 kB\u001b[0m \u001b[31m?\u001b[0m eta \u001b[36m-:--:--\u001b[0m\r\u001b[2K     \u001b[90m━━━━━━━━━━━━━━━━━━━━━━━━━━━━━━━━━━━━━━━━\u001b[0m \u001b[32m81.9/81.9 kB\u001b[0m \u001b[31m2.2 MB/s\u001b[0m eta \u001b[36m0:00:00\u001b[0m\n",
            "\u001b[?25h"
          ]
        }
      ]
    },
    {
      "cell_type": "code",
      "source": [
        "from category_encoders.ordinal import OrdinalEncoder\n",
        "from category_encoders.target_encoder import TargetEncoder\n",
        "from sklearn.pipeline import Pipeline\n",
        "from sklearn.preprocessing import StandardScaler, MinMaxScaler, PolynomialFeatures\n",
        "from sklearn.ensemble import RandomForestRegressor\n",
        "from sklearn.linear_model import LinearRegression\n",
        "from xgboost import XGBRegressor"
      ],
      "metadata": {
        "id": "6TQgv8zYD0si"
      },
      "execution_count": null,
      "outputs": []
    },
    {
      "cell_type": "markdown",
      "source": [
        "Напишем функцию для построения `Pipeline` в зависимости от применяемых шагов и функцию получения среднего значения метрики `r2` для заданного пайплайна."
      ],
      "metadata": {
        "id": "7Ujden25Hr34"
      }
    },
    {
      "cell_type": "code",
      "source": [
        "def make_pipeline(enc, scaler, model, make_features=False):\n",
        "    if make_features:\n",
        "        my_pipeline = Pipeline([\n",
        "            ('encoder', enc),\n",
        "            ('features', PolynomialFeatures()),\n",
        "            ('scaler', scaler),\n",
        "            ('model', model)\n",
        "            ])\n",
        "    else:\n",
        "        my_pipeline = Pipeline([\n",
        "              ('encoder', enc),\n",
        "              ('scaler', scaler),\n",
        "              ('model', model)\n",
        "              ])\n",
        "\n",
        "    return my_pipeline\n",
        "\n",
        "\n",
        "def scores_from_pl(pl, X, y):\n",
        "    scores = cross_val_score(pl, X, y, cv=5, scoring='r2')\n",
        "    return scores.mean(), scores.std()"
      ],
      "metadata": {
        "id": "cr5rzZFVH41M"
      },
      "execution_count": null,
      "outputs": []
    },
    {
      "cell_type": "markdown",
      "source": [
        "Рассмотрим результаты всех возможных комбинаций обработчиков признаков и моделей."
      ],
      "metadata": {
        "id": "CbHpT_7Sn0rE"
      }
    },
    {
      "cell_type": "code",
      "source": [
        "from itertools import product\n",
        "\n",
        "cat_cols = [col for col in X_train.columns if X_train[col].dtype == 'object']\n",
        "\n",
        "encoders = [TargetEncoder(cols=cat_cols), OrdinalEncoder(cols=cat_cols)]\n",
        "scalers = [StandardScaler(), MinMaxScaler()]\n",
        "models = [LinearRegression(), RandomForestRegressor(), XGBRegressor()]\n",
        "add_features = [False, True]\n",
        "\n",
        "for i, clfs in enumerate(product(encoders, scalers, models, add_features), start=1):\n",
        "    encoder, scaler, model, add_feature = clfs\n",
        "    pl = make_pipeline(*clfs)\n",
        "    mean_r2, std_r2 = scores_from_pl(pl, X_train, y_train)\n",
        "    print(f'{i}: Средний r2: {mean_r2}\\nSTD r2: {std_r2}\\nКодировщик: {encoder.__str__}\\nМасштабирование: \\\n",
        "              {scaler}\\nДобавили признаки: {add_feature}\\nМодель: {model.__str__}\\n')"
      ],
      "metadata": {
        "collapsed": true,
        "id": "VI410cl5JRCl",
        "colab": {
          "base_uri": "https://localhost:8080/"
        },
        "outputId": "1b02fe7a-4d87-4933-9246-9cafb6bb272e"
      },
      "execution_count": null,
      "outputs": [
        {
          "output_type": "stream",
          "name": "stdout",
          "text": [
            "1: Средний r2: 0.04503839089815713\n",
            "STD r2: 0.06225816821372924\n",
            "Кодировщик: <method-wrapper '__str__' of TargetEncoder object at 0x786db7cf3370>\n",
            "Масштабирование:               StandardScaler()\n",
            "Добавили признаки: False\n",
            "Модель: <method-wrapper '__str__' of LinearRegression object at 0x786db52d5a20>\n",
            "\n",
            "2: Средний r2: 0.04098547961801287\n",
            "STD r2: 0.05017148690016039\n",
            "Кодировщик: <method-wrapper '__str__' of TargetEncoder object at 0x786db7cf3370>\n",
            "Масштабирование:               StandardScaler()\n",
            "Добавили признаки: True\n",
            "Модель: <method-wrapper '__str__' of LinearRegression object at 0x786db52d5a20>\n",
            "\n",
            "3: Средний r2: -0.0057100259819996115\n",
            "STD r2: 0.046723658119787626\n",
            "Кодировщик: <method-wrapper '__str__' of TargetEncoder object at 0x786db7cf3370>\n",
            "Масштабирование:               StandardScaler()\n",
            "Добавили признаки: False\n",
            "Модель: <method-wrapper '__str__' of RandomForestRegressor object at 0x786db52d7250>\n",
            "\n",
            "4: Средний r2: 0.025528071681407517\n",
            "STD r2: 0.04922107118569356\n",
            "Кодировщик: <method-wrapper '__str__' of TargetEncoder object at 0x786db7cf3370>\n",
            "Масштабирование:               StandardScaler()\n",
            "Добавили признаки: True\n",
            "Модель: <method-wrapper '__str__' of RandomForestRegressor object at 0x786db52d7250>\n",
            "\n",
            "5: Средний r2: -0.05833442491230112\n",
            "STD r2: 0.0374478949734522\n",
            "Кодировщик: <method-wrapper '__str__' of TargetEncoder object at 0x786db7cf3370>\n",
            "Масштабирование:               StandardScaler()\n",
            "Добавили признаки: False\n",
            "Модель: <method-wrapper '__str__' of XGBRegressor object at 0x786db52d7070>\n",
            "\n",
            "6: Средний r2: 0.004575233947467705\n",
            "STD r2: 0.06228429912289527\n",
            "Кодировщик: <method-wrapper '__str__' of TargetEncoder object at 0x786db7cf3370>\n",
            "Масштабирование:               StandardScaler()\n",
            "Добавили признаки: True\n",
            "Модель: <method-wrapper '__str__' of XGBRegressor object at 0x786db52d7070>\n",
            "\n",
            "7: Средний r2: 0.04503839089815633\n",
            "STD r2: 0.06225816821372974\n",
            "Кодировщик: <method-wrapper '__str__' of TargetEncoder object at 0x786db7cf3370>\n",
            "Масштабирование:               MinMaxScaler()\n",
            "Добавили признаки: False\n",
            "Модель: <method-wrapper '__str__' of LinearRegression object at 0x786db52d5a20>\n",
            "\n",
            "8: Средний r2: 0.04155814061879517\n",
            "STD r2: 0.04993755214067385\n",
            "Кодировщик: <method-wrapper '__str__' of TargetEncoder object at 0x786db7cf3370>\n",
            "Масштабирование:               MinMaxScaler()\n",
            "Добавили признаки: True\n",
            "Модель: <method-wrapper '__str__' of LinearRegression object at 0x786db52d5a20>\n",
            "\n",
            "9: Средний r2: 0.0054736318865923565\n",
            "STD r2: 0.05805550970901983\n",
            "Кодировщик: <method-wrapper '__str__' of TargetEncoder object at 0x786db7cf3370>\n",
            "Масштабирование:               MinMaxScaler()\n",
            "Добавили признаки: False\n",
            "Модель: <method-wrapper '__str__' of RandomForestRegressor object at 0x786db52d7250>\n",
            "\n",
            "10: Средний r2: 0.024839639789094113\n",
            "STD r2: 0.05174964927981354\n",
            "Кодировщик: <method-wrapper '__str__' of TargetEncoder object at 0x786db7cf3370>\n",
            "Масштабирование:               MinMaxScaler()\n",
            "Добавили признаки: True\n",
            "Модель: <method-wrapper '__str__' of RandomForestRegressor object at 0x786db52d7250>\n",
            "\n",
            "11: Средний r2: -0.05833442491230112\n",
            "STD r2: 0.0374478949734522\n",
            "Кодировщик: <method-wrapper '__str__' of TargetEncoder object at 0x786db7cf3370>\n",
            "Масштабирование:               MinMaxScaler()\n",
            "Добавили признаки: False\n",
            "Модель: <method-wrapper '__str__' of XGBRegressor object at 0x786db52d7070>\n",
            "\n",
            "12: Средний r2: 0.004575233947467705\n",
            "STD r2: 0.06228429912289527\n",
            "Кодировщик: <method-wrapper '__str__' of TargetEncoder object at 0x786db7cf3370>\n",
            "Масштабирование:               MinMaxScaler()\n",
            "Добавили признаки: True\n",
            "Модель: <method-wrapper '__str__' of XGBRegressor object at 0x786db52d7070>\n",
            "\n",
            "13: Средний r2: -0.022791357317930673\n",
            "STD r2: 0.030967723469642647\n",
            "Кодировщик: <method-wrapper '__str__' of OrdinalEncoder object at 0x786db52d6a40>\n",
            "Масштабирование:               StandardScaler()\n",
            "Добавили признаки: False\n",
            "Модель: <method-wrapper '__str__' of LinearRegression object at 0x786db52d5a20>\n",
            "\n",
            "14: Средний r2: -0.07950528300452883\n",
            "STD r2: 0.0883033593405787\n",
            "Кодировщик: <method-wrapper '__str__' of OrdinalEncoder object at 0x786db52d6a40>\n",
            "Масштабирование:               StandardScaler()\n",
            "Добавили признаки: True\n",
            "Модель: <method-wrapper '__str__' of LinearRegression object at 0x786db52d5a20>\n",
            "\n",
            "15: Средний r2: -0.009202051667660282\n",
            "STD r2: 0.017999421542934973\n",
            "Кодировщик: <method-wrapper '__str__' of OrdinalEncoder object at 0x786db52d6a40>\n",
            "Масштабирование:               StandardScaler()\n",
            "Добавили признаки: False\n",
            "Модель: <method-wrapper '__str__' of RandomForestRegressor object at 0x786db52d7250>\n",
            "\n",
            "16: Средний r2: -0.04013829373299236\n",
            "STD r2: 0.0627016468449472\n",
            "Кодировщик: <method-wrapper '__str__' of OrdinalEncoder object at 0x786db52d6a40>\n",
            "Масштабирование:               StandardScaler()\n",
            "Добавили признаки: True\n",
            "Модель: <method-wrapper '__str__' of RandomForestRegressor object at 0x786db52d7250>\n",
            "\n",
            "17: Средний r2: -0.15740302145342397\n",
            "STD r2: 0.08729837484791195\n",
            "Кодировщик: <method-wrapper '__str__' of OrdinalEncoder object at 0x786db52d6a40>\n",
            "Масштабирование:               StandardScaler()\n",
            "Добавили признаки: False\n",
            "Модель: <method-wrapper '__str__' of XGBRegressor object at 0x786db52d7070>\n",
            "\n",
            "18: Средний r2: -0.15987998728143954\n",
            "STD r2: 0.1479116611868045\n",
            "Кодировщик: <method-wrapper '__str__' of OrdinalEncoder object at 0x786db52d6a40>\n",
            "Масштабирование:               StandardScaler()\n",
            "Добавили признаки: True\n",
            "Модель: <method-wrapper '__str__' of XGBRegressor object at 0x786db52d7070>\n",
            "\n",
            "19: Средний r2: -0.02279135731793065\n",
            "STD r2: 0.030967723469642536\n",
            "Кодировщик: <method-wrapper '__str__' of OrdinalEncoder object at 0x786db52d6a40>\n",
            "Масштабирование:               MinMaxScaler()\n",
            "Добавили признаки: False\n",
            "Модель: <method-wrapper '__str__' of LinearRegression object at 0x786db52d5a20>\n",
            "\n",
            "20: Средний r2: -0.07562472376733428\n",
            "STD r2: 0.0904778486683028\n",
            "Кодировщик: <method-wrapper '__str__' of OrdinalEncoder object at 0x786db52d6a40>\n",
            "Масштабирование:               MinMaxScaler()\n",
            "Добавили признаки: True\n",
            "Модель: <method-wrapper '__str__' of LinearRegression object at 0x786db52d5a20>\n",
            "\n",
            "21: Средний r2: -0.008546434159260197\n",
            "STD r2: 0.03280291821192133\n",
            "Кодировщик: <method-wrapper '__str__' of OrdinalEncoder object at 0x786db52d6a40>\n",
            "Масштабирование:               MinMaxScaler()\n",
            "Добавили признаки: False\n",
            "Модель: <method-wrapper '__str__' of RandomForestRegressor object at 0x786db52d7250>\n",
            "\n",
            "22: Средний r2: -0.015897662661860944\n",
            "STD r2: 0.0418406187833977\n",
            "Кодировщик: <method-wrapper '__str__' of OrdinalEncoder object at 0x786db52d6a40>\n",
            "Масштабирование:               MinMaxScaler()\n",
            "Добавили признаки: True\n",
            "Модель: <method-wrapper '__str__' of RandomForestRegressor object at 0x786db52d7250>\n",
            "\n",
            "23: Средний r2: -0.15740302145342397\n",
            "STD r2: 0.08729837484791195\n",
            "Кодировщик: <method-wrapper '__str__' of OrdinalEncoder object at 0x786db52d6a40>\n",
            "Масштабирование:               MinMaxScaler()\n",
            "Добавили признаки: False\n",
            "Модель: <method-wrapper '__str__' of XGBRegressor object at 0x786db52d7070>\n",
            "\n",
            "24: Средний r2: -0.15987998728143954\n",
            "STD r2: 0.1479116611868045\n",
            "Кодировщик: <method-wrapper '__str__' of OrdinalEncoder object at 0x786db52d6a40>\n",
            "Масштабирование:               MinMaxScaler()\n",
            "Добавили признаки: True\n",
            "Модель: <method-wrapper '__str__' of XGBRegressor object at 0x786db52d7070>\n",
            "\n"
          ]
        }
      ]
    },
    {
      "cell_type": "markdown",
      "source": [
        "Ни один из пайплайнов не показал себя лучше, чем модель `CatBoostRegressor` со встроенной кодировкой."
      ],
      "metadata": {
        "id": "Q0pTD7-loMva"
      }
    },
    {
      "cell_type": "markdown",
      "source": [
        "## Улучшение модели"
      ],
      "metadata": {
        "id": "Ni840rPy43jU"
      }
    },
    {
      "cell_type": "markdown",
      "source": [
        "Улучшим модель, подобрав гиперпараметры.\n",
        "\n",
        "Используем фреймворк `Optuna` для поиска наилучших значений гиперпараметров"
      ],
      "metadata": {
        "id": "VMj-qSISyMZG"
      }
    },
    {
      "cell_type": "code",
      "source": [
        "!pip install optuna -q"
      ],
      "metadata": {
        "id": "G6ovzNIIq8BI",
        "colab": {
          "base_uri": "https://localhost:8080/"
        },
        "outputId": "2ff341e4-6087-494a-e578-e1e69d0b46d3"
      },
      "execution_count": null,
      "outputs": [
        {
          "output_type": "stream",
          "name": "stdout",
          "text": [
            "\u001b[2K     \u001b[90m━━━━━━━━━━━━━━━━━━━━━━━━━━━━━━━━━━━━━━━━\u001b[0m \u001b[32m380.1/380.1 kB\u001b[0m \u001b[31m8.6 MB/s\u001b[0m eta \u001b[36m0:00:00\u001b[0m\n",
            "\u001b[2K     \u001b[90m━━━━━━━━━━━━━━━━━━━━━━━━━━━━━━━━━━━━━━━━\u001b[0m \u001b[32m233.0/233.0 kB\u001b[0m \u001b[31m18.7 MB/s\u001b[0m eta \u001b[36m0:00:00\u001b[0m\n",
            "\u001b[2K     \u001b[90m━━━━━━━━━━━━━━━━━━━━━━━━━━━━━━━━━━━━━━━━\u001b[0m \u001b[32m78.6/78.6 kB\u001b[0m \u001b[31m5.6 MB/s\u001b[0m eta \u001b[36m0:00:00\u001b[0m\n",
            "\u001b[?25h"
          ]
        }
      ]
    },
    {
      "cell_type": "markdown",
      "source": [
        "Подберём количество деревьев, максимальную глубину деревьев, скорость обучения и коэффициент L2-регуляризации."
      ],
      "metadata": {
        "id": "N2HNnDZqToKh"
      }
    },
    {
      "cell_type": "code",
      "source": [
        "import optuna\n",
        "\n",
        "\n",
        "X_train_new, X_val, y_train_new, y_val = train_test_split(X_train, y_train, test_size=0.2, random_state=RANDOM_STATE)\n",
        "\n",
        "cat_cols = [col for col in X_train.columns if X_train[col].dtype == 'object']\n",
        "\n",
        "def objective(trial):\n",
        "\n",
        "    params = {\n",
        "        \"n_estimators\": trial.suggest_int(\"n_estimators\", 500, 2000),\n",
        "        \"max_depth\": trial.suggest_int(\"max_depth\", 4, 9),\n",
        "        \"learning_rate\": trial.suggest_float(\"learning_rate\", 0.001, 0.06),\n",
        "        \"l2_leaf_reg\": trial.suggest_float(\"l2_leaf_reg\", 2, 6)\n",
        "    }\n",
        "\n",
        "    estimator = CatBoostRegressor(**params,\n",
        "                                  cat_features=cat_cols,\n",
        "                                  verbose=False, random_state=RANDOM_STATE)\n",
        "\n",
        "    # estimator.fit(X_train_new, y_train_new)\n",
        "    # y_pred = estimator.predict(X_val)\n",
        "\n",
        "    scores = cross_val_score(estimator, X_train, y_train, cv=5, scoring='r2')\n",
        "\n",
        "    return scores.mean()  #  r2_score(y_val, y_pred)\n",
        "\n",
        "study = optuna.create_study(direction=\"maximize\")\n",
        "study.optimize(objective, n_trials=200)\n",
        "print(study.best_trial)"
      ],
      "metadata": {
        "id": "QGV0TmU16oKZ",
        "colab": {
          "base_uri": "https://localhost:8080/"
        },
        "outputId": "9f8f7115-6351-4ff0-892b-66fb87257d14",
        "collapsed": true
      },
      "execution_count": null,
      "outputs": [
        {
          "output_type": "stream",
          "name": "stderr",
          "text": [
            "[I 2024-07-09 11:13:02,062] A new study created in memory with name: no-name-5a27fb41-feb7-47ec-b8dc-9853120b4976\n",
            "[I 2024-07-09 11:16:21,106] Trial 0 finished with value: 0.17263599444278152 and parameters: {'n_estimators': 1970, 'max_depth': 9, 'learning_rate': 0.0075838152403767045, 'l2_leaf_reg': 2.292080472467352}. Best is trial 0 with value: 0.17263599444278152.\n",
            "[I 2024-07-09 11:17:05,866] Trial 1 finished with value: 0.1321960378074949 and parameters: {'n_estimators': 1538, 'max_depth': 7, 'learning_rate': 0.04317265030241986, 'l2_leaf_reg': 4.297339035836838}. Best is trial 0 with value: 0.17263599444278152.\n",
            "[I 2024-07-09 11:17:38,517] Trial 2 finished with value: 0.17721490948076773 and parameters: {'n_estimators': 1606, 'max_depth': 6, 'learning_rate': 0.01515969589034422, 'l2_leaf_reg': 3.2993397538841203}. Best is trial 2 with value: 0.17721490948076773.\n",
            "[I 2024-07-09 11:18:34,191] Trial 3 finished with value: 0.15142202538766927 and parameters: {'n_estimators': 1882, 'max_depth': 7, 'learning_rate': 0.024152593995080813, 'l2_leaf_reg': 2.988430162762396}. Best is trial 2 with value: 0.17721490948076773.\n",
            "[I 2024-07-09 11:18:47,108] Trial 4 finished with value: 0.174103354983911 and parameters: {'n_estimators': 945, 'max_depth': 5, 'learning_rate': 0.04998168909139688, 'l2_leaf_reg': 5.017377160035529}. Best is trial 2 with value: 0.17721490948076773.\n",
            "[I 2024-07-09 11:19:30,047] Trial 5 finished with value: 0.16413183316147864 and parameters: {'n_estimators': 956, 'max_depth': 8, 'learning_rate': 0.030961150617316944, 'l2_leaf_reg': 5.441497485046112}. Best is trial 2 with value: 0.17721490948076773.\n",
            "[I 2024-07-09 11:20:55,397] Trial 6 finished with value: 0.1744897941463393 and parameters: {'n_estimators': 987, 'max_depth': 9, 'learning_rate': 0.0069401287476831604, 'l2_leaf_reg': 3.9783425227962526}. Best is trial 2 with value: 0.17721490948076773.\n",
            "[I 2024-07-09 11:21:51,974] Trial 7 finished with value: 0.18045908615700984 and parameters: {'n_estimators': 1317, 'max_depth': 8, 'learning_rate': 0.011109075803077417, 'l2_leaf_reg': 3.7379810273858287}. Best is trial 7 with value: 0.18045908615700984.\n",
            "[I 2024-07-09 11:22:16,214] Trial 8 finished with value: 0.1671681707526346 and parameters: {'n_estimators': 1725, 'max_depth': 5, 'learning_rate': 0.02343128982256531, 'l2_leaf_reg': 2.010022398579528}. Best is trial 7 with value: 0.18045908615700984.\n",
            "[I 2024-07-09 11:22:45,532] Trial 9 finished with value: 0.153146986732112 and parameters: {'n_estimators': 1464, 'max_depth': 6, 'learning_rate': 0.04450920001906864, 'l2_leaf_reg': 5.842436734735911}. Best is trial 7 with value: 0.18045908615700984.\n",
            "[I 2024-07-09 11:23:36,020] Trial 10 finished with value: 0.12348220170211888 and parameters: {'n_estimators': 1253, 'max_depth': 8, 'learning_rate': 0.0012252100209750039, 'l2_leaf_reg': 4.486257719111984}. Best is trial 7 with value: 0.18045908615700984.\n",
            "[I 2024-07-09 11:23:49,041] Trial 11 finished with value: 0.17962734850611273 and parameters: {'n_estimators': 1343, 'max_depth': 4, 'learning_rate': 0.015948725584783996, 'l2_leaf_reg': 3.3406454922033384}. Best is trial 7 with value: 0.18045908615700984.\n",
            "[I 2024-07-09 11:23:54,331] Trial 12 finished with value: 0.17181880211994555 and parameters: {'n_estimators': 605, 'max_depth': 4, 'learning_rate': 0.016060735372390087, 'l2_leaf_reg': 3.562623933222932}. Best is trial 7 with value: 0.18045908615700984.\n",
            "[I 2024-07-09 11:24:07,164] Trial 13 finished with value: 0.1828237016928465 and parameters: {'n_estimators': 1279, 'max_depth': 4, 'learning_rate': 0.031012433306800903, 'l2_leaf_reg': 2.766899939239894}. Best is trial 13 with value: 0.1828237016928465.\n",
            "[I 2024-07-09 11:24:58,304] Trial 14 finished with value: 0.16049620451728788 and parameters: {'n_estimators': 1114, 'max_depth': 8, 'learning_rate': 0.03423837745518845, 'l2_leaf_reg': 2.756546455793517}. Best is trial 13 with value: 0.1828237016928465.\n",
            "[I 2024-07-09 11:25:09,000] Trial 15 finished with value: 0.17548048875493044 and parameters: {'n_estimators': 740, 'max_depth': 5, 'learning_rate': 0.037793326792953164, 'l2_leaf_reg': 2.6205847273543244}. Best is trial 13 with value: 0.1828237016928465.\n",
            "[I 2024-07-09 11:25:50,766] Trial 16 finished with value: 0.13458949918423402 and parameters: {'n_estimators': 1341, 'max_depth': 7, 'learning_rate': 0.05675645772120034, 'l2_leaf_reg': 3.906015755423753}. Best is trial 13 with value: 0.1828237016928465.\n",
            "[I 2024-07-09 11:26:13,903] Trial 17 finished with value: 0.17199197661432505 and parameters: {'n_estimators': 1179, 'max_depth': 6, 'learning_rate': 0.024604637878258704, 'l2_leaf_reg': 4.731050003170087}. Best is trial 13 with value: 0.1828237016928465.\n",
            "[I 2024-07-09 11:27:28,774] Trial 18 finished with value: 0.14876098594574577 and parameters: {'n_estimators': 1679, 'max_depth': 8, 'learning_rate': 0.028134105670329004, 'l2_leaf_reg': 3.056097858973299}. Best is trial 13 with value: 0.1828237016928465.\n",
            "[I 2024-07-09 11:27:42,655] Trial 19 finished with value: 0.16627113168194765 and parameters: {'n_estimators': 1426, 'max_depth': 4, 'learning_rate': 0.03898174771782567, 'l2_leaf_reg': 3.7110326063299306}. Best is trial 13 with value: 0.1828237016928465.\n",
            "[I 2024-07-09 11:28:53,183] Trial 20 finished with value: 0.17938648627791073 and parameters: {'n_estimators': 799, 'max_depth': 9, 'learning_rate': 0.010460801179337233, 'l2_leaf_reg': 2.4835815012124094}. Best is trial 13 with value: 0.1828237016928465.\n",
            "[I 2024-07-09 11:29:05,607] Trial 21 finished with value: 0.1777929094648348 and parameters: {'n_estimators': 1306, 'max_depth': 4, 'learning_rate': 0.01623260393551857, 'l2_leaf_reg': 3.3369570936534765}. Best is trial 13 with value: 0.1828237016928465.\n",
            "[I 2024-07-09 11:29:20,507] Trial 22 finished with value: 0.18262012630643482 and parameters: {'n_estimators': 1106, 'max_depth': 5, 'learning_rate': 0.01933723799707378, 'l2_leaf_reg': 3.1472381183506393}. Best is trial 13 with value: 0.1828237016928465.\n",
            "[I 2024-07-09 11:29:35,371] Trial 23 finished with value: 0.1780667143586215 and parameters: {'n_estimators': 1110, 'max_depth': 5, 'learning_rate': 0.02126285320795321, 'l2_leaf_reg': 2.8921374917926994}. Best is trial 13 with value: 0.1828237016928465.\n",
            "[I 2024-07-09 11:29:48,436] Trial 24 finished with value: 0.13634759964177104 and parameters: {'n_estimators': 1038, 'max_depth': 5, 'learning_rate': 0.0020475530844859847, 'l2_leaf_reg': 3.5528974396090667}. Best is trial 13 with value: 0.1828237016928465.\n",
            "[I 2024-07-09 11:29:57,164] Trial 25 finished with value: 0.1801361544402414 and parameters: {'n_estimators': 844, 'max_depth': 4, 'learning_rate': 0.01954674688160852, 'l2_leaf_reg': 2.267876734522022}. Best is trial 13 with value: 0.1828237016928465.\n",
            "[I 2024-07-09 11:30:20,615] Trial 26 finished with value: 0.17122814791598734 and parameters: {'n_estimators': 1207, 'max_depth': 6, 'learning_rate': 0.027959321324957292, 'l2_leaf_reg': 4.244368892266096}. Best is trial 13 with value: 0.1828237016928465.\n",
            "[I 2024-07-09 11:30:39,570] Trial 27 finished with value: 0.18071591474858056 and parameters: {'n_estimators': 1407, 'max_depth': 5, 'learning_rate': 0.010703347972743912, 'l2_leaf_reg': 3.1816134783071517}. Best is trial 13 with value: 0.1828237016928465.\n",
            "[I 2024-07-09 11:31:00,886] Trial 28 finished with value: 0.16711736249984752 and parameters: {'n_estimators': 1510, 'max_depth': 5, 'learning_rate': 0.03007873362933583, 'l2_leaf_reg': 3.081288823183005}. Best is trial 13 with value: 0.1828237016928465.\n",
            "[I 2024-07-09 11:31:14,529] Trial 29 finished with value: 0.17153001084855665 and parameters: {'n_estimators': 1406, 'max_depth': 4, 'learning_rate': 0.005658981143943603, 'l2_leaf_reg': 2.2362573896936606}. Best is trial 13 with value: 0.1828237016928465.\n",
            "[I 2024-07-09 11:31:38,014] Trial 30 finished with value: 0.1781986718697533 and parameters: {'n_estimators': 1806, 'max_depth': 5, 'learning_rate': 0.011022130510732767, 'l2_leaf_reg': 2.4993011207360953}. Best is trial 13 with value: 0.1828237016928465.\n",
            "[I 2024-07-09 11:31:59,908] Trial 31 finished with value: 0.18281785509151585 and parameters: {'n_estimators': 1137, 'max_depth': 6, 'learning_rate': 0.010157262789062614, 'l2_leaf_reg': 3.751421224068288}. Best is trial 13 with value: 0.1828237016928465.\n",
            "[I 2024-07-09 11:32:22,711] Trial 32 finished with value: 0.17926480907652526 and parameters: {'n_estimators': 1129, 'max_depth': 6, 'learning_rate': 0.019484653902361197, 'l2_leaf_reg': 3.223216209982705}. Best is trial 13 with value: 0.1828237016928465.\n",
            "[I 2024-07-09 11:32:52,970] Trial 33 finished with value: 0.17665666956253595 and parameters: {'n_estimators': 1555, 'max_depth': 6, 'learning_rate': 0.013232458173458974, 'l2_leaf_reg': 2.822238494985751}. Best is trial 13 with value: 0.1828237016928465.\n",
            "[I 2024-07-09 11:33:19,718] Trial 34 finished with value: 0.17921603960776225 and parameters: {'n_estimators': 1995, 'max_depth': 5, 'learning_rate': 0.005205908626317922, 'l2_leaf_reg': 3.560406077228119}. Best is trial 13 with value: 0.1828237016928465.\n",
            "[I 2024-07-09 11:33:34,259] Trial 35 finished with value: 0.1800998643579475 and parameters: {'n_estimators': 1066, 'max_depth': 5, 'learning_rate': 0.01873735694997436, 'l2_leaf_reg': 3.204917189734557}. Best is trial 13 with value: 0.1828237016928465.\n",
            "[I 2024-07-09 11:33:58,267] Trial 36 finished with value: 0.17939378686238988 and parameters: {'n_estimators': 884, 'max_depth': 7, 'learning_rate': 0.009887897202654532, 'l2_leaf_reg': 4.129576922118185}. Best is trial 13 with value: 0.1828237016928465.\n",
            "[I 2024-07-09 11:34:23,566] Trial 37 finished with value: 0.1690961126386056 and parameters: {'n_estimators': 1246, 'max_depth': 6, 'learning_rate': 0.033517385046900855, 'l2_leaf_reg': 4.427505707213212}. Best is trial 13 with value: 0.1828237016928465.\n",
            "[I 2024-07-09 11:34:39,027] Trial 38 finished with value: 0.17108068740228788 and parameters: {'n_estimators': 1631, 'max_depth': 4, 'learning_rate': 0.026021206470081156, 'l2_leaf_reg': 2.6632281193599066}. Best is trial 13 with value: 0.1828237016928465.\n",
            "[I 2024-07-09 11:34:51,946] Trial 39 finished with value: 0.18083234538105242 and parameters: {'n_estimators': 977, 'max_depth': 5, 'learning_rate': 0.01358366683214669, 'l2_leaf_reg': 3.879680137755829}. Best is trial 13 with value: 0.1828237016928465.\n",
            "[I 2024-07-09 11:35:12,516] Trial 40 finished with value: 0.18095012689623294 and parameters: {'n_estimators': 1008, 'max_depth': 6, 'learning_rate': 0.021890508250354816, 'l2_leaf_reg': 3.8613447613763805}. Best is trial 13 with value: 0.1828237016928465.\n",
            "[I 2024-07-09 11:35:31,243] Trial 41 finished with value: 0.1799124541397207 and parameters: {'n_estimators': 992, 'max_depth': 6, 'learning_rate': 0.02191568776916661, 'l2_leaf_reg': 3.8604693775782284}. Best is trial 13 with value: 0.1828237016928465.\n",
            "[I 2024-07-09 11:35:59,463] Trial 42 finished with value: 0.18076284928020914 and parameters: {'n_estimators': 920, 'max_depth': 7, 'learning_rate': 0.01323276919966803, 'l2_leaf_reg': 4.010808879283019}. Best is trial 13 with value: 0.1828237016928465.\n",
            "[I 2024-07-09 11:36:27,184] Trial 43 finished with value: 0.1774516109320944 and parameters: {'n_estimators': 1021, 'max_depth': 7, 'learning_rate': 0.007849783152763403, 'l2_leaf_reg': 4.706285165503746}. Best is trial 13 with value: 0.1828237016928465.\n",
            "[I 2024-07-09 11:36:41,971] Trial 44 finished with value: 0.18351115344385066 and parameters: {'n_estimators': 761, 'max_depth': 6, 'learning_rate': 0.017840551297823675, 'l2_leaf_reg': 3.7172565410119924}. Best is trial 44 with value: 0.18351115344385066.\n",
            "[I 2024-07-09 11:36:52,096] Trial 45 finished with value: 0.17999373524600876 and parameters: {'n_estimators': 513, 'max_depth': 6, 'learning_rate': 0.01812106906094565, 'l2_leaf_reg': 3.4311987450883663}. Best is trial 44 with value: 0.18351115344385066.\n",
            "[I 2024-07-09 11:37:11,934] Trial 46 finished with value: 0.173773468503124 and parameters: {'n_estimators': 670, 'max_depth': 7, 'learning_rate': 0.02598375678292699, 'l2_leaf_reg': 3.710123167520326}. Best is trial 44 with value: 0.18351115344385066.\n",
            "[I 2024-07-09 11:37:27,618] Trial 47 finished with value: 0.1758298226547343 and parameters: {'n_estimators': 771, 'max_depth': 6, 'learning_rate': 0.03353026688535093, 'l2_leaf_reg': 2.9748374256647017}. Best is trial 44 with value: 0.18351115344385066.\n",
            "[I 2024-07-09 11:37:40,753] Trial 48 finished with value: 0.175005339255348 and parameters: {'n_estimators': 695, 'max_depth': 6, 'learning_rate': 0.02357897578780406, 'l2_leaf_reg': 4.142666267929294}. Best is trial 44 with value: 0.18351115344385066.\n",
            "[I 2024-07-09 11:37:56,859] Trial 49 finished with value: 0.17041055012239825 and parameters: {'n_estimators': 1197, 'max_depth': 5, 'learning_rate': 0.04554930229453941, 'l2_leaf_reg': 5.379093533698791}. Best is trial 44 with value: 0.18351115344385066.\n",
            "[I 2024-07-09 11:38:15,329] Trial 50 finished with value: 0.17149619201425198 and parameters: {'n_estimators': 897, 'max_depth': 6, 'learning_rate': 0.03673804594209393, 'l2_leaf_reg': 3.4564359979459436}. Best is trial 44 with value: 0.18351115344385066.\n",
            "[I 2024-07-09 11:38:30,857] Trial 51 finished with value: 0.18220945322506119 and parameters: {'n_estimators': 1091, 'max_depth': 5, 'learning_rate': 0.014482668354263168, 'l2_leaf_reg': 3.9317919290909007}. Best is trial 44 with value: 0.18351115344385066.\n",
            "[I 2024-07-09 11:38:41,492] Trial 52 finished with value: 0.1835081147953317 and parameters: {'n_estimators': 1143, 'max_depth': 4, 'learning_rate': 0.01679911814137253, 'l2_leaf_reg': 4.412058384153209}. Best is trial 44 with value: 0.18351115344385066.\n",
            "[I 2024-07-09 11:38:53,106] Trial 53 finished with value: 0.18024744390172698 and parameters: {'n_estimators': 1282, 'max_depth': 4, 'learning_rate': 0.01534781570692193, 'l2_leaf_reg': 4.823708005020169}. Best is trial 44 with value: 0.18351115344385066.\n",
            "[I 2024-07-09 11:39:04,361] Trial 54 finished with value: 0.1728766542013393 and parameters: {'n_estimators': 1137, 'max_depth': 4, 'learning_rate': 0.008289884831860671, 'l2_leaf_reg': 4.539426539026555}. Best is trial 44 with value: 0.18351115344385066.\n",
            "[I 2024-07-09 11:39:15,262] Trial 55 finished with value: 0.18299476495535696 and parameters: {'n_estimators': 1060, 'max_depth': 4, 'learning_rate': 0.017966233139267603, 'l2_leaf_reg': 5.198878893662364}. Best is trial 44 with value: 0.18351115344385066.\n",
            "[I 2024-07-09 11:39:27,376] Trial 56 finished with value: 0.18102988500191136 and parameters: {'n_estimators': 1196, 'max_depth': 4, 'learning_rate': 0.030418389791033236, 'l2_leaf_reg': 5.367839668755698}. Best is trial 44 with value: 0.18351115344385066.\n",
            "[I 2024-07-09 11:39:40,564] Trial 57 finished with value: 0.1819697501811405 and parameters: {'n_estimators': 1347, 'max_depth': 4, 'learning_rate': 0.016556352279353332, 'l2_leaf_reg': 5.8332030291366515}. Best is trial 44 with value: 0.18351115344385066.\n",
            "[I 2024-07-09 11:39:49,118] Trial 58 finished with value: 0.14045295722443857 and parameters: {'n_estimators': 838, 'max_depth': 4, 'learning_rate': 0.003315753368967087, 'l2_leaf_reg': 4.923380368920231}. Best is trial 44 with value: 0.18351115344385066.\n",
            "[I 2024-07-09 11:40:00,691] Trial 59 finished with value: 0.18511106717712 and parameters: {'n_estimators': 1168, 'max_depth': 4, 'learning_rate': 0.017514000218099596, 'l2_leaf_reg': 4.328336469551337}. Best is trial 59 with value: 0.18511106717712.\n",
            "[I 2024-07-09 11:40:12,858] Trial 60 finished with value: 0.1726963085536773 and parameters: {'n_estimators': 1253, 'max_depth': 4, 'learning_rate': 0.040761730321730735, 'l2_leaf_reg': 4.324299361750036}. Best is trial 59 with value: 0.18511106717712.\n",
            "[I 2024-07-09 11:40:23,650] Trial 61 finished with value: 0.18111782875314086 and parameters: {'n_estimators': 1159, 'max_depth': 4, 'learning_rate': 0.017107942472737878, 'l2_leaf_reg': 5.271640358053111}. Best is trial 59 with value: 0.18511106717712.\n",
            "[I 2024-07-09 11:40:36,985] Trial 62 finished with value: 0.18229843967941087 and parameters: {'n_estimators': 1371, 'max_depth': 4, 'learning_rate': 0.020468262508645647, 'l2_leaf_reg': 5.198893226075013}. Best is trial 59 with value: 0.18511106717712.\n",
            "[I 2024-07-09 11:40:48,222] Trial 63 finished with value: 0.1767125200018539 and parameters: {'n_estimators': 1070, 'max_depth': 4, 'learning_rate': 0.028068751731079283, 'l2_leaf_reg': 4.60127693346653}. Best is trial 59 with value: 0.18511106717712.\n",
            "[I 2024-07-09 11:41:01,011] Trial 64 finished with value: 0.16318940838348833 and parameters: {'n_estimators': 1236, 'max_depth': 4, 'learning_rate': 0.05848900154256743, 'l2_leaf_reg': 5.102627075503291}. Best is trial 59 with value: 0.18511106717712.\n",
            "[I 2024-07-09 11:41:22,812] Trial 65 finished with value: 0.18280142546388153 and parameters: {'n_estimators': 1481, 'max_depth': 5, 'learning_rate': 0.025266155405651514, 'l2_leaf_reg': 5.52352299349408}. Best is trial 59 with value: 0.18511106717712.\n",
            "[I 2024-07-09 11:41:37,224] Trial 66 finished with value: 0.1790010005888364 and parameters: {'n_estimators': 1461, 'max_depth': 4, 'learning_rate': 0.0248424429533976, 'l2_leaf_reg': 5.61036181084111}. Best is trial 59 with value: 0.18511106717712.\n",
            "[I 2024-07-09 11:41:55,007] Trial 67 finished with value: 0.17957570789721175 and parameters: {'n_estimators': 1307, 'max_depth': 5, 'learning_rate': 0.011913645927999346, 'l2_leaf_reg': 5.586537684861064}. Best is trial 59 with value: 0.18511106717712.\n",
            "[I 2024-07-09 11:42:10,507] Trial 68 finished with value: 0.17845213991557501 and parameters: {'n_estimators': 1528, 'max_depth': 4, 'learning_rate': 0.022212161878764528, 'l2_leaf_reg': 5.93194741749803}. Best is trial 59 with value: 0.18511106717712.\n",
            "[I 2024-07-09 11:42:27,624] Trial 69 finished with value: 0.17420786777359276 and parameters: {'n_estimators': 1163, 'max_depth': 5, 'learning_rate': 0.026230747192582622, 'l2_leaf_reg': 4.9640976828347645}. Best is trial 59 with value: 0.18511106717712.\n",
            "[I 2024-07-09 11:42:41,188] Trial 70 finished with value: 0.17520935565831794 and parameters: {'n_estimators': 952, 'max_depth': 5, 'learning_rate': 0.03189571294415923, 'l2_leaf_reg': 2.01415383028554}. Best is trial 59 with value: 0.18511106717712.\n",
            "[I 2024-07-09 11:42:52,673] Trial 71 finished with value: 0.18001879631958007 and parameters: {'n_estimators': 1100, 'max_depth': 4, 'learning_rate': 0.017715393347294762, 'l2_leaf_reg': 5.586014611513833}. Best is trial 59 with value: 0.18511106717712.\n",
            "[I 2024-07-09 11:43:07,289] Trial 72 finished with value: 0.17953971998445015 and parameters: {'n_estimators': 1050, 'max_depth': 5, 'learning_rate': 0.020048559697687082, 'l2_leaf_reg': 3.6404660005618394}. Best is trial 59 with value: 0.18511106717712.\n",
            "[I 2024-07-09 11:43:32,784] Trial 73 finished with value: 0.18341042369926644 and parameters: {'n_estimators': 1777, 'max_depth': 5, 'learning_rate': 0.015661544100773455, 'l2_leaf_reg': 4.360910621271784}. Best is trial 59 with value: 0.18511106717712.\n",
            "[I 2024-07-09 11:43:54,773] Trial 74 finished with value: 0.1799176414832075 and parameters: {'n_estimators': 1655, 'max_depth': 5, 'learning_rate': 0.008939610782001929, 'l2_leaf_reg': 4.425686369823384}. Best is trial 59 with value: 0.18511106717712.\n",
            "[I 2024-07-09 11:46:43,917] Trial 75 finished with value: 0.16421456384463606 and parameters: {'n_estimators': 1714, 'max_depth': 9, 'learning_rate': 0.015169409134648489, 'l2_leaf_reg': 4.259161223778819}. Best is trial 59 with value: 0.18511106717712.\n",
            "[I 2024-07-09 11:47:01,173] Trial 76 finished with value: 0.17803331138272377 and parameters: {'n_estimators': 1784, 'max_depth': 4, 'learning_rate': 0.011748546309318337, 'l2_leaf_reg': 4.128330246469977}. Best is trial 59 with value: 0.18511106717712.\n",
            "[I 2024-07-09 11:47:21,444] Trial 77 finished with value: 0.1779937087432652 and parameters: {'n_estimators': 1913, 'max_depth': 4, 'learning_rate': 0.006594747087532958, 'l2_leaf_reg': 4.036978002274454}. Best is trial 59 with value: 0.18511106717712.\n",
            "[I 2024-07-09 11:48:15,843] Trial 78 finished with value: 0.17654116538977946 and parameters: {'n_estimators': 1851, 'max_depth': 7, 'learning_rate': 0.013690652155767353, 'l2_leaf_reg': 4.666951369067364}. Best is trial 59 with value: 0.18511106717712.\n",
            "[I 2024-07-09 11:48:29,107] Trial 79 finished with value: 0.17604305580549534 and parameters: {'n_estimators': 1283, 'max_depth': 4, 'learning_rate': 0.023099327003248196, 'l2_leaf_reg': 4.856503940622221}. Best is trial 59 with value: 0.18511106717712.\n",
            "[I 2024-07-09 11:48:58,093] Trial 80 finished with value: 0.17697273525515073 and parameters: {'n_estimators': 1476, 'max_depth': 6, 'learning_rate': 0.01817358781448833, 'l2_leaf_reg': 5.051180143772134}. Best is trial 59 with value: 0.18511106717712.\n",
            "[I 2024-07-09 11:49:20,423] Trial 81 finished with value: 0.17854182141667443 and parameters: {'n_estimators': 1565, 'max_depth': 5, 'learning_rate': 0.019722940228398305, 'l2_leaf_reg': 4.370329527250853}. Best is trial 59 with value: 0.18511106717712.\n",
            "[I 2024-07-09 11:49:37,344] Trial 82 finished with value: 0.1810041038806554 and parameters: {'n_estimators': 1230, 'max_depth': 5, 'learning_rate': 0.016672622436963293, 'l2_leaf_reg': 3.7834661590569727}. Best is trial 59 with value: 0.18511106717712.\n",
            "[I 2024-07-09 11:49:52,730] Trial 83 finished with value: 0.17800772774380966 and parameters: {'n_estimators': 1129, 'max_depth': 5, 'learning_rate': 0.020996187619535592, 'l2_leaf_reg': 2.964140428694113}. Best is trial 59 with value: 0.18511106717712.\n",
            "[I 2024-07-09 11:50:03,602] Trial 84 finished with value: 0.1760970659718595 and parameters: {'n_estimators': 542, 'max_depth': 6, 'learning_rate': 0.015166134531769388, 'l2_leaf_reg': 2.51724403706763}. Best is trial 59 with value: 0.18511106717712.\n",
            "[I 2024-07-09 11:50:18,286] Trial 85 finished with value: 0.17860949350691943 and parameters: {'n_estimators': 1024, 'max_depth': 5, 'learning_rate': 0.01241163351243367, 'l2_leaf_reg': 3.1235644240892833}. Best is trial 59 with value: 0.18511106717712.\n",
            "[I 2024-07-09 11:50:35,685] Trial 86 finished with value: 0.1738889677729603 and parameters: {'n_estimators': 1608, 'max_depth': 4, 'learning_rate': 0.0245505149412386, 'l2_leaf_reg': 2.680086547328377}. Best is trial 59 with value: 0.18511106717712.\n",
            "[I 2024-07-09 11:50:58,238] Trial 87 finished with value: 0.18015908832424143 and parameters: {'n_estimators': 1173, 'max_depth': 6, 'learning_rate': 0.019011568217263523, 'l2_leaf_reg': 3.423458398272656}. Best is trial 59 with value: 0.18511106717712.\n",
            "[I 2024-07-09 11:51:08,654] Trial 88 finished with value: 0.1814556544446836 and parameters: {'n_estimators': 976, 'max_depth': 4, 'learning_rate': 0.02947013582637409, 'l2_leaf_reg': 4.164383020460192}. Best is trial 59 with value: 0.18511106717712.\n",
            "[I 2024-07-09 11:51:29,747] Trial 89 finished with value: 0.1512809554678128 and parameters: {'n_estimators': 1386, 'max_depth': 5, 'learning_rate': 0.05365102270740785, 'l2_leaf_reg': 4.500718530399497}. Best is trial 59 with value: 0.18511106717712.\n",
            "[I 2024-07-09 11:52:15,608] Trial 90 finished with value: 0.17755929718131425 and parameters: {'n_estimators': 1071, 'max_depth': 8, 'learning_rate': 0.01013739628223436, 'l2_leaf_reg': 3.6559294915182483}. Best is trial 59 with value: 0.18511106717712.\n",
            "[I 2024-07-09 11:52:29,065] Trial 91 finished with value: 0.18473662910799962 and parameters: {'n_estimators': 1366, 'max_depth': 4, 'learning_rate': 0.020810994120976423, 'l2_leaf_reg': 5.195551445430009}. Best is trial 59 with value: 0.18511106717712.\n",
            "[I 2024-07-09 11:52:42,643] Trial 92 finished with value: 0.17805070914888627 and parameters: {'n_estimators': 1334, 'max_depth': 4, 'learning_rate': 0.022721593188338576, 'l2_leaf_reg': 5.716968910487916}. Best is trial 59 with value: 0.18511106717712.\n",
            "[I 2024-07-09 11:52:55,515] Trial 93 finished with value: 0.1790803537946139 and parameters: {'n_estimators': 1277, 'max_depth': 4, 'learning_rate': 0.02095967184954963, 'l2_leaf_reg': 5.206961632973857}. Best is trial 59 with value: 0.18511106717712.\n",
            "[I 2024-07-09 11:53:07,737] Trial 94 finished with value: 0.18071903101888717 and parameters: {'n_estimators': 1201, 'max_depth': 4, 'learning_rate': 0.02668135901151644, 'l2_leaf_reg': 3.996755740542999}. Best is trial 59 with value: 0.18511106717712.\n",
            "[I 2024-07-09 11:53:21,874] Trial 95 finished with value: 0.17999918099949747 and parameters: {'n_estimators': 1446, 'max_depth': 4, 'learning_rate': 0.01820773465867936, 'l2_leaf_reg': 5.504768288573609}. Best is trial 59 with value: 0.18511106717712.\n",
            "[I 2024-07-09 11:53:37,516] Trial 96 finished with value: 0.18482547679680592 and parameters: {'n_estimators': 1147, 'max_depth': 5, 'learning_rate': 0.01627613926569752, 'l2_leaf_reg': 5.3291514573973}. Best is trial 59 with value: 0.18511106717712.\n",
            "[I 2024-07-09 11:54:06,537] Trial 97 finished with value: 0.1829316385377243 and parameters: {'n_estimators': 1418, 'max_depth': 6, 'learning_rate': 0.014164942998337642, 'l2_leaf_reg': 5.398350556460695}. Best is trial 59 with value: 0.18511106717712.\n",
            "[I 2024-07-09 11:54:29,289] Trial 98 finished with value: 0.18125695605888853 and parameters: {'n_estimators': 1146, 'max_depth': 6, 'learning_rate': 0.0142599500475388, 'l2_leaf_reg': 5.249269131468001}. Best is trial 59 with value: 0.18511106717712.\n",
            "[I 2024-07-09 11:54:56,451] Trial 99 finished with value: 0.18296599209864636 and parameters: {'n_estimators': 1366, 'max_depth': 6, 'learning_rate': 0.012878818809382124, 'l2_leaf_reg': 5.319413008565328}. Best is trial 59 with value: 0.18511106717712.\n",
            "[I 2024-07-09 11:55:25,963] Trial 100 finished with value: 0.18063061257189023 and parameters: {'n_estimators': 1416, 'max_depth': 6, 'learning_rate': 0.016169412820185587, 'l2_leaf_reg': 5.430126406257692}. Best is trial 59 with value: 0.18511106717712.\n",
            "[I 2024-07-09 11:55:51,577] Trial 101 finished with value: 0.18003097829173295 and parameters: {'n_estimators': 1339, 'max_depth': 6, 'learning_rate': 0.009213068259361227, 'l2_leaf_reg': 5.141427726748388}. Best is trial 59 with value: 0.18511106717712.\n",
            "[I 2024-07-09 11:56:14,605] Trial 102 finished with value: 0.17959999396023776 and parameters: {'n_estimators': 1209, 'max_depth': 6, 'learning_rate': 0.012696078292874283, 'l2_leaf_reg': 5.287291934059163}. Best is trial 59 with value: 0.18511106717712.\n",
            "[I 2024-07-09 11:56:40,170] Trial 103 finished with value: 0.1788890407627037 and parameters: {'n_estimators': 1274, 'max_depth': 6, 'learning_rate': 0.011459550841850182, 'l2_leaf_reg': 4.8334922833930145}. Best is trial 59 with value: 0.18511106717712.\n",
            "[I 2024-07-09 11:57:18,090] Trial 104 finished with value: 0.1809026985140284 and parameters: {'n_estimators': 1301, 'max_depth': 7, 'learning_rate': 0.014325433115475461, 'l2_leaf_reg': 5.307299400321825}. Best is trial 59 with value: 0.18511106717712.\n",
            "[I 2024-07-09 11:57:43,220] Trial 105 finished with value: 0.17845854828020902 and parameters: {'n_estimators': 1238, 'max_depth': 6, 'learning_rate': 0.01636843228817144, 'l2_leaf_reg': 5.740189787680221}. Best is trial 59 with value: 0.18511106717712.\n",
            "[I 2024-07-09 11:57:56,525] Trial 106 finished with value: 0.179672399492223 and parameters: {'n_estimators': 703, 'max_depth': 6, 'learning_rate': 0.017424234367492533, 'l2_leaf_reg': 5.006469776856031}. Best is trial 59 with value: 0.18511106717712.\n",
            "[I 2024-07-09 11:58:09,966] Trial 107 finished with value: 0.16675533670247283 and parameters: {'n_estimators': 1368, 'max_depth': 4, 'learning_rate': 0.03623937463032515, 'l2_leaf_reg': 5.478568092418632}. Best is trial 59 with value: 0.18511106717712.\n",
            "[I 2024-07-09 11:58:53,330] Trial 108 finished with value: 0.18367806761532363 and parameters: {'n_estimators': 1507, 'max_depth': 7, 'learning_rate': 0.015223592526331039, 'l2_leaf_reg': 4.727972441831998}. Best is trial 59 with value: 0.18511106717712.\n",
            "[I 2024-07-09 11:59:34,124] Trial 109 finished with value: 0.18114990146778678 and parameters: {'n_estimators': 1440, 'max_depth': 7, 'learning_rate': 0.015043347635357723, 'l2_leaf_reg': 4.587667286071392}. Best is trial 59 with value: 0.18511106717712.\n",
            "[I 2024-07-09 12:00:15,647] Trial 110 finished with value: 0.17131292630344075 and parameters: {'n_estimators': 1493, 'max_depth': 7, 'learning_rate': 0.017097923291093407, 'l2_leaf_reg': 4.779239064614752}. Best is trial 59 with value: 0.18511106717712.\n",
            "[I 2024-07-09 12:00:53,809] Trial 111 finished with value: 0.18060763211829065 and parameters: {'n_estimators': 1397, 'max_depth': 7, 'learning_rate': 0.013213934717923103, 'l2_leaf_reg': 5.131944119831832}. Best is trial 59 with value: 0.18511106717712.\n",
            "[I 2024-07-09 12:01:15,400] Trial 112 finished with value: 0.180749484095359 and parameters: {'n_estimators': 1096, 'max_depth': 6, 'learning_rate': 0.015685880593124448, 'l2_leaf_reg': 4.437806369248639}. Best is trial 59 with value: 0.18511106717712.\n",
            "[I 2024-07-09 12:01:57,416] Trial 113 finished with value: 0.178664909279375 and parameters: {'n_estimators': 1561, 'max_depth': 7, 'learning_rate': 0.010926235495854465, 'l2_leaf_reg': 5.341873995224268}. Best is trial 59 with value: 0.18511106717712.\n",
            "[I 2024-07-09 12:02:13,431] Trial 114 finished with value: 0.17126306218528434 and parameters: {'n_estimators': 1763, 'max_depth': 4, 'learning_rate': 0.03177763260123824, 'l2_leaf_reg': 4.666323643923209}. Best is trial 59 with value: 0.18511106717712.\n",
            "[I 2024-07-09 12:02:39,276] Trial 115 finished with value: 0.17469019913067582 and parameters: {'n_estimators': 1354, 'max_depth': 6, 'learning_rate': 0.01934414481145426, 'l2_leaf_reg': 4.958488132829352}. Best is trial 59 with value: 0.18511106717712.\n",
            "[I 2024-07-09 12:02:46,101] Trial 116 finished with value: 0.1528735621745044 and parameters: {'n_estimators': 608, 'max_depth': 4, 'learning_rate': 0.006629582415369675, 'l2_leaf_reg': 5.399250413266843}. Best is trial 59 with value: 0.18511106717712.\n",
            "[I 2024-07-09 12:02:58,463] Trial 117 finished with value: 0.18045091599829513 and parameters: {'n_estimators': 1316, 'max_depth': 4, 'learning_rate': 0.013823177478771341, 'l2_leaf_reg': 4.079575103525679}. Best is trial 59 with value: 0.18511106717712.\n",
            "[I 2024-07-09 12:03:19,525] Trial 118 finished with value: 0.18031684444739765 and parameters: {'n_estimators': 1178, 'max_depth': 6, 'learning_rate': 0.01834904085450034, 'l2_leaf_reg': 4.321097451814458}. Best is trial 59 with value: 0.18511106717712.\n",
            "[I 2024-07-09 12:04:09,120] Trial 119 finished with value: 0.17697975955078016 and parameters: {'n_estimators': 1918, 'max_depth': 7, 'learning_rate': 0.004745711787005453, 'l2_leaf_reg': 5.690369021030263}. Best is trial 59 with value: 0.18511106717712.\n",
            "[I 2024-07-09 12:04:20,095] Trial 120 finished with value: 0.1761436819532201 and parameters: {'n_estimators': 1126, 'max_depth': 4, 'learning_rate': 0.012316116797345114, 'l2_leaf_reg': 4.217495107967577}. Best is trial 59 with value: 0.18511106717712.\n",
            "[I 2024-07-09 12:04:38,986] Trial 121 finished with value: 0.17635812742700147 and parameters: {'n_estimators': 1487, 'max_depth': 5, 'learning_rate': 0.021328560278506915, 'l2_leaf_reg': 5.519965388552832}. Best is trial 59 with value: 0.18511106717712.\n",
            "[I 2024-07-09 12:04:59,579] Trial 122 finished with value: 0.1825736916371945 and parameters: {'n_estimators': 1504, 'max_depth': 5, 'learning_rate': 0.020122570144505587, 'l2_leaf_reg': 5.106855380168501}. Best is trial 59 with value: 0.18511106717712.\n",
            "[I 2024-07-09 12:05:17,643] Trial 123 finished with value: 0.1793151955586009 and parameters: {'n_estimators': 1409, 'max_depth': 5, 'learning_rate': 0.01575756935105619, 'l2_leaf_reg': 5.185944290803708}. Best is trial 59 with value: 0.18511106717712.\n",
            "[I 2024-07-09 12:05:48,330] Trial 124 finished with value: 0.17507177864437237 and parameters: {'n_estimators': 1524, 'max_depth': 6, 'learning_rate': 0.017343183433834047, 'l2_leaf_reg': 5.649815694651584}. Best is trial 59 with value: 0.18511106717712.\n",
            "[I 2024-07-09 12:05:59,371] Trial 125 finished with value: 0.18483642999597333 and parameters: {'n_estimators': 1216, 'max_depth': 4, 'learning_rate': 0.023692981422909556, 'l2_leaf_reg': 4.901365221886756}. Best is trial 59 with value: 0.18511106717712.\n",
            "[I 2024-07-09 12:06:10,000] Trial 126 finished with value: 0.17560137799344028 and parameters: {'n_estimators': 1222, 'max_depth': 4, 'learning_rate': 0.029045379317358514, 'l2_leaf_reg': 4.897430432717204}. Best is trial 59 with value: 0.18511106717712.\n",
            "[I 2024-07-09 12:06:22,003] Trial 127 finished with value: 0.18357823049661187 and parameters: {'n_estimators': 1252, 'max_depth': 4, 'learning_rate': 0.023589282683636744, 'l2_leaf_reg': 4.5486251875383275}. Best is trial 59 with value: 0.18511106717712.\n",
            "[I 2024-07-09 12:06:33,923] Trial 128 finished with value: 0.18411127733327529 and parameters: {'n_estimators': 1248, 'max_depth': 4, 'learning_rate': 0.02383707142820427, 'l2_leaf_reg': 4.585677694964472}. Best is trial 59 with value: 0.18511106717712.\n",
            "[I 2024-07-09 12:06:45,970] Trial 129 finished with value: 0.18459563015266758 and parameters: {'n_estimators': 1256, 'max_depth': 4, 'learning_rate': 0.02366790041673497, 'l2_leaf_reg': 4.564362402334994}. Best is trial 59 with value: 0.18511106717712.\n",
            "[I 2024-07-09 12:06:58,128] Trial 130 finished with value: 0.1772859922609066 and parameters: {'n_estimators': 1250, 'max_depth': 4, 'learning_rate': 0.024523576243357815, 'l2_leaf_reg': 4.7406883901188595}. Best is trial 59 with value: 0.18511106717712.\n",
            "[I 2024-07-09 12:07:09,457] Trial 131 finished with value: 0.17833358180805942 and parameters: {'n_estimators': 1184, 'max_depth': 4, 'learning_rate': 0.02302377568611138, 'l2_leaf_reg': 4.584760136955192}. Best is trial 59 with value: 0.18511106717712.\n",
            "[I 2024-07-09 12:07:21,502] Trial 132 finished with value: 0.1775653670251466 and parameters: {'n_estimators': 1263, 'max_depth': 4, 'learning_rate': 0.021932931699045612, 'l2_leaf_reg': 4.397468734405265}. Best is trial 59 with value: 0.18511106717712.\n",
            "[I 2024-07-09 12:07:34,095] Trial 133 finished with value: 0.18230891214052003 and parameters: {'n_estimators': 1317, 'max_depth': 4, 'learning_rate': 0.02387917748074901, 'l2_leaf_reg': 4.550442074119135}. Best is trial 59 with value: 0.18511106717712.\n",
            "[I 2024-07-09 12:07:46,355] Trial 134 finished with value: 0.17847218984981847 and parameters: {'n_estimators': 1292, 'max_depth': 4, 'learning_rate': 0.019021362187765713, 'l2_leaf_reg': 4.6488843638856086}. Best is trial 59 with value: 0.18511106717712.\n",
            "[I 2024-07-09 12:07:57,323] Trial 135 finished with value: 0.17897009841184824 and parameters: {'n_estimators': 1156, 'max_depth': 4, 'learning_rate': 0.026864032680581233, 'l2_leaf_reg': 4.468291689905644}. Best is trial 59 with value: 0.18511106717712.\n",
            "[I 2024-07-09 12:08:10,304] Trial 136 finished with value: 0.18289389101247586 and parameters: {'n_estimators': 1375, 'max_depth': 4, 'learning_rate': 0.02238349667817366, 'l2_leaf_reg': 5.042125839530518}. Best is trial 59 with value: 0.18511106717712.\n",
            "[I 2024-07-09 12:08:20,762] Trial 137 finished with value: 0.18072657662369188 and parameters: {'n_estimators': 1239, 'max_depth': 4, 'learning_rate': 0.020345785350679595, 'l2_leaf_reg': 4.7690058999918366}. Best is trial 59 with value: 0.18511106717712.\n",
            "[I 2024-07-09 12:08:29,481] Trial 138 finished with value: 0.17750546134556155 and parameters: {'n_estimators': 825, 'max_depth': 4, 'learning_rate': 0.018255216925712414, 'l2_leaf_reg': 4.29765613407843}. Best is trial 59 with value: 0.18511106717712.\n",
            "[I 2024-07-09 12:08:41,492] Trial 139 finished with value: 0.17930282856087382 and parameters: {'n_estimators': 1212, 'max_depth': 4, 'learning_rate': 0.0144542792042431, 'l2_leaf_reg': 4.676786660002831}. Best is trial 59 with value: 0.18511106717712.\n",
            "[I 2024-07-09 12:08:52,540] Trial 140 finished with value: 0.17540930622634426 and parameters: {'n_estimators': 1112, 'max_depth': 4, 'learning_rate': 0.02755725051625405, 'l2_leaf_reg': 4.503458777088508}. Best is trial 59 with value: 0.18511106717712.\n",
            "[I 2024-07-09 12:09:06,076] Trial 141 finished with value: 0.177126757245733 and parameters: {'n_estimators': 1429, 'max_depth': 4, 'learning_rate': 0.022424804167631984, 'l2_leaf_reg': 5.009277531523187}. Best is trial 59 with value: 0.18511106717712.\n",
            "[I 2024-07-09 12:09:19,328] Trial 142 finished with value: 0.18238075129881856 and parameters: {'n_estimators': 1357, 'max_depth': 4, 'learning_rate': 0.023861951000746156, 'l2_leaf_reg': 4.857520937345278}. Best is trial 59 with value: 0.18511106717712.\n",
            "[I 2024-07-09 12:10:16,940] Trial 143 finished with value: 0.17382257085017067 and parameters: {'n_estimators': 1315, 'max_depth': 8, 'learning_rate': 0.02179106070897927, 'l2_leaf_reg': 5.047347529836641}. Best is trial 59 with value: 0.18511106717712.\n",
            "[I 2024-07-09 12:10:30,308] Trial 144 finished with value: 0.1807383018777366 and parameters: {'n_estimators': 1377, 'max_depth': 4, 'learning_rate': 0.025189366297094683, 'l2_leaf_reg': 5.240326073530942}. Best is trial 59 with value: 0.18511106717712.\n",
            "[I 2024-07-09 12:10:42,550] Trial 145 finished with value: 0.17791294167462277 and parameters: {'n_estimators': 1262, 'max_depth': 4, 'learning_rate': 0.020753159906018455, 'l2_leaf_reg': 4.218275680020586}. Best is trial 59 with value: 0.18511106717712.\n",
            "[I 2024-07-09 12:10:54,081] Trial 146 finished with value: 0.18051575392987165 and parameters: {'n_estimators': 1179, 'max_depth': 4, 'learning_rate': 0.01688149585737147, 'l2_leaf_reg': 4.369214808798897}. Best is trial 59 with value: 0.18511106717712.\n",
            "[I 2024-07-09 12:11:09,761] Trial 147 finished with value: 0.1808749363479062 and parameters: {'n_estimators': 1697, 'max_depth': 4, 'learning_rate': 0.019606559705812886, 'l2_leaf_reg': 5.075345591372848}. Best is trial 59 with value: 0.18511106717712.\n",
            "[I 2024-07-09 12:11:20,556] Trial 148 finished with value: 0.17662873673855375 and parameters: {'n_estimators': 1068, 'max_depth': 4, 'learning_rate': 0.01617070353462826, 'l2_leaf_reg': 4.904314700419354}. Best is trial 59 with value: 0.18511106717712.\n",
            "[I 2024-07-09 12:11:33,501] Trial 149 finished with value: 0.17760959643904273 and parameters: {'n_estimators': 1342, 'max_depth': 4, 'learning_rate': 0.018558153098075205, 'l2_leaf_reg': 5.349654257082437}. Best is trial 59 with value: 0.18511106717712.\n",
            "[I 2024-07-09 12:11:46,564] Trial 150 finished with value: 0.17957873927956458 and parameters: {'n_estimators': 1384, 'max_depth': 4, 'learning_rate': 0.015025483488059054, 'l2_leaf_reg': 4.742642547013642}. Best is trial 59 with value: 0.18511106717712.\n",
            "[I 2024-07-09 12:11:58,877] Trial 151 finished with value: 0.1717165965469739 and parameters: {'n_estimators': 1282, 'max_depth': 4, 'learning_rate': 0.030916999297682463, 'l2_leaf_reg': 4.516942877945921}. Best is trial 59 with value: 0.18511106717712.\n",
            "[I 2024-07-09 12:12:10,637] Trial 152 finished with value: 0.1793550372706194 and parameters: {'n_estimators': 1215, 'max_depth': 4, 'learning_rate': 0.025135056152192865, 'l2_leaf_reg': 4.621851346263655}. Best is trial 59 with value: 0.18511106717712.\n",
            "[I 2024-07-09 12:12:21,956] Trial 153 finished with value: 0.17961641023834946 and parameters: {'n_estimators': 1161, 'max_depth': 4, 'learning_rate': 0.028583549392281346, 'l2_leaf_reg': 5.149621365631558}. Best is trial 59 with value: 0.18511106717712.\n",
            "[I 2024-07-09 12:12:34,642] Trial 154 finished with value: 0.18170238204841024 and parameters: {'n_estimators': 1302, 'max_depth': 4, 'learning_rate': 0.017510613912649402, 'l2_leaf_reg': 2.176105833576072}. Best is trial 59 with value: 0.18511106717712.\n",
            "[I 2024-07-09 12:12:51,583] Trial 155 finished with value: 0.1743700124485072 and parameters: {'n_estimators': 1831, 'max_depth': 4, 'learning_rate': 0.02110011778343626, 'l2_leaf_reg': 5.44242319427287}. Best is trial 59 with value: 0.18511106717712.\n",
            "[I 2024-07-09 12:13:04,277] Trial 156 finished with value: 0.1726063406711391 and parameters: {'n_estimators': 1328, 'max_depth': 4, 'learning_rate': 0.03502016606431327, 'l2_leaf_reg': 4.448818523384344}. Best is trial 59 with value: 0.18511106717712.\n",
            "[I 2024-07-09 12:13:16,290] Trial 157 finished with value: 0.17957963971608254 and parameters: {'n_estimators': 1249, 'max_depth': 4, 'learning_rate': 0.01319787271148431, 'l2_leaf_reg': 4.951307815394789}. Best is trial 59 with value: 0.18511106717712.\n",
            "[I 2024-07-09 12:13:30,082] Trial 158 finished with value: 0.1795132407244484 and parameters: {'n_estimators': 1462, 'max_depth': 4, 'learning_rate': 0.02239359915551609, 'l2_leaf_reg': 4.786326365991351}. Best is trial 59 with value: 0.18511106717712.\n",
            "[I 2024-07-09 12:13:41,692] Trial 159 finished with value: 0.17352724541280312 and parameters: {'n_estimators': 1198, 'max_depth': 4, 'learning_rate': 0.03249609362078913, 'l2_leaf_reg': 5.268525824277345}. Best is trial 59 with value: 0.18511106717712.\n",
            "[I 2024-07-09 12:14:21,942] Trial 160 finished with value: 0.16827651870728344 and parameters: {'n_estimators': 1406, 'max_depth': 7, 'learning_rate': 0.023654723358140246, 'l2_leaf_reg': 3.2709596840419364}. Best is trial 59 with value: 0.18511106717712.\n",
            "[I 2024-07-09 12:14:44,232] Trial 161 finished with value: 0.18046584440135344 and parameters: {'n_estimators': 1136, 'max_depth': 6, 'learning_rate': 0.01142575592603905, 'l2_leaf_reg': 4.300527993115524}. Best is trial 59 with value: 0.18511106717712.\n",
            "[I 2024-07-09 12:15:04,021] Trial 162 finished with value: 0.1819093078656282 and parameters: {'n_estimators': 1090, 'max_depth': 6, 'learning_rate': 0.009834808779325344, 'l2_leaf_reg': 3.846109309886046}. Best is trial 59 with value: 0.18511106717712.\n",
            "[I 2024-07-09 12:15:28,716] Trial 163 finished with value: 0.18117345811755078 and parameters: {'n_estimators': 1226, 'max_depth': 6, 'learning_rate': 0.01576143318299625, 'l2_leaf_reg': 3.479094781571153}. Best is trial 59 with value: 0.18511106717712.\n",
            "[I 2024-07-09 12:15:51,104] Trial 164 finished with value: 0.18116902103328963 and parameters: {'n_estimators': 1138, 'max_depth': 6, 'learning_rate': 0.013832727812597638, 'l2_leaf_reg': 4.585008398987342}. Best is trial 59 with value: 0.18511106717712.\n",
            "[I 2024-07-09 12:16:03,486] Trial 165 finished with value: 0.18109843929975494 and parameters: {'n_estimators': 1270, 'max_depth': 4, 'learning_rate': 0.019408683862702957, 'l2_leaf_reg': 3.7750165659193704}. Best is trial 59 with value: 0.18511106717712.\n",
            "[I 2024-07-09 12:16:14,661] Trial 166 finished with value: 0.17546343982395826 and parameters: {'n_estimators': 1185, 'max_depth': 4, 'learning_rate': 0.008141183864929496, 'l2_leaf_reg': 2.851039376594998}. Best is trial 59 with value: 0.18511106717712.\n",
            "[I 2024-07-09 12:17:00,619] Trial 167 finished with value: 0.17267319336413964 and parameters: {'n_estimators': 1039, 'max_depth': 8, 'learning_rate': 0.02583597781258647, 'l2_leaf_reg': 5.208663250278251}. Best is trial 59 with value: 0.18511106717712.\n",
            "[I 2024-07-09 12:17:16,094] Trial 168 finished with value: 0.18057915433135582 and parameters: {'n_estimators': 1161, 'max_depth': 5, 'learning_rate': 0.01723766556157743, 'l2_leaf_reg': 3.9463649360800734}. Best is trial 59 with value: 0.18511106717712.\n",
            "[I 2024-07-09 12:17:48,167] Trial 169 finished with value: 0.180449273500527 and parameters: {'n_estimators': 1584, 'max_depth': 6, 'learning_rate': 0.01506755747951186, 'l2_leaf_reg': 5.313569581739896}. Best is trial 59 with value: 0.18511106717712.\n",
            "[I 2024-07-09 12:17:55,882] Trial 170 finished with value: 0.17891302479401888 and parameters: {'n_estimators': 903, 'max_depth': 4, 'learning_rate': 0.01848706816971188, 'l2_leaf_reg': 4.380093776649478}. Best is trial 59 with value: 0.18511106717712.\n",
            "[I 2024-07-09 12:18:15,866] Trial 171 finished with value: 0.18193136921931768 and parameters: {'n_estimators': 1378, 'max_depth': 5, 'learning_rate': 0.023240698667720324, 'l2_leaf_reg': 5.52073397724618}. Best is trial 59 with value: 0.18511106717712.\n",
            "[I 2024-07-09 12:18:35,167] Trial 172 finished with value: 0.1774571920679024 and parameters: {'n_estimators': 1436, 'max_depth': 5, 'learning_rate': 0.025995543625988677, 'l2_leaf_reg': 5.413712607998802}. Best is trial 59 with value: 0.18511106717712.\n",
            "[I 2024-07-09 12:18:56,092] Trial 173 finished with value: 0.17730118268230716 and parameters: {'n_estimators': 1457, 'max_depth': 5, 'learning_rate': 0.024275154843232057, 'l2_leaf_reg': 5.525287552559706}. Best is trial 59 with value: 0.18511106717712.\n",
            "[I 2024-07-09 12:19:09,456] Trial 174 finished with value: 0.18059186089038504 and parameters: {'n_estimators': 1341, 'max_depth': 4, 'learning_rate': 0.02696382508973984, 'l2_leaf_reg': 2.3865692743133153}. Best is trial 59 with value: 0.18511106717712.\n",
            "[I 2024-07-09 12:19:43,737] Trial 175 finished with value: 0.17902269755035805 and parameters: {'n_estimators': 1746, 'max_depth': 6, 'learning_rate': 0.02084342643817643, 'l2_leaf_reg': 4.6664070844666465}. Best is trial 59 with value: 0.18511106717712.\n",
            "[I 2024-07-09 12:20:06,773] Trial 176 finished with value: 0.1813315637693925 and parameters: {'n_estimators': 1651, 'max_depth': 5, 'learning_rate': 0.012682682176639704, 'l2_leaf_reg': 3.5992138033961973}. Best is trial 59 with value: 0.18511106717712.\n",
            "[I 2024-07-09 12:20:17,787] Trial 177 finished with value: 0.17990874391804457 and parameters: {'n_estimators': 1100, 'max_depth': 4, 'learning_rate': 0.022299949593694746, 'l2_leaf_reg': 5.083152707084545}. Best is trial 59 with value: 0.18511106717712.\n",
            "[I 2024-07-09 12:20:24,300] Trial 178 finished with value: 0.1747542600247394 and parameters: {'n_estimators': 629, 'max_depth': 4, 'learning_rate': 0.016504404109527113, 'l2_leaf_reg': 4.531782527810197}. Best is trial 59 with value: 0.18511106717712.\n",
            "[I 2024-07-09 12:20:43,565] Trial 179 finished with value: 0.1770982140222537 and parameters: {'n_estimators': 1975, 'max_depth': 4, 'learning_rate': 0.019536774367042955, 'l2_leaf_reg': 5.377838843861148}. Best is trial 59 with value: 0.18511106717712.\n",
            "[I 2024-07-09 12:20:54,582] Trial 180 finished with value: 0.18410147470004398 and parameters: {'n_estimators': 757, 'max_depth': 5, 'learning_rate': 0.025153901406107352, 'l2_leaf_reg': 4.837539090032611}. Best is trial 59 with value: 0.18511106717712.\n",
            "[I 2024-07-09 12:21:06,127] Trial 181 finished with value: 0.1800992121088578 and parameters: {'n_estimators': 792, 'max_depth': 5, 'learning_rate': 0.025110185231134962, 'l2_leaf_reg': 4.82271939641823}. Best is trial 59 with value: 0.18511106717712.\n",
            "[I 2024-07-09 12:21:17,731] Trial 182 finished with value: 0.18254929362020406 and parameters: {'n_estimators': 867, 'max_depth': 5, 'learning_rate': 0.02743192514779066, 'l2_leaf_reg': 4.731174017790646}. Best is trial 59 with value: 0.18511106717712.\n",
            "[I 2024-07-09 12:21:27,320] Trial 183 finished with value: 0.17942505024870972 and parameters: {'n_estimators': 700, 'max_depth': 5, 'learning_rate': 0.023894037126209283, 'l2_leaf_reg': 4.955218202994543}. Best is trial 59 with value: 0.18511106717712.\n",
            "[I 2024-07-09 12:21:37,808] Trial 184 finished with value: 0.17895538208367504 and parameters: {'n_estimators': 750, 'max_depth': 5, 'learning_rate': 0.014161951584706133, 'l2_leaf_reg': 5.163985093385432}. Best is trial 59 with value: 0.18511106717712.\n",
            "[I 2024-07-09 12:22:13,597] Trial 185 finished with value: 0.17495252674314699 and parameters: {'n_estimators': 1205, 'max_depth': 7, 'learning_rate': 0.022917382363569168, 'l2_leaf_reg': 4.877968864850546}. Best is trial 59 with value: 0.18511106717712.\n",
            "[I 2024-07-09 12:22:28,192] Trial 186 finished with value: 0.1756506214628108 and parameters: {'n_estimators': 746, 'max_depth': 6, 'learning_rate': 0.02987705110283515, 'l2_leaf_reg': 5.023653783617394}. Best is trial 59 with value: 0.18511106717712.\n",
            "[I 2024-07-09 12:22:58,317] Trial 187 finished with value: 0.175338178978557 and parameters: {'n_estimators': 1534, 'max_depth': 6, 'learning_rate': 0.017946465334768943, 'l2_leaf_reg': 4.487836315805027}. Best is trial 59 with value: 0.18511106717712.\n",
            "[I 2024-07-09 12:23:16,957] Trial 188 finished with value: 0.18166046848258044 and parameters: {'n_estimators': 1295, 'max_depth': 5, 'learning_rate': 0.020569085479341744, 'l2_leaf_reg': 5.2581784965491}. Best is trial 59 with value: 0.18511106717712.\n",
            "[I 2024-07-09 12:23:28,384] Trial 189 finished with value: 0.16777308612127123 and parameters: {'n_estimators': 1234, 'max_depth': 4, 'learning_rate': 0.046717966722078355, 'l2_leaf_reg': 4.689420774529799}. Best is trial 59 with value: 0.18511106717712.\n",
            "[I 2024-07-09 12:23:48,718] Trial 190 finished with value: 0.1782373709077629 and parameters: {'n_estimators': 1408, 'max_depth': 5, 'learning_rate': 0.02150247486965608, 'l2_leaf_reg': 4.186212195523985}. Best is trial 59 with value: 0.18511106717712.\n",
            "[I 2024-07-09 12:24:02,600] Trial 191 finished with value: 0.18273919360600974 and parameters: {'n_estimators': 1006, 'max_depth': 5, 'learning_rate': 0.01676145956383939, 'l2_leaf_reg': 2.5734153221603258}. Best is trial 59 with value: 0.18511106717712.\n",
            "[I 2024-07-09 12:24:16,749] Trial 192 finished with value: 0.18640140233655786 and parameters: {'n_estimators': 1012, 'max_depth': 5, 'learning_rate': 0.015833517599709225, 'l2_leaf_reg': 2.5242995051568027}. Best is trial 192 with value: 0.18640140233655786.\n",
            "[I 2024-07-09 12:24:28,247] Trial 193 finished with value: 0.18317451473093802 and parameters: {'n_estimators': 807, 'max_depth': 5, 'learning_rate': 0.015583327804773684, 'l2_leaf_reg': 4.5710571900366785}. Best is trial 192 with value: 0.18640140233655786.\n",
            "[I 2024-07-09 12:24:39,133] Trial 194 finished with value: 0.17645552913372858 and parameters: {'n_estimators': 781, 'max_depth': 5, 'learning_rate': 0.014927245992901033, 'l2_leaf_reg': 4.577626787328853}. Best is trial 192 with value: 0.18640140233655786.\n",
            "[I 2024-07-09 12:24:46,163] Trial 195 finished with value: 0.17531419512239696 and parameters: {'n_estimators': 825, 'max_depth': 4, 'learning_rate': 0.015663989053779567, 'l2_leaf_reg': 4.445122261940542}. Best is trial 192 with value: 0.18640140233655786.\n",
            "[I 2024-07-09 12:25:05,708] Trial 196 finished with value: 0.18117409357039074 and parameters: {'n_estimators': 941, 'max_depth': 6, 'learning_rate': 0.012453282290659359, 'l2_leaf_reg': 2.7771867950171045}. Best is trial 192 with value: 0.18640140233655786.\n",
            "[I 2024-07-09 12:25:16,401] Trial 197 finished with value: 0.1824202490001398 and parameters: {'n_estimators': 736, 'max_depth': 5, 'learning_rate': 0.014064113258273208, 'l2_leaf_reg': 2.4213696812163836}. Best is trial 192 with value: 0.18640140233655786.\n",
            "[I 2024-07-09 12:25:25,488] Trial 198 finished with value: 0.18062443853520097 and parameters: {'n_estimators': 1063, 'max_depth': 4, 'learning_rate': 0.016249918102490237, 'l2_leaf_reg': 4.338169106172711}. Best is trial 192 with value: 0.18640140233655786.\n",
            "[I 2024-07-09 12:25:36,458] Trial 199 finished with value: 0.17499448401618464 and parameters: {'n_estimators': 1106, 'max_depth': 4, 'learning_rate': 0.010973712409368957, 'l2_leaf_reg': 4.624335500588882}. Best is trial 192 with value: 0.18640140233655786.\n"
          ]
        },
        {
          "output_type": "stream",
          "name": "stdout",
          "text": [
            "FrozenTrial(number=192, state=TrialState.COMPLETE, values=[0.18640140233655786], datetime_start=datetime.datetime(2024, 7, 9, 12, 24, 2, 601659), datetime_complete=datetime.datetime(2024, 7, 9, 12, 24, 16, 748772), params={'n_estimators': 1012, 'max_depth': 5, 'learning_rate': 0.015833517599709225, 'l2_leaf_reg': 2.5242995051568027}, user_attrs={}, system_attrs={}, intermediate_values={}, distributions={'n_estimators': IntDistribution(high=2000, log=False, low=500, step=1), 'max_depth': IntDistribution(high=9, log=False, low=4, step=1), 'learning_rate': FloatDistribution(high=0.06, log=False, low=0.001, step=None), 'l2_leaf_reg': FloatDistribution(high=6.0, log=False, low=2.0, step=None)}, trial_id=192, value=None)\n"
          ]
        }
      ]
    },
    {
      "cell_type": "markdown",
      "source": [
        "Ячейка ниже на случай, если итераций оказалось недостаточно, но важно их сохранить и продолжить поиск параметров."
      ],
      "metadata": {
        "id": "-q_haodqUECS"
      }
    },
    {
      "cell_type": "code",
      "source": [
        "# study_2 = optuna.create_study(direction=\"maximize\")\n",
        "# study_2.add_trials(study.trials)\n",
        "# study_2.optimize(objective, n_trials=200)\n",
        "# print(study_2.best_trial)"
      ],
      "metadata": {
        "id": "vlmT3XVcq-c4",
        "colab": {
          "base_uri": "https://localhost:8080/",
          "height": 193
        },
        "collapsed": true,
        "outputId": "5d8d67a7-dde4-481b-b0a1-c0779b8429fb"
      },
      "execution_count": null,
      "outputs": [
        {
          "output_type": "error",
          "ename": "NameError",
          "evalue": "name 'optuna' is not defined",
          "traceback": [
            "\u001b[0;31m---------------------------------------------------------------------------\u001b[0m",
            "\u001b[0;31mNameError\u001b[0m                                 Traceback (most recent call last)",
            "\u001b[0;32m<ipython-input-135-ea86b88fb079>\u001b[0m in \u001b[0;36m<cell line: 1>\u001b[0;34m()\u001b[0m\n\u001b[0;32m----> 1\u001b[0;31m \u001b[0mstudy_2\u001b[0m \u001b[0;34m=\u001b[0m \u001b[0moptuna\u001b[0m\u001b[0;34m.\u001b[0m\u001b[0mcreate_study\u001b[0m\u001b[0;34m(\u001b[0m\u001b[0mdirection\u001b[0m\u001b[0;34m=\u001b[0m\u001b[0;34m\"maximize\"\u001b[0m\u001b[0;34m)\u001b[0m\u001b[0;34m\u001b[0m\u001b[0;34m\u001b[0m\u001b[0m\n\u001b[0m\u001b[1;32m      2\u001b[0m \u001b[0mstudy_2\u001b[0m\u001b[0;34m.\u001b[0m\u001b[0madd_trials\u001b[0m\u001b[0;34m(\u001b[0m\u001b[0mstudy\u001b[0m\u001b[0;34m.\u001b[0m\u001b[0mtrials\u001b[0m\u001b[0;34m)\u001b[0m\u001b[0;34m\u001b[0m\u001b[0;34m\u001b[0m\u001b[0m\n\u001b[1;32m      3\u001b[0m \u001b[0mstudy_2\u001b[0m\u001b[0;34m.\u001b[0m\u001b[0moptimize\u001b[0m\u001b[0;34m(\u001b[0m\u001b[0mobjective\u001b[0m\u001b[0;34m,\u001b[0m \u001b[0mn_trials\u001b[0m\u001b[0;34m=\u001b[0m\u001b[0;36m200\u001b[0m\u001b[0;34m)\u001b[0m\u001b[0;34m\u001b[0m\u001b[0;34m\u001b[0m\u001b[0m\n\u001b[1;32m      4\u001b[0m \u001b[0mprint\u001b[0m\u001b[0;34m(\u001b[0m\u001b[0mstudy_2\u001b[0m\u001b[0;34m.\u001b[0m\u001b[0mbest_trial\u001b[0m\u001b[0;34m)\u001b[0m\u001b[0;34m\u001b[0m\u001b[0;34m\u001b[0m\u001b[0m\n",
            "\u001b[0;31mNameError\u001b[0m: name 'optuna' is not defined"
          ]
        }
      ]
    },
    {
      "cell_type": "markdown",
      "source": [
        "Обучаем лучшую модель на всех тренировочных данных"
      ],
      "metadata": {
        "id": "1seKdE76E75Z"
      }
    },
    {
      "cell_type": "code",
      "source": [
        "study.best_params"
      ],
      "metadata": {
        "colab": {
          "base_uri": "https://localhost:8080/"
        },
        "id": "mawJQlo840_Q",
        "outputId": "6e0ef949-31bf-4761-82a3-588b92657d86"
      },
      "execution_count": null,
      "outputs": [
        {
          "output_type": "execute_result",
          "data": {
            "text/plain": [
              "{'n_estimators': 1012,\n",
              " 'max_depth': 5,\n",
              " 'learning_rate': 0.015833517599709225,\n",
              " 'l2_leaf_reg': 2.5242995051568027}"
            ]
          },
          "metadata": {},
          "execution_count": 36
        }
      ]
    },
    {
      "cell_type": "code",
      "source": [
        "cat_cols_new = [col for col in X_train.columns if X_train[col].dtype == 'object']\n",
        "\n",
        "best_estimator = CatBoostRegressor(**study.best_params,\n",
        "                                   cat_features=cat_cols,\n",
        "                                   verbose=False, random_state=RANDOM_STATE)\n",
        "\n",
        "best_estimator.fit(X_train, y_train)"
      ],
      "metadata": {
        "colab": {
          "base_uri": "https://localhost:8080/"
        },
        "id": "CSDCZyd8PKPE",
        "outputId": "ea116af9-3f82-4b86-e661-cf70c4ecef70"
      },
      "execution_count": null,
      "outputs": [
        {
          "output_type": "execute_result",
          "data": {
            "text/plain": [
              "<catboost.core.CatBoostRegressor at 0x7d616b913f10>"
            ]
          },
          "metadata": {},
          "execution_count": 37
        }
      ]
    },
    {
      "cell_type": "code",
      "source": [
        "cat_cols_new = [col for col in X_train.columns if X_train[col].dtype == 'object']\n",
        "base_estimator = CatBoostRegressor(cat_features=cat_cols_new, verbose=False, random_state=RANDOM_STATE)\n",
        "\n",
        "base_estimator.fit(X_train, y_train)"
      ],
      "metadata": {
        "colab": {
          "base_uri": "https://localhost:8080/"
        },
        "id": "09B-tfQ31EC3",
        "outputId": "4623eb18-6cc6-4065-cbea-08a9ef3ebe06"
      },
      "execution_count": null,
      "outputs": [
        {
          "output_type": "execute_result",
          "data": {
            "text/plain": [
              "<catboost.core.CatBoostRegressor at 0x7b39e91c71c0>"
            ]
          },
          "metadata": {},
          "execution_count": 197
        }
      ]
    },
    {
      "cell_type": "code",
      "source": [
        "base_estimator.fit(X_train_new, y_train_new)\n",
        "pred_cat_2 = base_estimator.predict(X_val)\n",
        "r2_score(y_val, pred_cat_2)"
      ],
      "metadata": {
        "colab": {
          "base_uri": "https://localhost:8080/"
        },
        "id": "osIUAQjaVGbT",
        "outputId": "90c29556-1152-4d8f-d594-fbafa8d54c45"
      },
      "execution_count": null,
      "outputs": [
        {
          "output_type": "execute_result",
          "data": {
            "text/plain": [
              "0.19988120391754782"
            ]
          },
          "metadata": {},
          "execution_count": 104
        }
      ]
    },
    {
      "cell_type": "markdown",
      "source": [
        "## Предсказание на тестовых данных"
      ],
      "metadata": {
        "id": "MMgg_SNc4_L_"
      }
    },
    {
      "cell_type": "markdown",
      "source": [
        "Обработаем тестовые данные аналогично тренировочной выборке.\n",
        "\n",
        "Загрузим данные"
      ],
      "metadata": {
        "id": "bMXSM7qlyTbk"
      }
    },
    {
      "cell_type": "code",
      "source": [
        "test_df = pd.read_csv(TEST)"
      ],
      "metadata": {
        "id": "nFW5B75mAhVZ"
      },
      "execution_count": null,
      "outputs": []
    },
    {
      "cell_type": "markdown",
      "source": [
        "Посмотрим на тестовые данные."
      ],
      "metadata": {
        "id": "b-tC6SH6LRsL"
      }
    },
    {
      "cell_type": "code",
      "source": [
        "test_df.head()"
      ],
      "metadata": {
        "colab": {
          "base_uri": "https://localhost:8080/",
          "height": 206
        },
        "id": "0O_mfL0sAzeE",
        "outputId": "859a156a-a3fe-47aa-9f48-062d4d961190",
        "collapsed": true
      },
      "execution_count": null,
      "outputs": [
        {
          "output_type": "execute_result",
          "data": {
            "text/plain": [
              "    Company         Specific Bean Origin   REF  Review  Cocoa Percent  \\\n",
              "0     Ohiyo  San Juan Estate, Gran Couva  1594    2015           70.0   \n",
              "1  Blanxart                 Organic Dark   322    2009           72.0   \n",
              "2    Brazen                Maya Mountain  1518    2015           80.0   \n",
              "3    Patric                   Madagascar   439    2009           67.0   \n",
              "4   Potomac              Upala, Batch 12   607    2010           82.0   \n",
              "\n",
              "    Bean Type Broad Bean Origin  Bean Type_freq Bean_Type_Rarity  id    Rating  \n",
              "0  Trinitario          Trinidad             134             rare   0  3.190854  \n",
              "1                     Venezuela             259           medium   1  3.207045  \n",
              "2  Trinitario            Belize             134             rare   2  3.016674  \n",
              "3  Trinitario        Madagascar             134             rare   3  3.628415  \n",
              "4      Matina        Costa Rica               2             rare   4  2.997349  "
            ],
            "text/html": [
              "\n",
              "  <div id=\"df-44c0a1c0-94d2-4927-8b19-71b744c7cdbc\" class=\"colab-df-container\">\n",
              "    <div>\n",
              "<style scoped>\n",
              "    .dataframe tbody tr th:only-of-type {\n",
              "        vertical-align: middle;\n",
              "    }\n",
              "\n",
              "    .dataframe tbody tr th {\n",
              "        vertical-align: top;\n",
              "    }\n",
              "\n",
              "    .dataframe thead th {\n",
              "        text-align: right;\n",
              "    }\n",
              "</style>\n",
              "<table border=\"1\" class=\"dataframe\">\n",
              "  <thead>\n",
              "    <tr style=\"text-align: right;\">\n",
              "      <th></th>\n",
              "      <th>Company</th>\n",
              "      <th>Specific Bean Origin</th>\n",
              "      <th>REF</th>\n",
              "      <th>Review</th>\n",
              "      <th>Cocoa Percent</th>\n",
              "      <th>Bean Type</th>\n",
              "      <th>Broad Bean Origin</th>\n",
              "      <th>Bean Type_freq</th>\n",
              "      <th>Bean_Type_Rarity</th>\n",
              "      <th>id</th>\n",
              "      <th>Rating</th>\n",
              "    </tr>\n",
              "  </thead>\n",
              "  <tbody>\n",
              "    <tr>\n",
              "      <th>0</th>\n",
              "      <td>Ohiyo</td>\n",
              "      <td>San Juan Estate, Gran Couva</td>\n",
              "      <td>1594</td>\n",
              "      <td>2015</td>\n",
              "      <td>70.0</td>\n",
              "      <td>Trinitario</td>\n",
              "      <td>Trinidad</td>\n",
              "      <td>134</td>\n",
              "      <td>rare</td>\n",
              "      <td>0</td>\n",
              "      <td>3.190854</td>\n",
              "    </tr>\n",
              "    <tr>\n",
              "      <th>1</th>\n",
              "      <td>Blanxart</td>\n",
              "      <td>Organic Dark</td>\n",
              "      <td>322</td>\n",
              "      <td>2009</td>\n",
              "      <td>72.0</td>\n",
              "      <td></td>\n",
              "      <td>Venezuela</td>\n",
              "      <td>259</td>\n",
              "      <td>medium</td>\n",
              "      <td>1</td>\n",
              "      <td>3.207045</td>\n",
              "    </tr>\n",
              "    <tr>\n",
              "      <th>2</th>\n",
              "      <td>Brazen</td>\n",
              "      <td>Maya Mountain</td>\n",
              "      <td>1518</td>\n",
              "      <td>2015</td>\n",
              "      <td>80.0</td>\n",
              "      <td>Trinitario</td>\n",
              "      <td>Belize</td>\n",
              "      <td>134</td>\n",
              "      <td>rare</td>\n",
              "      <td>2</td>\n",
              "      <td>3.016674</td>\n",
              "    </tr>\n",
              "    <tr>\n",
              "      <th>3</th>\n",
              "      <td>Patric</td>\n",
              "      <td>Madagascar</td>\n",
              "      <td>439</td>\n",
              "      <td>2009</td>\n",
              "      <td>67.0</td>\n",
              "      <td>Trinitario</td>\n",
              "      <td>Madagascar</td>\n",
              "      <td>134</td>\n",
              "      <td>rare</td>\n",
              "      <td>3</td>\n",
              "      <td>3.628415</td>\n",
              "    </tr>\n",
              "    <tr>\n",
              "      <th>4</th>\n",
              "      <td>Potomac</td>\n",
              "      <td>Upala, Batch 12</td>\n",
              "      <td>607</td>\n",
              "      <td>2010</td>\n",
              "      <td>82.0</td>\n",
              "      <td>Matina</td>\n",
              "      <td>Costa Rica</td>\n",
              "      <td>2</td>\n",
              "      <td>rare</td>\n",
              "      <td>4</td>\n",
              "      <td>2.997349</td>\n",
              "    </tr>\n",
              "  </tbody>\n",
              "</table>\n",
              "</div>\n",
              "    <div class=\"colab-df-buttons\">\n",
              "\n",
              "  <div class=\"colab-df-container\">\n",
              "    <button class=\"colab-df-convert\" onclick=\"convertToInteractive('df-44c0a1c0-94d2-4927-8b19-71b744c7cdbc')\"\n",
              "            title=\"Convert this dataframe to an interactive table.\"\n",
              "            style=\"display:none;\">\n",
              "\n",
              "  <svg xmlns=\"http://www.w3.org/2000/svg\" height=\"24px\" viewBox=\"0 -960 960 960\">\n",
              "    <path d=\"M120-120v-720h720v720H120Zm60-500h600v-160H180v160Zm220 220h160v-160H400v160Zm0 220h160v-160H400v160ZM180-400h160v-160H180v160Zm440 0h160v-160H620v160ZM180-180h160v-160H180v160Zm440 0h160v-160H620v160Z\"/>\n",
              "  </svg>\n",
              "    </button>\n",
              "\n",
              "  <style>\n",
              "    .colab-df-container {\n",
              "      display:flex;\n",
              "      gap: 12px;\n",
              "    }\n",
              "\n",
              "    .colab-df-convert {\n",
              "      background-color: #E8F0FE;\n",
              "      border: none;\n",
              "      border-radius: 50%;\n",
              "      cursor: pointer;\n",
              "      display: none;\n",
              "      fill: #1967D2;\n",
              "      height: 32px;\n",
              "      padding: 0 0 0 0;\n",
              "      width: 32px;\n",
              "    }\n",
              "\n",
              "    .colab-df-convert:hover {\n",
              "      background-color: #E2EBFA;\n",
              "      box-shadow: 0px 1px 2px rgba(60, 64, 67, 0.3), 0px 1px 3px 1px rgba(60, 64, 67, 0.15);\n",
              "      fill: #174EA6;\n",
              "    }\n",
              "\n",
              "    .colab-df-buttons div {\n",
              "      margin-bottom: 4px;\n",
              "    }\n",
              "\n",
              "    [theme=dark] .colab-df-convert {\n",
              "      background-color: #3B4455;\n",
              "      fill: #D2E3FC;\n",
              "    }\n",
              "\n",
              "    [theme=dark] .colab-df-convert:hover {\n",
              "      background-color: #434B5C;\n",
              "      box-shadow: 0px 1px 3px 1px rgba(0, 0, 0, 0.15);\n",
              "      filter: drop-shadow(0px 1px 2px rgba(0, 0, 0, 0.3));\n",
              "      fill: #FFFFFF;\n",
              "    }\n",
              "  </style>\n",
              "\n",
              "    <script>\n",
              "      const buttonEl =\n",
              "        document.querySelector('#df-44c0a1c0-94d2-4927-8b19-71b744c7cdbc button.colab-df-convert');\n",
              "      buttonEl.style.display =\n",
              "        google.colab.kernel.accessAllowed ? 'block' : 'none';\n",
              "\n",
              "      async function convertToInteractive(key) {\n",
              "        const element = document.querySelector('#df-44c0a1c0-94d2-4927-8b19-71b744c7cdbc');\n",
              "        const dataTable =\n",
              "          await google.colab.kernel.invokeFunction('convertToInteractive',\n",
              "                                                    [key], {});\n",
              "        if (!dataTable) return;\n",
              "\n",
              "        const docLinkHtml = 'Like what you see? Visit the ' +\n",
              "          '<a target=\"_blank\" href=https://colab.research.google.com/notebooks/data_table.ipynb>data table notebook</a>'\n",
              "          + ' to learn more about interactive tables.';\n",
              "        element.innerHTML = '';\n",
              "        dataTable['output_type'] = 'display_data';\n",
              "        await google.colab.output.renderOutput(dataTable, element);\n",
              "        const docLink = document.createElement('div');\n",
              "        docLink.innerHTML = docLinkHtml;\n",
              "        element.appendChild(docLink);\n",
              "      }\n",
              "    </script>\n",
              "  </div>\n",
              "\n",
              "\n",
              "<div id=\"df-7b3226e1-8f48-47dc-811b-01f087fb1bfd\">\n",
              "  <button class=\"colab-df-quickchart\" onclick=\"quickchart('df-7b3226e1-8f48-47dc-811b-01f087fb1bfd')\"\n",
              "            title=\"Suggest charts\"\n",
              "            style=\"display:none;\">\n",
              "\n",
              "<svg xmlns=\"http://www.w3.org/2000/svg\" height=\"24px\"viewBox=\"0 0 24 24\"\n",
              "     width=\"24px\">\n",
              "    <g>\n",
              "        <path d=\"M19 3H5c-1.1 0-2 .9-2 2v14c0 1.1.9 2 2 2h14c1.1 0 2-.9 2-2V5c0-1.1-.9-2-2-2zM9 17H7v-7h2v7zm4 0h-2V7h2v10zm4 0h-2v-4h2v4z\"/>\n",
              "    </g>\n",
              "</svg>\n",
              "  </button>\n",
              "\n",
              "<style>\n",
              "  .colab-df-quickchart {\n",
              "      --bg-color: #E8F0FE;\n",
              "      --fill-color: #1967D2;\n",
              "      --hover-bg-color: #E2EBFA;\n",
              "      --hover-fill-color: #174EA6;\n",
              "      --disabled-fill-color: #AAA;\n",
              "      --disabled-bg-color: #DDD;\n",
              "  }\n",
              "\n",
              "  [theme=dark] .colab-df-quickchart {\n",
              "      --bg-color: #3B4455;\n",
              "      --fill-color: #D2E3FC;\n",
              "      --hover-bg-color: #434B5C;\n",
              "      --hover-fill-color: #FFFFFF;\n",
              "      --disabled-bg-color: #3B4455;\n",
              "      --disabled-fill-color: #666;\n",
              "  }\n",
              "\n",
              "  .colab-df-quickchart {\n",
              "    background-color: var(--bg-color);\n",
              "    border: none;\n",
              "    border-radius: 50%;\n",
              "    cursor: pointer;\n",
              "    display: none;\n",
              "    fill: var(--fill-color);\n",
              "    height: 32px;\n",
              "    padding: 0;\n",
              "    width: 32px;\n",
              "  }\n",
              "\n",
              "  .colab-df-quickchart:hover {\n",
              "    background-color: var(--hover-bg-color);\n",
              "    box-shadow: 0 1px 2px rgba(60, 64, 67, 0.3), 0 1px 3px 1px rgba(60, 64, 67, 0.15);\n",
              "    fill: var(--button-hover-fill-color);\n",
              "  }\n",
              "\n",
              "  .colab-df-quickchart-complete:disabled,\n",
              "  .colab-df-quickchart-complete:disabled:hover {\n",
              "    background-color: var(--disabled-bg-color);\n",
              "    fill: var(--disabled-fill-color);\n",
              "    box-shadow: none;\n",
              "  }\n",
              "\n",
              "  .colab-df-spinner {\n",
              "    border: 2px solid var(--fill-color);\n",
              "    border-color: transparent;\n",
              "    border-bottom-color: var(--fill-color);\n",
              "    animation:\n",
              "      spin 1s steps(1) infinite;\n",
              "  }\n",
              "\n",
              "  @keyframes spin {\n",
              "    0% {\n",
              "      border-color: transparent;\n",
              "      border-bottom-color: var(--fill-color);\n",
              "      border-left-color: var(--fill-color);\n",
              "    }\n",
              "    20% {\n",
              "      border-color: transparent;\n",
              "      border-left-color: var(--fill-color);\n",
              "      border-top-color: var(--fill-color);\n",
              "    }\n",
              "    30% {\n",
              "      border-color: transparent;\n",
              "      border-left-color: var(--fill-color);\n",
              "      border-top-color: var(--fill-color);\n",
              "      border-right-color: var(--fill-color);\n",
              "    }\n",
              "    40% {\n",
              "      border-color: transparent;\n",
              "      border-right-color: var(--fill-color);\n",
              "      border-top-color: var(--fill-color);\n",
              "    }\n",
              "    60% {\n",
              "      border-color: transparent;\n",
              "      border-right-color: var(--fill-color);\n",
              "    }\n",
              "    80% {\n",
              "      border-color: transparent;\n",
              "      border-right-color: var(--fill-color);\n",
              "      border-bottom-color: var(--fill-color);\n",
              "    }\n",
              "    90% {\n",
              "      border-color: transparent;\n",
              "      border-bottom-color: var(--fill-color);\n",
              "    }\n",
              "  }\n",
              "</style>\n",
              "\n",
              "  <script>\n",
              "    async function quickchart(key) {\n",
              "      const quickchartButtonEl =\n",
              "        document.querySelector('#' + key + ' button');\n",
              "      quickchartButtonEl.disabled = true;  // To prevent multiple clicks.\n",
              "      quickchartButtonEl.classList.add('colab-df-spinner');\n",
              "      try {\n",
              "        const charts = await google.colab.kernel.invokeFunction(\n",
              "            'suggestCharts', [key], {});\n",
              "      } catch (error) {\n",
              "        console.error('Error during call to suggestCharts:', error);\n",
              "      }\n",
              "      quickchartButtonEl.classList.remove('colab-df-spinner');\n",
              "      quickchartButtonEl.classList.add('colab-df-quickchart-complete');\n",
              "    }\n",
              "    (() => {\n",
              "      let quickchartButtonEl =\n",
              "        document.querySelector('#df-7b3226e1-8f48-47dc-811b-01f087fb1bfd button');\n",
              "      quickchartButtonEl.style.display =\n",
              "        google.colab.kernel.accessAllowed ? 'block' : 'none';\n",
              "    })();\n",
              "  </script>\n",
              "</div>\n",
              "    </div>\n",
              "  </div>\n"
            ],
            "application/vnd.google.colaboratory.intrinsic+json": {
              "type": "dataframe",
              "variable_name": "test_df",
              "summary": "{\n  \"name\": \"test_df\",\n  \"rows\": 540,\n  \"fields\": [\n    {\n      \"column\": \"Company\",\n      \"properties\": {\n        \"dtype\": \"category\",\n        \"num_unique_values\": 244,\n        \"samples\": [\n          \"Bar Au Chocolat\",\n          \"Rozsavolgyi\",\n          \"Amano\"\n        ],\n        \"semantic_type\": \"\",\n        \"description\": \"\"\n      }\n    },\n    {\n      \"column\": \"Specific Bean Origin\",\n      \"properties\": {\n        \"dtype\": \"string\",\n        \"num_unique_values\": 385,\n        \"samples\": [\n          \"Dancing in Your Head, 5 bean blend\",\n          \"Porcelana, Tabasco, Marfil de Blanco\",\n          \"Anselmo Paraiso Estate\"\n        ],\n        \"semantic_type\": \"\",\n        \"description\": \"\"\n      }\n    },\n    {\n      \"column\": \"REF\",\n      \"properties\": {\n        \"dtype\": \"number\",\n        \"std\": 556,\n        \"min\": 5,\n        \"max\": 1952,\n        \"num_unique_values\": 338,\n        \"samples\": [\n          1129,\n          1201,\n          1626\n        ],\n        \"semantic_type\": \"\",\n        \"description\": \"\"\n      }\n    },\n    {\n      \"column\": \"Review\",\n      \"properties\": {\n        \"dtype\": \"number\",\n        \"std\": 2,\n        \"min\": 2006,\n        \"max\": 2017,\n        \"num_unique_values\": 12,\n        \"samples\": [\n          2007,\n          2013,\n          2015\n        ],\n        \"semantic_type\": \"\",\n        \"description\": \"\"\n      }\n    },\n    {\n      \"column\": \"Cocoa Percent\",\n      \"properties\": {\n        \"dtype\": \"number\",\n        \"std\": 6.14740336206477,\n        \"min\": 42.0,\n        \"max\": 100.0,\n        \"num_unique_values\": 38,\n        \"samples\": [\n          91.0,\n          79.0,\n          82.0\n        ],\n        \"semantic_type\": \"\",\n        \"description\": \"\"\n      }\n    },\n    {\n      \"column\": \"Bean Type\",\n      \"properties\": {\n        \"dtype\": \"category\",\n        \"num_unique_values\": 20,\n        \"samples\": [\n          \"Trinitario\",\n          \"Nacional\",\n          \"Trinitario (Scavina)\"\n        ],\n        \"semantic_type\": \"\",\n        \"description\": \"\"\n      }\n    },\n    {\n      \"column\": \"Broad Bean Origin\",\n      \"properties\": {\n        \"dtype\": \"category\",\n        \"num_unique_values\": 59,\n        \"samples\": [\n          \"Trinidad\",\n          \"Colombia\",\n          \"Australia\"\n        ],\n        \"semantic_type\": \"\",\n        \"description\": \"\"\n      }\n    },\n    {\n      \"column\": \"Bean Type_freq\",\n      \"properties\": {\n        \"dtype\": \"number\",\n        \"std\": 98,\n        \"min\": 1,\n        \"max\": 259,\n        \"num_unique_values\": 12,\n        \"samples\": [\n          5,\n          1,\n          134\n        ],\n        \"semantic_type\": \"\",\n        \"description\": \"\"\n      }\n    },\n    {\n      \"column\": \"Bean_Type_Rarity\",\n      \"properties\": {\n        \"dtype\": \"category\",\n        \"num_unique_values\": 2,\n        \"samples\": [\n          \"medium\",\n          \"rare\"\n        ],\n        \"semantic_type\": \"\",\n        \"description\": \"\"\n      }\n    },\n    {\n      \"column\": \"id\",\n      \"properties\": {\n        \"dtype\": \"number\",\n        \"std\": 156,\n        \"min\": 0,\n        \"max\": 539,\n        \"num_unique_values\": 540,\n        \"samples\": [\n          229,\n          73\n        ],\n        \"semantic_type\": \"\",\n        \"description\": \"\"\n      }\n    },\n    {\n      \"column\": \"Rating\",\n      \"properties\": {\n        \"dtype\": \"number\",\n        \"std\": 0.22221763542943535,\n        \"min\": 2.171117311452015,\n        \"max\": 3.8268493228543474,\n        \"num_unique_values\": 532,\n        \"samples\": [\n          3.08922123162389,\n          3.1720155405501127\n        ],\n        \"semantic_type\": \"\",\n        \"description\": \"\"\n      }\n    }\n  ]\n}"
            }
          },
          "metadata": {},
          "execution_count": 89
        }
      ]
    },
    {
      "cell_type": "code",
      "source": [
        "test_df.info()"
      ],
      "metadata": {
        "colab": {
          "base_uri": "https://localhost:8080/"
        },
        "id": "owdWZGSLAjHg",
        "outputId": "ad2b9fcd-b3a5-447b-df3b-8932438b171d",
        "collapsed": true
      },
      "execution_count": null,
      "outputs": [
        {
          "output_type": "stream",
          "name": "stdout",
          "text": [
            "<class 'pandas.core.frame.DataFrame'>\n",
            "RangeIndex: 540 entries, 0 to 539\n",
            "Data columns (total 8 columns):\n",
            " #   Column                Non-Null Count  Dtype \n",
            "---  ------                --------------  ----- \n",
            " 0   Company               540 non-null    object\n",
            " 1   Specific Bean Origin  540 non-null    object\n",
            " 2   REF                   540 non-null    int64 \n",
            " 3   Review                540 non-null    int64 \n",
            " 4   Cocoa Percent         540 non-null    object\n",
            " 5   Company Location      540 non-null    object\n",
            " 6   Bean Type             540 non-null    object\n",
            " 7   Broad Bean Origin     540 non-null    object\n",
            "dtypes: int64(2), object(6)\n",
            "memory usage: 33.9+ KB\n"
          ]
        }
      ]
    },
    {
      "cell_type": "markdown",
      "source": [
        "Пропусков нет. Всё хорошо.\n",
        "\n",
        "Посмотрим какие и в каком порядке идут признаки в тренировочной выборке."
      ],
      "metadata": {
        "id": "g3P7URkxLbkh"
      }
    },
    {
      "cell_type": "code",
      "source": [
        "X_train.head()"
      ],
      "metadata": {
        "colab": {
          "base_uri": "https://localhost:8080/",
          "height": 206
        },
        "id": "NGYtKBHzL2ub",
        "outputId": "d45a7684-84ed-4193-f74b-4aa62bfde049",
        "collapsed": true
      },
      "execution_count": null,
      "outputs": [
        {
          "output_type": "execute_result",
          "data": {
            "text/plain": [
              "                        Company                Specific Bean Origin   REF  \\\n",
              "0                Willie's Cacao                          Rio Caribe   457   \n",
              "1            Beschle (Felchlin)  Ocumare, Premier Cru, Quizas No. 2   508   \n",
              "2                   Dark Forest                            Tanzania  1554   \n",
              "3  Brasstown aka It's Chocolate                          Cooproagro  1125   \n",
              "4                        Pralus                     Java, Indonesie    32   \n",
              "\n",
              "   Review  Cocoa Percent   Bean Type   Broad Bean Origin  Bean Type_freq  \\\n",
              "0    2009           72.0  Trinitario           Venezuela             284   \n",
              "1    2010           72.0                       Venezuela             617   \n",
              "2    2015           70.0                        Tanzania             617   \n",
              "3    2013           72.0  Trinitario  Dominican Republic             284   \n",
              "4    2006           75.0     Criollo           Indonesia             103   \n",
              "\n",
              "  Bean_Type_Rarity  \n",
              "0           medium  \n",
              "1           famous  \n",
              "2           famous  \n",
              "3           medium  \n",
              "4             rare  "
            ],
            "text/html": [
              "\n",
              "  <div id=\"df-6b4a0f89-ae89-4e98-abae-0eed79e14fb0\" class=\"colab-df-container\">\n",
              "    <div>\n",
              "<style scoped>\n",
              "    .dataframe tbody tr th:only-of-type {\n",
              "        vertical-align: middle;\n",
              "    }\n",
              "\n",
              "    .dataframe tbody tr th {\n",
              "        vertical-align: top;\n",
              "    }\n",
              "\n",
              "    .dataframe thead th {\n",
              "        text-align: right;\n",
              "    }\n",
              "</style>\n",
              "<table border=\"1\" class=\"dataframe\">\n",
              "  <thead>\n",
              "    <tr style=\"text-align: right;\">\n",
              "      <th></th>\n",
              "      <th>Company</th>\n",
              "      <th>Specific Bean Origin</th>\n",
              "      <th>REF</th>\n",
              "      <th>Review</th>\n",
              "      <th>Cocoa Percent</th>\n",
              "      <th>Bean Type</th>\n",
              "      <th>Broad Bean Origin</th>\n",
              "      <th>Bean Type_freq</th>\n",
              "      <th>Bean_Type_Rarity</th>\n",
              "    </tr>\n",
              "  </thead>\n",
              "  <tbody>\n",
              "    <tr>\n",
              "      <th>0</th>\n",
              "      <td>Willie's Cacao</td>\n",
              "      <td>Rio Caribe</td>\n",
              "      <td>457</td>\n",
              "      <td>2009</td>\n",
              "      <td>72.0</td>\n",
              "      <td>Trinitario</td>\n",
              "      <td>Venezuela</td>\n",
              "      <td>284</td>\n",
              "      <td>medium</td>\n",
              "    </tr>\n",
              "    <tr>\n",
              "      <th>1</th>\n",
              "      <td>Beschle (Felchlin)</td>\n",
              "      <td>Ocumare, Premier Cru, Quizas No. 2</td>\n",
              "      <td>508</td>\n",
              "      <td>2010</td>\n",
              "      <td>72.0</td>\n",
              "      <td></td>\n",
              "      <td>Venezuela</td>\n",
              "      <td>617</td>\n",
              "      <td>famous</td>\n",
              "    </tr>\n",
              "    <tr>\n",
              "      <th>2</th>\n",
              "      <td>Dark Forest</td>\n",
              "      <td>Tanzania</td>\n",
              "      <td>1554</td>\n",
              "      <td>2015</td>\n",
              "      <td>70.0</td>\n",
              "      <td></td>\n",
              "      <td>Tanzania</td>\n",
              "      <td>617</td>\n",
              "      <td>famous</td>\n",
              "    </tr>\n",
              "    <tr>\n",
              "      <th>3</th>\n",
              "      <td>Brasstown aka It's Chocolate</td>\n",
              "      <td>Cooproagro</td>\n",
              "      <td>1125</td>\n",
              "      <td>2013</td>\n",
              "      <td>72.0</td>\n",
              "      <td>Trinitario</td>\n",
              "      <td>Dominican Republic</td>\n",
              "      <td>284</td>\n",
              "      <td>medium</td>\n",
              "    </tr>\n",
              "    <tr>\n",
              "      <th>4</th>\n",
              "      <td>Pralus</td>\n",
              "      <td>Java, Indonesie</td>\n",
              "      <td>32</td>\n",
              "      <td>2006</td>\n",
              "      <td>75.0</td>\n",
              "      <td>Criollo</td>\n",
              "      <td>Indonesia</td>\n",
              "      <td>103</td>\n",
              "      <td>rare</td>\n",
              "    </tr>\n",
              "  </tbody>\n",
              "</table>\n",
              "</div>\n",
              "    <div class=\"colab-df-buttons\">\n",
              "\n",
              "  <div class=\"colab-df-container\">\n",
              "    <button class=\"colab-df-convert\" onclick=\"convertToInteractive('df-6b4a0f89-ae89-4e98-abae-0eed79e14fb0')\"\n",
              "            title=\"Convert this dataframe to an interactive table.\"\n",
              "            style=\"display:none;\">\n",
              "\n",
              "  <svg xmlns=\"http://www.w3.org/2000/svg\" height=\"24px\" viewBox=\"0 -960 960 960\">\n",
              "    <path d=\"M120-120v-720h720v720H120Zm60-500h600v-160H180v160Zm220 220h160v-160H400v160Zm0 220h160v-160H400v160ZM180-400h160v-160H180v160Zm440 0h160v-160H620v160ZM180-180h160v-160H180v160Zm440 0h160v-160H620v160Z\"/>\n",
              "  </svg>\n",
              "    </button>\n",
              "\n",
              "  <style>\n",
              "    .colab-df-container {\n",
              "      display:flex;\n",
              "      gap: 12px;\n",
              "    }\n",
              "\n",
              "    .colab-df-convert {\n",
              "      background-color: #E8F0FE;\n",
              "      border: none;\n",
              "      border-radius: 50%;\n",
              "      cursor: pointer;\n",
              "      display: none;\n",
              "      fill: #1967D2;\n",
              "      height: 32px;\n",
              "      padding: 0 0 0 0;\n",
              "      width: 32px;\n",
              "    }\n",
              "\n",
              "    .colab-df-convert:hover {\n",
              "      background-color: #E2EBFA;\n",
              "      box-shadow: 0px 1px 2px rgba(60, 64, 67, 0.3), 0px 1px 3px 1px rgba(60, 64, 67, 0.15);\n",
              "      fill: #174EA6;\n",
              "    }\n",
              "\n",
              "    .colab-df-buttons div {\n",
              "      margin-bottom: 4px;\n",
              "    }\n",
              "\n",
              "    [theme=dark] .colab-df-convert {\n",
              "      background-color: #3B4455;\n",
              "      fill: #D2E3FC;\n",
              "    }\n",
              "\n",
              "    [theme=dark] .colab-df-convert:hover {\n",
              "      background-color: #434B5C;\n",
              "      box-shadow: 0px 1px 3px 1px rgba(0, 0, 0, 0.15);\n",
              "      filter: drop-shadow(0px 1px 2px rgba(0, 0, 0, 0.3));\n",
              "      fill: #FFFFFF;\n",
              "    }\n",
              "  </style>\n",
              "\n",
              "    <script>\n",
              "      const buttonEl =\n",
              "        document.querySelector('#df-6b4a0f89-ae89-4e98-abae-0eed79e14fb0 button.colab-df-convert');\n",
              "      buttonEl.style.display =\n",
              "        google.colab.kernel.accessAllowed ? 'block' : 'none';\n",
              "\n",
              "      async function convertToInteractive(key) {\n",
              "        const element = document.querySelector('#df-6b4a0f89-ae89-4e98-abae-0eed79e14fb0');\n",
              "        const dataTable =\n",
              "          await google.colab.kernel.invokeFunction('convertToInteractive',\n",
              "                                                    [key], {});\n",
              "        if (!dataTable) return;\n",
              "\n",
              "        const docLinkHtml = 'Like what you see? Visit the ' +\n",
              "          '<a target=\"_blank\" href=https://colab.research.google.com/notebooks/data_table.ipynb>data table notebook</a>'\n",
              "          + ' to learn more about interactive tables.';\n",
              "        element.innerHTML = '';\n",
              "        dataTable['output_type'] = 'display_data';\n",
              "        await google.colab.output.renderOutput(dataTable, element);\n",
              "        const docLink = document.createElement('div');\n",
              "        docLink.innerHTML = docLinkHtml;\n",
              "        element.appendChild(docLink);\n",
              "      }\n",
              "    </script>\n",
              "  </div>\n",
              "\n",
              "\n",
              "<div id=\"df-cc59b614-8585-49f2-824e-ea9479eed791\">\n",
              "  <button class=\"colab-df-quickchart\" onclick=\"quickchart('df-cc59b614-8585-49f2-824e-ea9479eed791')\"\n",
              "            title=\"Suggest charts\"\n",
              "            style=\"display:none;\">\n",
              "\n",
              "<svg xmlns=\"http://www.w3.org/2000/svg\" height=\"24px\"viewBox=\"0 0 24 24\"\n",
              "     width=\"24px\">\n",
              "    <g>\n",
              "        <path d=\"M19 3H5c-1.1 0-2 .9-2 2v14c0 1.1.9 2 2 2h14c1.1 0 2-.9 2-2V5c0-1.1-.9-2-2-2zM9 17H7v-7h2v7zm4 0h-2V7h2v10zm4 0h-2v-4h2v4z\"/>\n",
              "    </g>\n",
              "</svg>\n",
              "  </button>\n",
              "\n",
              "<style>\n",
              "  .colab-df-quickchart {\n",
              "      --bg-color: #E8F0FE;\n",
              "      --fill-color: #1967D2;\n",
              "      --hover-bg-color: #E2EBFA;\n",
              "      --hover-fill-color: #174EA6;\n",
              "      --disabled-fill-color: #AAA;\n",
              "      --disabled-bg-color: #DDD;\n",
              "  }\n",
              "\n",
              "  [theme=dark] .colab-df-quickchart {\n",
              "      --bg-color: #3B4455;\n",
              "      --fill-color: #D2E3FC;\n",
              "      --hover-bg-color: #434B5C;\n",
              "      --hover-fill-color: #FFFFFF;\n",
              "      --disabled-bg-color: #3B4455;\n",
              "      --disabled-fill-color: #666;\n",
              "  }\n",
              "\n",
              "  .colab-df-quickchart {\n",
              "    background-color: var(--bg-color);\n",
              "    border: none;\n",
              "    border-radius: 50%;\n",
              "    cursor: pointer;\n",
              "    display: none;\n",
              "    fill: var(--fill-color);\n",
              "    height: 32px;\n",
              "    padding: 0;\n",
              "    width: 32px;\n",
              "  }\n",
              "\n",
              "  .colab-df-quickchart:hover {\n",
              "    background-color: var(--hover-bg-color);\n",
              "    box-shadow: 0 1px 2px rgba(60, 64, 67, 0.3), 0 1px 3px 1px rgba(60, 64, 67, 0.15);\n",
              "    fill: var(--button-hover-fill-color);\n",
              "  }\n",
              "\n",
              "  .colab-df-quickchart-complete:disabled,\n",
              "  .colab-df-quickchart-complete:disabled:hover {\n",
              "    background-color: var(--disabled-bg-color);\n",
              "    fill: var(--disabled-fill-color);\n",
              "    box-shadow: none;\n",
              "  }\n",
              "\n",
              "  .colab-df-spinner {\n",
              "    border: 2px solid var(--fill-color);\n",
              "    border-color: transparent;\n",
              "    border-bottom-color: var(--fill-color);\n",
              "    animation:\n",
              "      spin 1s steps(1) infinite;\n",
              "  }\n",
              "\n",
              "  @keyframes spin {\n",
              "    0% {\n",
              "      border-color: transparent;\n",
              "      border-bottom-color: var(--fill-color);\n",
              "      border-left-color: var(--fill-color);\n",
              "    }\n",
              "    20% {\n",
              "      border-color: transparent;\n",
              "      border-left-color: var(--fill-color);\n",
              "      border-top-color: var(--fill-color);\n",
              "    }\n",
              "    30% {\n",
              "      border-color: transparent;\n",
              "      border-left-color: var(--fill-color);\n",
              "      border-top-color: var(--fill-color);\n",
              "      border-right-color: var(--fill-color);\n",
              "    }\n",
              "    40% {\n",
              "      border-color: transparent;\n",
              "      border-right-color: var(--fill-color);\n",
              "      border-top-color: var(--fill-color);\n",
              "    }\n",
              "    60% {\n",
              "      border-color: transparent;\n",
              "      border-right-color: var(--fill-color);\n",
              "    }\n",
              "    80% {\n",
              "      border-color: transparent;\n",
              "      border-right-color: var(--fill-color);\n",
              "      border-bottom-color: var(--fill-color);\n",
              "    }\n",
              "    90% {\n",
              "      border-color: transparent;\n",
              "      border-bottom-color: var(--fill-color);\n",
              "    }\n",
              "  }\n",
              "</style>\n",
              "\n",
              "  <script>\n",
              "    async function quickchart(key) {\n",
              "      const quickchartButtonEl =\n",
              "        document.querySelector('#' + key + ' button');\n",
              "      quickchartButtonEl.disabled = true;  // To prevent multiple clicks.\n",
              "      quickchartButtonEl.classList.add('colab-df-spinner');\n",
              "      try {\n",
              "        const charts = await google.colab.kernel.invokeFunction(\n",
              "            'suggestCharts', [key], {});\n",
              "      } catch (error) {\n",
              "        console.error('Error during call to suggestCharts:', error);\n",
              "      }\n",
              "      quickchartButtonEl.classList.remove('colab-df-spinner');\n",
              "      quickchartButtonEl.classList.add('colab-df-quickchart-complete');\n",
              "    }\n",
              "    (() => {\n",
              "      let quickchartButtonEl =\n",
              "        document.querySelector('#df-cc59b614-8585-49f2-824e-ea9479eed791 button');\n",
              "      quickchartButtonEl.style.display =\n",
              "        google.colab.kernel.accessAllowed ? 'block' : 'none';\n",
              "    })();\n",
              "  </script>\n",
              "</div>\n",
              "    </div>\n",
              "  </div>\n"
            ],
            "application/vnd.google.colaboratory.intrinsic+json": {
              "type": "dataframe",
              "variable_name": "X_train",
              "summary": "{\n  \"name\": \"X_train\",\n  \"rows\": 1236,\n  \"fields\": [\n    {\n      \"column\": \"Company\",\n      \"properties\": {\n        \"dtype\": \"category\",\n        \"num_unique_values\": 375,\n        \"samples\": [\n          \"Castronovo\",\n          \"DeVries\",\n          \"Cacao Hunters\"\n        ],\n        \"semantic_type\": \"\",\n        \"description\": \"\"\n      }\n    },\n    {\n      \"column\": \"Specific Bean Origin\",\n      \"properties\": {\n        \"dtype\": \"string\",\n        \"num_unique_values\": 751,\n        \"samples\": [\n          \"Dominican Republic w/ nibs\",\n          \"Java, Grand Cru\",\n          \"Manabi\"\n        ],\n        \"semantic_type\": \"\",\n        \"description\": \"\"\n      }\n    },\n    {\n      \"column\": \"REF\",\n      \"properties\": {\n        \"dtype\": \"number\",\n        \"std\": 550,\n        \"min\": 5,\n        \"max\": 1952,\n        \"num_unique_values\": 432,\n        \"samples\": [\n          1383,\n          1478,\n          56\n        ],\n        \"semantic_type\": \"\",\n        \"description\": \"\"\n      }\n    },\n    {\n      \"column\": \"Review\",\n      \"properties\": {\n        \"dtype\": \"number\",\n        \"std\": 2,\n        \"min\": 2006,\n        \"max\": 2017,\n        \"num_unique_values\": 12,\n        \"samples\": [\n          2007,\n          2012,\n          2009\n        ],\n        \"semantic_type\": \"\",\n        \"description\": \"\"\n      }\n    },\n    {\n      \"column\": \"Cocoa Percent\",\n      \"properties\": {\n        \"dtype\": \"number\",\n        \"std\": 5.640460996833798,\n        \"min\": 46.0,\n        \"max\": 91.0,\n        \"num_unique_values\": 38,\n        \"samples\": [\n          73.5,\n          50.0,\n          77.0\n        ],\n        \"semantic_type\": \"\",\n        \"description\": \"\"\n      }\n    },\n    {\n      \"column\": \"Bean Type\",\n      \"properties\": {\n        \"dtype\": \"category\",\n        \"num_unique_values\": 38,\n        \"samples\": [\n          \"Blend-Forastero,Criollo\",\n          \"Trinitario, Nacional\",\n          \"Forastero (Arriba)\"\n        ],\n        \"semantic_type\": \"\",\n        \"description\": \"\"\n      }\n    },\n    {\n      \"column\": \"Broad Bean Origin\",\n      \"properties\": {\n        \"dtype\": \"category\",\n        \"num_unique_values\": 82,\n        \"samples\": [\n          \"Vanuatu\",\n          \"Venezuela\",\n          \"Jamaica\"\n        ],\n        \"semantic_type\": \"\",\n        \"description\": \"\"\n      }\n    },\n    {\n      \"column\": \"Bean Type_freq\",\n      \"properties\": {\n        \"dtype\": \"number\",\n        \"std\": 244,\n        \"min\": 1,\n        \"max\": 617,\n        \"num_unique_values\": 14,\n        \"samples\": [\n          33,\n          28,\n          284\n        ],\n        \"semantic_type\": \"\",\n        \"description\": \"\"\n      }\n    },\n    {\n      \"column\": \"Bean_Type_Rarity\",\n      \"properties\": {\n        \"dtype\": \"category\",\n        \"num_unique_values\": 3,\n        \"samples\": [\n          \"medium\",\n          \"famous\",\n          \"rare\"\n        ],\n        \"semantic_type\": \"\",\n        \"description\": \"\"\n      }\n    }\n  ]\n}"
            }
          },
          "metadata": {},
          "execution_count": 289
        }
      ]
    },
    {
      "cell_type": "code",
      "source": [
        "test_df['Cocoa Percent'] = test_df['Cocoa Percent'].map(lambda x: float(x[:-1]))\n",
        "test_df.drop(['Company Location'], axis=1, inplace=True)\n",
        "test_df['Broad Bean Origin'] = test_df['Broad Bean Origin'].replace('\\xa0', train_df['Broad Bean Origin'].mode()[0])\n",
        "test_df['Bean Type_freq'] = test_df.groupby('Bean Type')['Bean Type'].transform('count')\n",
        "test_df['Bean_Type_Rarity'] = test_df['Bean Type_freq'].apply(rarity)"
      ],
      "metadata": {
        "id": "LjOljb8F_htR"
      },
      "execution_count": null,
      "outputs": []
    },
    {
      "cell_type": "markdown",
      "source": [
        "Проверяем, что всё хорошо."
      ],
      "metadata": {
        "id": "azbhnYhNDKZ1"
      }
    },
    {
      "cell_type": "code",
      "source": [
        "test_df.head()"
      ],
      "metadata": {
        "colab": {
          "base_uri": "https://localhost:8080/",
          "height": 206
        },
        "id": "P8LXI0FzDNBd",
        "outputId": "1d173306-b68d-48e6-df9e-777f7a14f78e",
        "collapsed": true
      },
      "execution_count": null,
      "outputs": [
        {
          "output_type": "execute_result",
          "data": {
            "text/plain": [
              "    Company         Specific Bean Origin   REF  Review  Cocoa Percent  \\\n",
              "0     Ohiyo  San Juan Estate, Gran Couva  1594    2015           70.0   \n",
              "1  Blanxart                 Organic Dark   322    2009           72.0   \n",
              "2    Brazen                Maya Mountain  1518    2015           80.0   \n",
              "3    Patric                   Madagascar   439    2009           67.0   \n",
              "4   Potomac              Upala, Batch 12   607    2010           82.0   \n",
              "\n",
              "    Bean Type Broad Bean Origin  Bean Type_freq Bean_Type_Rarity  \n",
              "0  Trinitario          Trinidad             134             rare  \n",
              "1                     Venezuela             259           medium  \n",
              "2  Trinitario            Belize             134             rare  \n",
              "3  Trinitario        Madagascar             134             rare  \n",
              "4      Matina        Costa Rica               2             rare  "
            ],
            "text/html": [
              "\n",
              "  <div id=\"df-3b1824f2-37d8-487d-bd77-683b7419bf67\" class=\"colab-df-container\">\n",
              "    <div>\n",
              "<style scoped>\n",
              "    .dataframe tbody tr th:only-of-type {\n",
              "        vertical-align: middle;\n",
              "    }\n",
              "\n",
              "    .dataframe tbody tr th {\n",
              "        vertical-align: top;\n",
              "    }\n",
              "\n",
              "    .dataframe thead th {\n",
              "        text-align: right;\n",
              "    }\n",
              "</style>\n",
              "<table border=\"1\" class=\"dataframe\">\n",
              "  <thead>\n",
              "    <tr style=\"text-align: right;\">\n",
              "      <th></th>\n",
              "      <th>Company</th>\n",
              "      <th>Specific Bean Origin</th>\n",
              "      <th>REF</th>\n",
              "      <th>Review</th>\n",
              "      <th>Cocoa Percent</th>\n",
              "      <th>Bean Type</th>\n",
              "      <th>Broad Bean Origin</th>\n",
              "      <th>Bean Type_freq</th>\n",
              "      <th>Bean_Type_Rarity</th>\n",
              "    </tr>\n",
              "  </thead>\n",
              "  <tbody>\n",
              "    <tr>\n",
              "      <th>0</th>\n",
              "      <td>Ohiyo</td>\n",
              "      <td>San Juan Estate, Gran Couva</td>\n",
              "      <td>1594</td>\n",
              "      <td>2015</td>\n",
              "      <td>70.0</td>\n",
              "      <td>Trinitario</td>\n",
              "      <td>Trinidad</td>\n",
              "      <td>134</td>\n",
              "      <td>rare</td>\n",
              "    </tr>\n",
              "    <tr>\n",
              "      <th>1</th>\n",
              "      <td>Blanxart</td>\n",
              "      <td>Organic Dark</td>\n",
              "      <td>322</td>\n",
              "      <td>2009</td>\n",
              "      <td>72.0</td>\n",
              "      <td></td>\n",
              "      <td>Venezuela</td>\n",
              "      <td>259</td>\n",
              "      <td>medium</td>\n",
              "    </tr>\n",
              "    <tr>\n",
              "      <th>2</th>\n",
              "      <td>Brazen</td>\n",
              "      <td>Maya Mountain</td>\n",
              "      <td>1518</td>\n",
              "      <td>2015</td>\n",
              "      <td>80.0</td>\n",
              "      <td>Trinitario</td>\n",
              "      <td>Belize</td>\n",
              "      <td>134</td>\n",
              "      <td>rare</td>\n",
              "    </tr>\n",
              "    <tr>\n",
              "      <th>3</th>\n",
              "      <td>Patric</td>\n",
              "      <td>Madagascar</td>\n",
              "      <td>439</td>\n",
              "      <td>2009</td>\n",
              "      <td>67.0</td>\n",
              "      <td>Trinitario</td>\n",
              "      <td>Madagascar</td>\n",
              "      <td>134</td>\n",
              "      <td>rare</td>\n",
              "    </tr>\n",
              "    <tr>\n",
              "      <th>4</th>\n",
              "      <td>Potomac</td>\n",
              "      <td>Upala, Batch 12</td>\n",
              "      <td>607</td>\n",
              "      <td>2010</td>\n",
              "      <td>82.0</td>\n",
              "      <td>Matina</td>\n",
              "      <td>Costa Rica</td>\n",
              "      <td>2</td>\n",
              "      <td>rare</td>\n",
              "    </tr>\n",
              "  </tbody>\n",
              "</table>\n",
              "</div>\n",
              "    <div class=\"colab-df-buttons\">\n",
              "\n",
              "  <div class=\"colab-df-container\">\n",
              "    <button class=\"colab-df-convert\" onclick=\"convertToInteractive('df-3b1824f2-37d8-487d-bd77-683b7419bf67')\"\n",
              "            title=\"Convert this dataframe to an interactive table.\"\n",
              "            style=\"display:none;\">\n",
              "\n",
              "  <svg xmlns=\"http://www.w3.org/2000/svg\" height=\"24px\" viewBox=\"0 -960 960 960\">\n",
              "    <path d=\"M120-120v-720h720v720H120Zm60-500h600v-160H180v160Zm220 220h160v-160H400v160Zm0 220h160v-160H400v160ZM180-400h160v-160H180v160Zm440 0h160v-160H620v160ZM180-180h160v-160H180v160Zm440 0h160v-160H620v160Z\"/>\n",
              "  </svg>\n",
              "    </button>\n",
              "\n",
              "  <style>\n",
              "    .colab-df-container {\n",
              "      display:flex;\n",
              "      gap: 12px;\n",
              "    }\n",
              "\n",
              "    .colab-df-convert {\n",
              "      background-color: #E8F0FE;\n",
              "      border: none;\n",
              "      border-radius: 50%;\n",
              "      cursor: pointer;\n",
              "      display: none;\n",
              "      fill: #1967D2;\n",
              "      height: 32px;\n",
              "      padding: 0 0 0 0;\n",
              "      width: 32px;\n",
              "    }\n",
              "\n",
              "    .colab-df-convert:hover {\n",
              "      background-color: #E2EBFA;\n",
              "      box-shadow: 0px 1px 2px rgba(60, 64, 67, 0.3), 0px 1px 3px 1px rgba(60, 64, 67, 0.15);\n",
              "      fill: #174EA6;\n",
              "    }\n",
              "\n",
              "    .colab-df-buttons div {\n",
              "      margin-bottom: 4px;\n",
              "    }\n",
              "\n",
              "    [theme=dark] .colab-df-convert {\n",
              "      background-color: #3B4455;\n",
              "      fill: #D2E3FC;\n",
              "    }\n",
              "\n",
              "    [theme=dark] .colab-df-convert:hover {\n",
              "      background-color: #434B5C;\n",
              "      box-shadow: 0px 1px 3px 1px rgba(0, 0, 0, 0.15);\n",
              "      filter: drop-shadow(0px 1px 2px rgba(0, 0, 0, 0.3));\n",
              "      fill: #FFFFFF;\n",
              "    }\n",
              "  </style>\n",
              "\n",
              "    <script>\n",
              "      const buttonEl =\n",
              "        document.querySelector('#df-3b1824f2-37d8-487d-bd77-683b7419bf67 button.colab-df-convert');\n",
              "      buttonEl.style.display =\n",
              "        google.colab.kernel.accessAllowed ? 'block' : 'none';\n",
              "\n",
              "      async function convertToInteractive(key) {\n",
              "        const element = document.querySelector('#df-3b1824f2-37d8-487d-bd77-683b7419bf67');\n",
              "        const dataTable =\n",
              "          await google.colab.kernel.invokeFunction('convertToInteractive',\n",
              "                                                    [key], {});\n",
              "        if (!dataTable) return;\n",
              "\n",
              "        const docLinkHtml = 'Like what you see? Visit the ' +\n",
              "          '<a target=\"_blank\" href=https://colab.research.google.com/notebooks/data_table.ipynb>data table notebook</a>'\n",
              "          + ' to learn more about interactive tables.';\n",
              "        element.innerHTML = '';\n",
              "        dataTable['output_type'] = 'display_data';\n",
              "        await google.colab.output.renderOutput(dataTable, element);\n",
              "        const docLink = document.createElement('div');\n",
              "        docLink.innerHTML = docLinkHtml;\n",
              "        element.appendChild(docLink);\n",
              "      }\n",
              "    </script>\n",
              "  </div>\n",
              "\n",
              "\n",
              "<div id=\"df-4b716c0f-6a74-429f-8759-52f0032a8db4\">\n",
              "  <button class=\"colab-df-quickchart\" onclick=\"quickchart('df-4b716c0f-6a74-429f-8759-52f0032a8db4')\"\n",
              "            title=\"Suggest charts\"\n",
              "            style=\"display:none;\">\n",
              "\n",
              "<svg xmlns=\"http://www.w3.org/2000/svg\" height=\"24px\"viewBox=\"0 0 24 24\"\n",
              "     width=\"24px\">\n",
              "    <g>\n",
              "        <path d=\"M19 3H5c-1.1 0-2 .9-2 2v14c0 1.1.9 2 2 2h14c1.1 0 2-.9 2-2V5c0-1.1-.9-2-2-2zM9 17H7v-7h2v7zm4 0h-2V7h2v10zm4 0h-2v-4h2v4z\"/>\n",
              "    </g>\n",
              "</svg>\n",
              "  </button>\n",
              "\n",
              "<style>\n",
              "  .colab-df-quickchart {\n",
              "      --bg-color: #E8F0FE;\n",
              "      --fill-color: #1967D2;\n",
              "      --hover-bg-color: #E2EBFA;\n",
              "      --hover-fill-color: #174EA6;\n",
              "      --disabled-fill-color: #AAA;\n",
              "      --disabled-bg-color: #DDD;\n",
              "  }\n",
              "\n",
              "  [theme=dark] .colab-df-quickchart {\n",
              "      --bg-color: #3B4455;\n",
              "      --fill-color: #D2E3FC;\n",
              "      --hover-bg-color: #434B5C;\n",
              "      --hover-fill-color: #FFFFFF;\n",
              "      --disabled-bg-color: #3B4455;\n",
              "      --disabled-fill-color: #666;\n",
              "  }\n",
              "\n",
              "  .colab-df-quickchart {\n",
              "    background-color: var(--bg-color);\n",
              "    border: none;\n",
              "    border-radius: 50%;\n",
              "    cursor: pointer;\n",
              "    display: none;\n",
              "    fill: var(--fill-color);\n",
              "    height: 32px;\n",
              "    padding: 0;\n",
              "    width: 32px;\n",
              "  }\n",
              "\n",
              "  .colab-df-quickchart:hover {\n",
              "    background-color: var(--hover-bg-color);\n",
              "    box-shadow: 0 1px 2px rgba(60, 64, 67, 0.3), 0 1px 3px 1px rgba(60, 64, 67, 0.15);\n",
              "    fill: var(--button-hover-fill-color);\n",
              "  }\n",
              "\n",
              "  .colab-df-quickchart-complete:disabled,\n",
              "  .colab-df-quickchart-complete:disabled:hover {\n",
              "    background-color: var(--disabled-bg-color);\n",
              "    fill: var(--disabled-fill-color);\n",
              "    box-shadow: none;\n",
              "  }\n",
              "\n",
              "  .colab-df-spinner {\n",
              "    border: 2px solid var(--fill-color);\n",
              "    border-color: transparent;\n",
              "    border-bottom-color: var(--fill-color);\n",
              "    animation:\n",
              "      spin 1s steps(1) infinite;\n",
              "  }\n",
              "\n",
              "  @keyframes spin {\n",
              "    0% {\n",
              "      border-color: transparent;\n",
              "      border-bottom-color: var(--fill-color);\n",
              "      border-left-color: var(--fill-color);\n",
              "    }\n",
              "    20% {\n",
              "      border-color: transparent;\n",
              "      border-left-color: var(--fill-color);\n",
              "      border-top-color: var(--fill-color);\n",
              "    }\n",
              "    30% {\n",
              "      border-color: transparent;\n",
              "      border-left-color: var(--fill-color);\n",
              "      border-top-color: var(--fill-color);\n",
              "      border-right-color: var(--fill-color);\n",
              "    }\n",
              "    40% {\n",
              "      border-color: transparent;\n",
              "      border-right-color: var(--fill-color);\n",
              "      border-top-color: var(--fill-color);\n",
              "    }\n",
              "    60% {\n",
              "      border-color: transparent;\n",
              "      border-right-color: var(--fill-color);\n",
              "    }\n",
              "    80% {\n",
              "      border-color: transparent;\n",
              "      border-right-color: var(--fill-color);\n",
              "      border-bottom-color: var(--fill-color);\n",
              "    }\n",
              "    90% {\n",
              "      border-color: transparent;\n",
              "      border-bottom-color: var(--fill-color);\n",
              "    }\n",
              "  }\n",
              "</style>\n",
              "\n",
              "  <script>\n",
              "    async function quickchart(key) {\n",
              "      const quickchartButtonEl =\n",
              "        document.querySelector('#' + key + ' button');\n",
              "      quickchartButtonEl.disabled = true;  // To prevent multiple clicks.\n",
              "      quickchartButtonEl.classList.add('colab-df-spinner');\n",
              "      try {\n",
              "        const charts = await google.colab.kernel.invokeFunction(\n",
              "            'suggestCharts', [key], {});\n",
              "      } catch (error) {\n",
              "        console.error('Error during call to suggestCharts:', error);\n",
              "      }\n",
              "      quickchartButtonEl.classList.remove('colab-df-spinner');\n",
              "      quickchartButtonEl.classList.add('colab-df-quickchart-complete');\n",
              "    }\n",
              "    (() => {\n",
              "      let quickchartButtonEl =\n",
              "        document.querySelector('#df-4b716c0f-6a74-429f-8759-52f0032a8db4 button');\n",
              "      quickchartButtonEl.style.display =\n",
              "        google.colab.kernel.accessAllowed ? 'block' : 'none';\n",
              "    })();\n",
              "  </script>\n",
              "</div>\n",
              "    </div>\n",
              "  </div>\n"
            ],
            "application/vnd.google.colaboratory.intrinsic+json": {
              "type": "dataframe",
              "variable_name": "test_df",
              "summary": "{\n  \"name\": \"test_df\",\n  \"rows\": 540,\n  \"fields\": [\n    {\n      \"column\": \"Company\",\n      \"properties\": {\n        \"dtype\": \"category\",\n        \"num_unique_values\": 244,\n        \"samples\": [\n          \"Bar Au Chocolat\",\n          \"Rozsavolgyi\",\n          \"Amano\"\n        ],\n        \"semantic_type\": \"\",\n        \"description\": \"\"\n      }\n    },\n    {\n      \"column\": \"Specific Bean Origin\",\n      \"properties\": {\n        \"dtype\": \"string\",\n        \"num_unique_values\": 385,\n        \"samples\": [\n          \"Dancing in Your Head, 5 bean blend\",\n          \"Porcelana, Tabasco, Marfil de Blanco\",\n          \"Anselmo Paraiso Estate\"\n        ],\n        \"semantic_type\": \"\",\n        \"description\": \"\"\n      }\n    },\n    {\n      \"column\": \"REF\",\n      \"properties\": {\n        \"dtype\": \"number\",\n        \"std\": 556,\n        \"min\": 5,\n        \"max\": 1952,\n        \"num_unique_values\": 338,\n        \"samples\": [\n          1129,\n          1201,\n          1626\n        ],\n        \"semantic_type\": \"\",\n        \"description\": \"\"\n      }\n    },\n    {\n      \"column\": \"Review\",\n      \"properties\": {\n        \"dtype\": \"number\",\n        \"std\": 2,\n        \"min\": 2006,\n        \"max\": 2017,\n        \"num_unique_values\": 12,\n        \"samples\": [\n          2007,\n          2013,\n          2015\n        ],\n        \"semantic_type\": \"\",\n        \"description\": \"\"\n      }\n    },\n    {\n      \"column\": \"Cocoa Percent\",\n      \"properties\": {\n        \"dtype\": \"number\",\n        \"std\": 6.14740336206477,\n        \"min\": 42.0,\n        \"max\": 100.0,\n        \"num_unique_values\": 38,\n        \"samples\": [\n          91.0,\n          79.0,\n          82.0\n        ],\n        \"semantic_type\": \"\",\n        \"description\": \"\"\n      }\n    },\n    {\n      \"column\": \"Bean Type\",\n      \"properties\": {\n        \"dtype\": \"category\",\n        \"num_unique_values\": 20,\n        \"samples\": [\n          \"Trinitario\",\n          \"Nacional\",\n          \"Trinitario (Scavina)\"\n        ],\n        \"semantic_type\": \"\",\n        \"description\": \"\"\n      }\n    },\n    {\n      \"column\": \"Broad Bean Origin\",\n      \"properties\": {\n        \"dtype\": \"category\",\n        \"num_unique_values\": 59,\n        \"samples\": [\n          \"Trinidad\",\n          \"Colombia\",\n          \"Australia\"\n        ],\n        \"semantic_type\": \"\",\n        \"description\": \"\"\n      }\n    },\n    {\n      \"column\": \"Bean Type_freq\",\n      \"properties\": {\n        \"dtype\": \"number\",\n        \"std\": 98,\n        \"min\": 1,\n        \"max\": 259,\n        \"num_unique_values\": 12,\n        \"samples\": [\n          5,\n          1,\n          134\n        ],\n        \"semantic_type\": \"\",\n        \"description\": \"\"\n      }\n    },\n    {\n      \"column\": \"Bean_Type_Rarity\",\n      \"properties\": {\n        \"dtype\": \"category\",\n        \"num_unique_values\": 2,\n        \"samples\": [\n          \"medium\",\n          \"rare\"\n        ],\n        \"semantic_type\": \"\",\n        \"description\": \"\"\n      }\n    }\n  ]\n}"
            }
          },
          "metadata": {},
          "execution_count": 291
        }
      ]
    },
    {
      "cell_type": "markdown",
      "source": [
        "Ячейка ниже на слуйчай, если порядок столбцов в тренировочных данных отличается от порядка столбцов в тестовых."
      ],
      "metadata": {
        "id": "RzjgfwWsUyw8"
      }
    },
    {
      "cell_type": "code",
      "source": [
        "# test_df = test_df[X_train.columns]"
      ],
      "metadata": {
        "id": "fykCbGUcMCrI"
      },
      "execution_count": null,
      "outputs": []
    },
    {
      "cell_type": "markdown",
      "source": [
        "Делаем предсказание"
      ],
      "metadata": {
        "id": "UkF9PQDnMxR3"
      }
    },
    {
      "cell_type": "code",
      "source": [
        "pred_cat = base_estimator.predict(test_df)"
      ],
      "metadata": {
        "id": "B5FVzK3KrYDM"
      },
      "execution_count": null,
      "outputs": []
    },
    {
      "cell_type": "markdown",
      "source": [
        "Сохраняем предсказание в файл в нужном формате"
      ],
      "metadata": {
        "id": "ZLqUnP6IyZ7e"
      }
    },
    {
      "cell_type": "code",
      "source": [
        "test_df['id'] = np.arange(len(test_df))\n",
        "test_df['Rating'] = pred_cat\n",
        "\n",
        "test_df[['id','Rating']].to_csv(\"submis_CB_219.csv\", index=False)"
      ],
      "metadata": {
        "id": "2VSWIf46ycv7"
      },
      "execution_count": null,
      "outputs": []
    },
    {
      "cell_type": "markdown",
      "source": [
        "Вывод:\n",
        "\n",
        "Модель `CatBoostRegressor` со встроенной кодировкой категориальных признаков оказалась намного лучше, чем другие модели.\n",
        "\n",
        "Подбор гиперпараметров с помощью `Optuna` показал лучший результат `r2-score` = `0.186` по сравнению с параметрами по умолчанию (`0.166`). Однако результат на тестовых данных оказался хуже.\n",
        "\n",
        "Ручной подбор гиперпараметров на основе предсказания на тестовых данных оказался эффективнее, и удалось добиться значения `r2` = `0.19748`. Ниже показана модель с подобранными гиперпараметрами.\n",
        "\n"
      ],
      "metadata": {
        "id": "AmQ_SEFKVCi1"
      }
    },
    {
      "cell_type": "code",
      "source": [
        "cat_cols_new = [col for col in X_train.columns if X_train[col].dtype == 'object']\n",
        "\n",
        "best_cat = CatBoostRegressor(n_estimators=1400,\n",
        "                                   max_depth=5,\n",
        "                                   learning_rate=0.011,\n",
        "                                   l2_leaf_reg=5,\n",
        "                                   cat_features=cat_cols_new,\n",
        "                                   verbose=False, random_state=RANDOM_STATE)\n",
        "\n",
        "best_cat.fit(X_train, y_train)"
      ],
      "metadata": {
        "id": "RwaBUtymrEMK",
        "colab": {
          "base_uri": "https://localhost:8080/"
        },
        "outputId": "3fe36d32-49f6-4b2b-d39c-b2885383bd63"
      },
      "execution_count": null,
      "outputs": [
        {
          "output_type": "execute_result",
          "data": {
            "text/plain": [
              "<catboost.core.CatBoostRegressor at 0x7b39e6507df0>"
            ]
          },
          "metadata": {},
          "execution_count": 293
        }
      ]
    },
    {
      "cell_type": "markdown",
      "source": [
        "Средняя оценка по кросс-валидации"
      ],
      "metadata": {
        "id": "ctK-Bl9JYXpl"
      }
    },
    {
      "cell_type": "code",
      "source": [
        "cross_val_score(best_cat, X_train, y_train, cv=5, scoring='r2').mean()"
      ],
      "metadata": {
        "colab": {
          "base_uri": "https://localhost:8080/"
        },
        "id": "m2nN0L_TLOjn",
        "outputId": "b3affd2f-145f-4eed-ab3d-a973724d9a3f"
      },
      "execution_count": null,
      "outputs": [
        {
          "output_type": "execute_result",
          "data": {
            "text/plain": [
              "0.1802229855740127"
            ]
          },
          "metadata": {},
          "execution_count": 77
        }
      ]
    },
    {
      "cell_type": "code",
      "source": [
        "X_train_new, X_val, y_train_new, y_val = train_test_split(X_train, y_train, test_size=0.2, random_state=RANDOM_STATE)"
      ],
      "metadata": {
        "id": "C3DKXX41UrzL"
      },
      "execution_count": null,
      "outputs": []
    },
    {
      "cell_type": "markdown",
      "source": [
        "Оценка для одного фолда"
      ],
      "metadata": {
        "id": "5ysu2_v8YbjN"
      }
    },
    {
      "cell_type": "code",
      "source": [
        "best_cat.fit(X_train_new, y_train_new)\n",
        "pred_cat_2 = best_cat.predict(X_val)\n",
        "r2_score(y_val, pred_cat_2)"
      ],
      "metadata": {
        "colab": {
          "base_uri": "https://localhost:8080/"
        },
        "id": "fpv9Il_UUtvT",
        "outputId": "fbdee771-d5a8-46cf-f928-9aa25bdf5e4d"
      },
      "execution_count": null,
      "outputs": [
        {
          "output_type": "execute_result",
          "data": {
            "text/plain": [
              "0.22502932600803838"
            ]
          },
          "metadata": {},
          "execution_count": 148
        }
      ]
    },
    {
      "cell_type": "markdown",
      "source": [
        "Ниже предсказание на случай смешивания с другими прогнозами."
      ],
      "metadata": {
        "id": "nsFF1dedYgUV"
      }
    },
    {
      "cell_type": "code",
      "source": [
        "pred_cat_old_feat = best_cat.predict(test_df)"
      ],
      "metadata": {
        "id": "kSn3EMTp1T0y"
      },
      "execution_count": null,
      "outputs": []
    },
    {
      "cell_type": "markdown",
      "source": [
        "Дополнительно можно сериализовать лучшую модель и сохранить в файл."
      ],
      "metadata": {
        "id": "-zQPK3-oFuaZ"
      }
    },
    {
      "cell_type": "code",
      "source": [
        "import pickle\n",
        "\n",
        "with open('Chocolate_CatBoost.pickle', 'wb') as f:\n",
        "    pickle.dump(best_estimator, f)"
      ],
      "metadata": {
        "id": "wG_SCqV9FvfY"
      },
      "execution_count": null,
      "outputs": []
    },
    {
      "cell_type": "markdown",
      "source": [
        "ВЫВОДЫ по всей работе.\n",
        "\n",
        "1. В ходе работы над датасетом было замечено, что предсказание на тестовых данных не коррелирует с предсказанием на тренировочных данных. Граничные значения процентного содержания какао и рейтинга не однозначно являются выбросами, что приводило к необходимости рассматривать конкретные случаи. Выбросы были приняты исходя из прогноза на тренировочной и тестовой данных.\n",
        "\n",
        "2. Из общих соображений для улучшения результатов прогноза необходимо избавляться от сильной корреляции признаков и признаков, имеющих наименьшую важность для модели, однако работа над данным датасетом показала, что это не совсем так, и необходимо рассматривать каждый случай отдельно.\n",
        "\n",
        "3. Подбор гиперпараметров с помощью `Optuna` показал лучший прогноз на тренировочных данных, однако худший по сравнению с гиперпараметрами пол умолчанию для модели `CatBoostRegressor`. Это говорит о переобучении модели, хотя, например, максимальная глубина деревьев по результатам `Optuna` оказалась мнеьше, чем в базовой модели."
      ],
      "metadata": {
        "id": "TDTsXdDZdhZ3"
      }
    },
    {
      "cell_type": "markdown",
      "source": [
        "## Шаги для увеличения метрики на Kaggle"
      ],
      "metadata": {
        "id": "Ll9cul5EVAd4"
      }
    },
    {
      "cell_type": "markdown",
      "source": [
        "Для улучшения прогноза можно использовать `Stacking` (и `Blending`), а также смешивать разные прогнозы."
      ],
      "metadata": {
        "id": "v1VAobD5VInJ"
      }
    },
    {
      "cell_type": "markdown",
      "source": [
        "Рассмотрим `Stacking` двух лучших моделей `CatBoostRegressor`: с параметрами по умолчанию и подобранными вручную."
      ],
      "metadata": {
        "id": "CN2P3yKenM8X"
      }
    },
    {
      "cell_type": "markdown",
      "source": [
        "В качестве мета-алгоритма используем случайный лес и линейную регрессию."
      ],
      "metadata": {
        "id": "I0IMfTcTndPy"
      }
    },
    {
      "cell_type": "code",
      "source": [
        "from sklearn.ensemble import StackingRegressor\n",
        "\n",
        "estimators = [\n",
        "    ('cat_best', CatBoostRegressor(n_estimators=1400,\n",
        "                                    max_depth=5,\n",
        "                                    learning_rate=0.011,\n",
        "                                    l2_leaf_reg=5,\n",
        "                                    cat_features=cat_cols_new,\n",
        "                                    verbose=False,\n",
        "                                    random_state=RANDOM_STATE)),\n",
        "    ('cat_base', CatBoostRegressor(cat_features=cat_cols_new,\n",
        "                                    verbose=False,\n",
        "                                    random_state=RANDOM_STATE))\n",
        "    ]\n",
        "\n",
        "reg = StackingRegressor(\n",
        "    estimators=estimators,\n",
        "    final_estimator=RandomForestRegressor(n_estimators=25,\n",
        "                                          max_depth=2,\n",
        "                                          random_state=RANDOM_STATE))\n",
        "\n",
        "reg_lin = StackingRegressor(\n",
        "    estimators=estimators,\n",
        "    final_estimator=LinearRegression())"
      ],
      "metadata": {
        "id": "EEoy1UnzLwCM"
      },
      "execution_count": null,
      "outputs": []
    },
    {
      "cell_type": "markdown",
      "source": [
        "Разобьём тренировочные данные на две части: на одной будем обучать алгоритм, на второй делать предсказание."
      ],
      "metadata": {
        "id": "PpBwgtvSVmnY"
      }
    },
    {
      "cell_type": "code",
      "source": [
        "X_train_new, X_val, y_train_new, y_val = train_test_split(X_train, y_train, test_size=0.2, random_state=RANDOM_STATE)"
      ],
      "metadata": {
        "id": "0jwt1cuSQdZu"
      },
      "execution_count": null,
      "outputs": []
    },
    {
      "cell_type": "code",
      "source": [
        "reg_lin.fit(X_train_new, y_train_new)\n",
        "pred_lin = reg_lin.predict(X_val)\n",
        "r2_score(y_val, pred_lin)"
      ],
      "metadata": {
        "colab": {
          "base_uri": "https://localhost:8080/"
        },
        "id": "2GFL7g9ksa7k",
        "outputId": "188ce387-1531-4f72-8cf8-fd6c14ac394a"
      },
      "execution_count": null,
      "outputs": [
        {
          "output_type": "execute_result",
          "data": {
            "text/plain": [
              "0.2151217677732432"
            ]
          },
          "metadata": {},
          "execution_count": 141
        }
      ]
    },
    {
      "cell_type": "markdown",
      "source": [
        "Stacking со случайным лесом показал наилучший прогноз `0.206` на тренировочной выборке при `n_estimators=25` и `max_depth=2`. `LinearRegression` в качестве мета-алгоритма показал наилучший результат на тренировочной выборке - `0.215`."
      ],
      "metadata": {
        "id": "1MbPc4cIXxRv"
      }
    },
    {
      "cell_type": "markdown",
      "source": [
        "Сделаем предсказание на тестовой выборке."
      ],
      "metadata": {
        "id": "7pMxGbIOWSZQ"
      }
    },
    {
      "cell_type": "code",
      "source": [
        "test_df = pd.read_csv(TEST)"
      ],
      "metadata": {
        "id": "RU928nciI4Dk"
      },
      "execution_count": null,
      "outputs": []
    },
    {
      "cell_type": "code",
      "source": [
        "test_df['Cocoa Percent'] = test_df['Cocoa Percent'].map(lambda x: float(x[:-1]))\n",
        "test_df.drop(['Company Location'], axis=1, inplace=True)\n",
        "test_df['Broad Bean Origin'] = test_df['Broad Bean Origin'].replace('\\xa0', train_df['Broad Bean Origin'].mode()[0])\n",
        "test_df['Bean Type_freq'] = test_df.groupby('Bean Type')['Bean Type'].transform('count')\n",
        "test_df['Bean_Type_Rarity'] = test_df['Bean Type_freq'].apply(rarity)"
      ],
      "metadata": {
        "id": "AfSdB-KXI_Xe"
      },
      "execution_count": null,
      "outputs": []
    },
    {
      "cell_type": "code",
      "source": [
        "X_train.head()"
      ],
      "metadata": {
        "colab": {
          "base_uri": "https://localhost:8080/",
          "height": 206
        },
        "id": "eoBqaRx4JBnP",
        "outputId": "f0b17f16-29e3-42ca-dafc-86561d99e528"
      },
      "execution_count": null,
      "outputs": [
        {
          "output_type": "execute_result",
          "data": {
            "text/plain": [
              "                        Company                Specific Bean Origin   REF  \\\n",
              "0                Willie's Cacao                          Rio Caribe   457   \n",
              "1            Beschle (Felchlin)  Ocumare, Premier Cru, Quizas No. 2   508   \n",
              "2                   Dark Forest                            Tanzania  1554   \n",
              "3  Brasstown aka It's Chocolate                          Cooproagro  1125   \n",
              "4                        Pralus                     Java, Indonesie    32   \n",
              "\n",
              "   Review  Cocoa Percent   Bean Type   Broad Bean Origin  Bean Type_freq  \\\n",
              "0    2009           72.0  Trinitario           Venezuela             284   \n",
              "1    2010           72.0                       Venezuela             617   \n",
              "2    2015           70.0                        Tanzania             617   \n",
              "3    2013           72.0  Trinitario  Dominican Republic             284   \n",
              "4    2006           75.0     Criollo           Indonesia             103   \n",
              "\n",
              "  Bean_Type_Rarity  \n",
              "0           medium  \n",
              "1           famous  \n",
              "2           famous  \n",
              "3           medium  \n",
              "4             rare  "
            ],
            "text/html": [
              "\n",
              "  <div id=\"df-db2896d9-e29c-4955-9cb7-2a6ca94d86cf\" class=\"colab-df-container\">\n",
              "    <div>\n",
              "<style scoped>\n",
              "    .dataframe tbody tr th:only-of-type {\n",
              "        vertical-align: middle;\n",
              "    }\n",
              "\n",
              "    .dataframe tbody tr th {\n",
              "        vertical-align: top;\n",
              "    }\n",
              "\n",
              "    .dataframe thead th {\n",
              "        text-align: right;\n",
              "    }\n",
              "</style>\n",
              "<table border=\"1\" class=\"dataframe\">\n",
              "  <thead>\n",
              "    <tr style=\"text-align: right;\">\n",
              "      <th></th>\n",
              "      <th>Company</th>\n",
              "      <th>Specific Bean Origin</th>\n",
              "      <th>REF</th>\n",
              "      <th>Review</th>\n",
              "      <th>Cocoa Percent</th>\n",
              "      <th>Bean Type</th>\n",
              "      <th>Broad Bean Origin</th>\n",
              "      <th>Bean Type_freq</th>\n",
              "      <th>Bean_Type_Rarity</th>\n",
              "    </tr>\n",
              "  </thead>\n",
              "  <tbody>\n",
              "    <tr>\n",
              "      <th>0</th>\n",
              "      <td>Willie's Cacao</td>\n",
              "      <td>Rio Caribe</td>\n",
              "      <td>457</td>\n",
              "      <td>2009</td>\n",
              "      <td>72.0</td>\n",
              "      <td>Trinitario</td>\n",
              "      <td>Venezuela</td>\n",
              "      <td>284</td>\n",
              "      <td>medium</td>\n",
              "    </tr>\n",
              "    <tr>\n",
              "      <th>1</th>\n",
              "      <td>Beschle (Felchlin)</td>\n",
              "      <td>Ocumare, Premier Cru, Quizas No. 2</td>\n",
              "      <td>508</td>\n",
              "      <td>2010</td>\n",
              "      <td>72.0</td>\n",
              "      <td></td>\n",
              "      <td>Venezuela</td>\n",
              "      <td>617</td>\n",
              "      <td>famous</td>\n",
              "    </tr>\n",
              "    <tr>\n",
              "      <th>2</th>\n",
              "      <td>Dark Forest</td>\n",
              "      <td>Tanzania</td>\n",
              "      <td>1554</td>\n",
              "      <td>2015</td>\n",
              "      <td>70.0</td>\n",
              "      <td></td>\n",
              "      <td>Tanzania</td>\n",
              "      <td>617</td>\n",
              "      <td>famous</td>\n",
              "    </tr>\n",
              "    <tr>\n",
              "      <th>3</th>\n",
              "      <td>Brasstown aka It's Chocolate</td>\n",
              "      <td>Cooproagro</td>\n",
              "      <td>1125</td>\n",
              "      <td>2013</td>\n",
              "      <td>72.0</td>\n",
              "      <td>Trinitario</td>\n",
              "      <td>Dominican Republic</td>\n",
              "      <td>284</td>\n",
              "      <td>medium</td>\n",
              "    </tr>\n",
              "    <tr>\n",
              "      <th>4</th>\n",
              "      <td>Pralus</td>\n",
              "      <td>Java, Indonesie</td>\n",
              "      <td>32</td>\n",
              "      <td>2006</td>\n",
              "      <td>75.0</td>\n",
              "      <td>Criollo</td>\n",
              "      <td>Indonesia</td>\n",
              "      <td>103</td>\n",
              "      <td>rare</td>\n",
              "    </tr>\n",
              "  </tbody>\n",
              "</table>\n",
              "</div>\n",
              "    <div class=\"colab-df-buttons\">\n",
              "\n",
              "  <div class=\"colab-df-container\">\n",
              "    <button class=\"colab-df-convert\" onclick=\"convertToInteractive('df-db2896d9-e29c-4955-9cb7-2a6ca94d86cf')\"\n",
              "            title=\"Convert this dataframe to an interactive table.\"\n",
              "            style=\"display:none;\">\n",
              "\n",
              "  <svg xmlns=\"http://www.w3.org/2000/svg\" height=\"24px\" viewBox=\"0 -960 960 960\">\n",
              "    <path d=\"M120-120v-720h720v720H120Zm60-500h600v-160H180v160Zm220 220h160v-160H400v160Zm0 220h160v-160H400v160ZM180-400h160v-160H180v160Zm440 0h160v-160H620v160ZM180-180h160v-160H180v160Zm440 0h160v-160H620v160Z\"/>\n",
              "  </svg>\n",
              "    </button>\n",
              "\n",
              "  <style>\n",
              "    .colab-df-container {\n",
              "      display:flex;\n",
              "      gap: 12px;\n",
              "    }\n",
              "\n",
              "    .colab-df-convert {\n",
              "      background-color: #E8F0FE;\n",
              "      border: none;\n",
              "      border-radius: 50%;\n",
              "      cursor: pointer;\n",
              "      display: none;\n",
              "      fill: #1967D2;\n",
              "      height: 32px;\n",
              "      padding: 0 0 0 0;\n",
              "      width: 32px;\n",
              "    }\n",
              "\n",
              "    .colab-df-convert:hover {\n",
              "      background-color: #E2EBFA;\n",
              "      box-shadow: 0px 1px 2px rgba(60, 64, 67, 0.3), 0px 1px 3px 1px rgba(60, 64, 67, 0.15);\n",
              "      fill: #174EA6;\n",
              "    }\n",
              "\n",
              "    .colab-df-buttons div {\n",
              "      margin-bottom: 4px;\n",
              "    }\n",
              "\n",
              "    [theme=dark] .colab-df-convert {\n",
              "      background-color: #3B4455;\n",
              "      fill: #D2E3FC;\n",
              "    }\n",
              "\n",
              "    [theme=dark] .colab-df-convert:hover {\n",
              "      background-color: #434B5C;\n",
              "      box-shadow: 0px 1px 3px 1px rgba(0, 0, 0, 0.15);\n",
              "      filter: drop-shadow(0px 1px 2px rgba(0, 0, 0, 0.3));\n",
              "      fill: #FFFFFF;\n",
              "    }\n",
              "  </style>\n",
              "\n",
              "    <script>\n",
              "      const buttonEl =\n",
              "        document.querySelector('#df-db2896d9-e29c-4955-9cb7-2a6ca94d86cf button.colab-df-convert');\n",
              "      buttonEl.style.display =\n",
              "        google.colab.kernel.accessAllowed ? 'block' : 'none';\n",
              "\n",
              "      async function convertToInteractive(key) {\n",
              "        const element = document.querySelector('#df-db2896d9-e29c-4955-9cb7-2a6ca94d86cf');\n",
              "        const dataTable =\n",
              "          await google.colab.kernel.invokeFunction('convertToInteractive',\n",
              "                                                    [key], {});\n",
              "        if (!dataTable) return;\n",
              "\n",
              "        const docLinkHtml = 'Like what you see? Visit the ' +\n",
              "          '<a target=\"_blank\" href=https://colab.research.google.com/notebooks/data_table.ipynb>data table notebook</a>'\n",
              "          + ' to learn more about interactive tables.';\n",
              "        element.innerHTML = '';\n",
              "        dataTable['output_type'] = 'display_data';\n",
              "        await google.colab.output.renderOutput(dataTable, element);\n",
              "        const docLink = document.createElement('div');\n",
              "        docLink.innerHTML = docLinkHtml;\n",
              "        element.appendChild(docLink);\n",
              "      }\n",
              "    </script>\n",
              "  </div>\n",
              "\n",
              "\n",
              "<div id=\"df-ad776c87-1773-4a94-a8aa-f21a010f1365\">\n",
              "  <button class=\"colab-df-quickchart\" onclick=\"quickchart('df-ad776c87-1773-4a94-a8aa-f21a010f1365')\"\n",
              "            title=\"Suggest charts\"\n",
              "            style=\"display:none;\">\n",
              "\n",
              "<svg xmlns=\"http://www.w3.org/2000/svg\" height=\"24px\"viewBox=\"0 0 24 24\"\n",
              "     width=\"24px\">\n",
              "    <g>\n",
              "        <path d=\"M19 3H5c-1.1 0-2 .9-2 2v14c0 1.1.9 2 2 2h14c1.1 0 2-.9 2-2V5c0-1.1-.9-2-2-2zM9 17H7v-7h2v7zm4 0h-2V7h2v10zm4 0h-2v-4h2v4z\"/>\n",
              "    </g>\n",
              "</svg>\n",
              "  </button>\n",
              "\n",
              "<style>\n",
              "  .colab-df-quickchart {\n",
              "      --bg-color: #E8F0FE;\n",
              "      --fill-color: #1967D2;\n",
              "      --hover-bg-color: #E2EBFA;\n",
              "      --hover-fill-color: #174EA6;\n",
              "      --disabled-fill-color: #AAA;\n",
              "      --disabled-bg-color: #DDD;\n",
              "  }\n",
              "\n",
              "  [theme=dark] .colab-df-quickchart {\n",
              "      --bg-color: #3B4455;\n",
              "      --fill-color: #D2E3FC;\n",
              "      --hover-bg-color: #434B5C;\n",
              "      --hover-fill-color: #FFFFFF;\n",
              "      --disabled-bg-color: #3B4455;\n",
              "      --disabled-fill-color: #666;\n",
              "  }\n",
              "\n",
              "  .colab-df-quickchart {\n",
              "    background-color: var(--bg-color);\n",
              "    border: none;\n",
              "    border-radius: 50%;\n",
              "    cursor: pointer;\n",
              "    display: none;\n",
              "    fill: var(--fill-color);\n",
              "    height: 32px;\n",
              "    padding: 0;\n",
              "    width: 32px;\n",
              "  }\n",
              "\n",
              "  .colab-df-quickchart:hover {\n",
              "    background-color: var(--hover-bg-color);\n",
              "    box-shadow: 0 1px 2px rgba(60, 64, 67, 0.3), 0 1px 3px 1px rgba(60, 64, 67, 0.15);\n",
              "    fill: var(--button-hover-fill-color);\n",
              "  }\n",
              "\n",
              "  .colab-df-quickchart-complete:disabled,\n",
              "  .colab-df-quickchart-complete:disabled:hover {\n",
              "    background-color: var(--disabled-bg-color);\n",
              "    fill: var(--disabled-fill-color);\n",
              "    box-shadow: none;\n",
              "  }\n",
              "\n",
              "  .colab-df-spinner {\n",
              "    border: 2px solid var(--fill-color);\n",
              "    border-color: transparent;\n",
              "    border-bottom-color: var(--fill-color);\n",
              "    animation:\n",
              "      spin 1s steps(1) infinite;\n",
              "  }\n",
              "\n",
              "  @keyframes spin {\n",
              "    0% {\n",
              "      border-color: transparent;\n",
              "      border-bottom-color: var(--fill-color);\n",
              "      border-left-color: var(--fill-color);\n",
              "    }\n",
              "    20% {\n",
              "      border-color: transparent;\n",
              "      border-left-color: var(--fill-color);\n",
              "      border-top-color: var(--fill-color);\n",
              "    }\n",
              "    30% {\n",
              "      border-color: transparent;\n",
              "      border-left-color: var(--fill-color);\n",
              "      border-top-color: var(--fill-color);\n",
              "      border-right-color: var(--fill-color);\n",
              "    }\n",
              "    40% {\n",
              "      border-color: transparent;\n",
              "      border-right-color: var(--fill-color);\n",
              "      border-top-color: var(--fill-color);\n",
              "    }\n",
              "    60% {\n",
              "      border-color: transparent;\n",
              "      border-right-color: var(--fill-color);\n",
              "    }\n",
              "    80% {\n",
              "      border-color: transparent;\n",
              "      border-right-color: var(--fill-color);\n",
              "      border-bottom-color: var(--fill-color);\n",
              "    }\n",
              "    90% {\n",
              "      border-color: transparent;\n",
              "      border-bottom-color: var(--fill-color);\n",
              "    }\n",
              "  }\n",
              "</style>\n",
              "\n",
              "  <script>\n",
              "    async function quickchart(key) {\n",
              "      const quickchartButtonEl =\n",
              "        document.querySelector('#' + key + ' button');\n",
              "      quickchartButtonEl.disabled = true;  // To prevent multiple clicks.\n",
              "      quickchartButtonEl.classList.add('colab-df-spinner');\n",
              "      try {\n",
              "        const charts = await google.colab.kernel.invokeFunction(\n",
              "            'suggestCharts', [key], {});\n",
              "      } catch (error) {\n",
              "        console.error('Error during call to suggestCharts:', error);\n",
              "      }\n",
              "      quickchartButtonEl.classList.remove('colab-df-spinner');\n",
              "      quickchartButtonEl.classList.add('colab-df-quickchart-complete');\n",
              "    }\n",
              "    (() => {\n",
              "      let quickchartButtonEl =\n",
              "        document.querySelector('#df-ad776c87-1773-4a94-a8aa-f21a010f1365 button');\n",
              "      quickchartButtonEl.style.display =\n",
              "        google.colab.kernel.accessAllowed ? 'block' : 'none';\n",
              "    })();\n",
              "  </script>\n",
              "</div>\n",
              "    </div>\n",
              "  </div>\n"
            ],
            "application/vnd.google.colaboratory.intrinsic+json": {
              "type": "dataframe",
              "variable_name": "X_train",
              "summary": "{\n  \"name\": \"X_train\",\n  \"rows\": 1236,\n  \"fields\": [\n    {\n      \"column\": \"Company\",\n      \"properties\": {\n        \"dtype\": \"category\",\n        \"num_unique_values\": 375,\n        \"samples\": [\n          \"Castronovo\",\n          \"DeVries\",\n          \"Cacao Hunters\"\n        ],\n        \"semantic_type\": \"\",\n        \"description\": \"\"\n      }\n    },\n    {\n      \"column\": \"Specific Bean Origin\",\n      \"properties\": {\n        \"dtype\": \"string\",\n        \"num_unique_values\": 751,\n        \"samples\": [\n          \"Dominican Republic w/ nibs\",\n          \"Java, Grand Cru\",\n          \"Manabi\"\n        ],\n        \"semantic_type\": \"\",\n        \"description\": \"\"\n      }\n    },\n    {\n      \"column\": \"REF\",\n      \"properties\": {\n        \"dtype\": \"number\",\n        \"std\": 550,\n        \"min\": 5,\n        \"max\": 1952,\n        \"num_unique_values\": 432,\n        \"samples\": [\n          1383,\n          1478,\n          56\n        ],\n        \"semantic_type\": \"\",\n        \"description\": \"\"\n      }\n    },\n    {\n      \"column\": \"Review\",\n      \"properties\": {\n        \"dtype\": \"number\",\n        \"std\": 2,\n        \"min\": 2006,\n        \"max\": 2017,\n        \"num_unique_values\": 12,\n        \"samples\": [\n          2007,\n          2012,\n          2009\n        ],\n        \"semantic_type\": \"\",\n        \"description\": \"\"\n      }\n    },\n    {\n      \"column\": \"Cocoa Percent\",\n      \"properties\": {\n        \"dtype\": \"number\",\n        \"std\": 5.640460996833798,\n        \"min\": 46.0,\n        \"max\": 91.0,\n        \"num_unique_values\": 38,\n        \"samples\": [\n          73.5,\n          50.0,\n          77.0\n        ],\n        \"semantic_type\": \"\",\n        \"description\": \"\"\n      }\n    },\n    {\n      \"column\": \"Bean Type\",\n      \"properties\": {\n        \"dtype\": \"category\",\n        \"num_unique_values\": 38,\n        \"samples\": [\n          \"Blend-Forastero,Criollo\",\n          \"Trinitario, Nacional\",\n          \"Forastero (Arriba)\"\n        ],\n        \"semantic_type\": \"\",\n        \"description\": \"\"\n      }\n    },\n    {\n      \"column\": \"Broad Bean Origin\",\n      \"properties\": {\n        \"dtype\": \"category\",\n        \"num_unique_values\": 82,\n        \"samples\": [\n          \"Vanuatu\",\n          \"Venezuela\",\n          \"Jamaica\"\n        ],\n        \"semantic_type\": \"\",\n        \"description\": \"\"\n      }\n    },\n    {\n      \"column\": \"Bean Type_freq\",\n      \"properties\": {\n        \"dtype\": \"number\",\n        \"std\": 244,\n        \"min\": 1,\n        \"max\": 617,\n        \"num_unique_values\": 14,\n        \"samples\": [\n          33,\n          28,\n          284\n        ],\n        \"semantic_type\": \"\",\n        \"description\": \"\"\n      }\n    },\n    {\n      \"column\": \"Bean_Type_Rarity\",\n      \"properties\": {\n        \"dtype\": \"category\",\n        \"num_unique_values\": 3,\n        \"samples\": [\n          \"medium\",\n          \"famous\",\n          \"rare\"\n        ],\n        \"semantic_type\": \"\",\n        \"description\": \"\"\n      }\n    }\n  ]\n}"
            }
          },
          "metadata": {},
          "execution_count": 59
        }
      ]
    },
    {
      "cell_type": "code",
      "source": [
        "test_df.head()"
      ],
      "metadata": {
        "colab": {
          "base_uri": "https://localhost:8080/",
          "height": 206
        },
        "id": "HkGOnaWcJEzx",
        "outputId": "da5de57d-44b4-412e-c3de-6ebcd753ff61"
      },
      "execution_count": null,
      "outputs": [
        {
          "output_type": "execute_result",
          "data": {
            "text/plain": [
              "    Company         Specific Bean Origin   REF  Review  Cocoa Percent  \\\n",
              "0     Ohiyo  San Juan Estate, Gran Couva  1594    2015           70.0   \n",
              "1  Blanxart                 Organic Dark   322    2009           72.0   \n",
              "2    Brazen                Maya Mountain  1518    2015           80.0   \n",
              "3    Patric                   Madagascar   439    2009           67.0   \n",
              "4   Potomac              Upala, Batch 12   607    2010           82.0   \n",
              "\n",
              "    Bean Type Broad Bean Origin  Bean Type_freq Bean_Type_Rarity  \n",
              "0  Trinitario          Trinidad             134             rare  \n",
              "1                     Venezuela             259           medium  \n",
              "2  Trinitario            Belize             134             rare  \n",
              "3  Trinitario        Madagascar             134             rare  \n",
              "4      Matina        Costa Rica               2             rare  "
            ],
            "text/html": [
              "\n",
              "  <div id=\"df-a3521119-fa3e-4616-834d-ce6c2a24406f\" class=\"colab-df-container\">\n",
              "    <div>\n",
              "<style scoped>\n",
              "    .dataframe tbody tr th:only-of-type {\n",
              "        vertical-align: middle;\n",
              "    }\n",
              "\n",
              "    .dataframe tbody tr th {\n",
              "        vertical-align: top;\n",
              "    }\n",
              "\n",
              "    .dataframe thead th {\n",
              "        text-align: right;\n",
              "    }\n",
              "</style>\n",
              "<table border=\"1\" class=\"dataframe\">\n",
              "  <thead>\n",
              "    <tr style=\"text-align: right;\">\n",
              "      <th></th>\n",
              "      <th>Company</th>\n",
              "      <th>Specific Bean Origin</th>\n",
              "      <th>REF</th>\n",
              "      <th>Review</th>\n",
              "      <th>Cocoa Percent</th>\n",
              "      <th>Bean Type</th>\n",
              "      <th>Broad Bean Origin</th>\n",
              "      <th>Bean Type_freq</th>\n",
              "      <th>Bean_Type_Rarity</th>\n",
              "    </tr>\n",
              "  </thead>\n",
              "  <tbody>\n",
              "    <tr>\n",
              "      <th>0</th>\n",
              "      <td>Ohiyo</td>\n",
              "      <td>San Juan Estate, Gran Couva</td>\n",
              "      <td>1594</td>\n",
              "      <td>2015</td>\n",
              "      <td>70.0</td>\n",
              "      <td>Trinitario</td>\n",
              "      <td>Trinidad</td>\n",
              "      <td>134</td>\n",
              "      <td>rare</td>\n",
              "    </tr>\n",
              "    <tr>\n",
              "      <th>1</th>\n",
              "      <td>Blanxart</td>\n",
              "      <td>Organic Dark</td>\n",
              "      <td>322</td>\n",
              "      <td>2009</td>\n",
              "      <td>72.0</td>\n",
              "      <td></td>\n",
              "      <td>Venezuela</td>\n",
              "      <td>259</td>\n",
              "      <td>medium</td>\n",
              "    </tr>\n",
              "    <tr>\n",
              "      <th>2</th>\n",
              "      <td>Brazen</td>\n",
              "      <td>Maya Mountain</td>\n",
              "      <td>1518</td>\n",
              "      <td>2015</td>\n",
              "      <td>80.0</td>\n",
              "      <td>Trinitario</td>\n",
              "      <td>Belize</td>\n",
              "      <td>134</td>\n",
              "      <td>rare</td>\n",
              "    </tr>\n",
              "    <tr>\n",
              "      <th>3</th>\n",
              "      <td>Patric</td>\n",
              "      <td>Madagascar</td>\n",
              "      <td>439</td>\n",
              "      <td>2009</td>\n",
              "      <td>67.0</td>\n",
              "      <td>Trinitario</td>\n",
              "      <td>Madagascar</td>\n",
              "      <td>134</td>\n",
              "      <td>rare</td>\n",
              "    </tr>\n",
              "    <tr>\n",
              "      <th>4</th>\n",
              "      <td>Potomac</td>\n",
              "      <td>Upala, Batch 12</td>\n",
              "      <td>607</td>\n",
              "      <td>2010</td>\n",
              "      <td>82.0</td>\n",
              "      <td>Matina</td>\n",
              "      <td>Costa Rica</td>\n",
              "      <td>2</td>\n",
              "      <td>rare</td>\n",
              "    </tr>\n",
              "  </tbody>\n",
              "</table>\n",
              "</div>\n",
              "    <div class=\"colab-df-buttons\">\n",
              "\n",
              "  <div class=\"colab-df-container\">\n",
              "    <button class=\"colab-df-convert\" onclick=\"convertToInteractive('df-a3521119-fa3e-4616-834d-ce6c2a24406f')\"\n",
              "            title=\"Convert this dataframe to an interactive table.\"\n",
              "            style=\"display:none;\">\n",
              "\n",
              "  <svg xmlns=\"http://www.w3.org/2000/svg\" height=\"24px\" viewBox=\"0 -960 960 960\">\n",
              "    <path d=\"M120-120v-720h720v720H120Zm60-500h600v-160H180v160Zm220 220h160v-160H400v160Zm0 220h160v-160H400v160ZM180-400h160v-160H180v160Zm440 0h160v-160H620v160ZM180-180h160v-160H180v160Zm440 0h160v-160H620v160Z\"/>\n",
              "  </svg>\n",
              "    </button>\n",
              "\n",
              "  <style>\n",
              "    .colab-df-container {\n",
              "      display:flex;\n",
              "      gap: 12px;\n",
              "    }\n",
              "\n",
              "    .colab-df-convert {\n",
              "      background-color: #E8F0FE;\n",
              "      border: none;\n",
              "      border-radius: 50%;\n",
              "      cursor: pointer;\n",
              "      display: none;\n",
              "      fill: #1967D2;\n",
              "      height: 32px;\n",
              "      padding: 0 0 0 0;\n",
              "      width: 32px;\n",
              "    }\n",
              "\n",
              "    .colab-df-convert:hover {\n",
              "      background-color: #E2EBFA;\n",
              "      box-shadow: 0px 1px 2px rgba(60, 64, 67, 0.3), 0px 1px 3px 1px rgba(60, 64, 67, 0.15);\n",
              "      fill: #174EA6;\n",
              "    }\n",
              "\n",
              "    .colab-df-buttons div {\n",
              "      margin-bottom: 4px;\n",
              "    }\n",
              "\n",
              "    [theme=dark] .colab-df-convert {\n",
              "      background-color: #3B4455;\n",
              "      fill: #D2E3FC;\n",
              "    }\n",
              "\n",
              "    [theme=dark] .colab-df-convert:hover {\n",
              "      background-color: #434B5C;\n",
              "      box-shadow: 0px 1px 3px 1px rgba(0, 0, 0, 0.15);\n",
              "      filter: drop-shadow(0px 1px 2px rgba(0, 0, 0, 0.3));\n",
              "      fill: #FFFFFF;\n",
              "    }\n",
              "  </style>\n",
              "\n",
              "    <script>\n",
              "      const buttonEl =\n",
              "        document.querySelector('#df-a3521119-fa3e-4616-834d-ce6c2a24406f button.colab-df-convert');\n",
              "      buttonEl.style.display =\n",
              "        google.colab.kernel.accessAllowed ? 'block' : 'none';\n",
              "\n",
              "      async function convertToInteractive(key) {\n",
              "        const element = document.querySelector('#df-a3521119-fa3e-4616-834d-ce6c2a24406f');\n",
              "        const dataTable =\n",
              "          await google.colab.kernel.invokeFunction('convertToInteractive',\n",
              "                                                    [key], {});\n",
              "        if (!dataTable) return;\n",
              "\n",
              "        const docLinkHtml = 'Like what you see? Visit the ' +\n",
              "          '<a target=\"_blank\" href=https://colab.research.google.com/notebooks/data_table.ipynb>data table notebook</a>'\n",
              "          + ' to learn more about interactive tables.';\n",
              "        element.innerHTML = '';\n",
              "        dataTable['output_type'] = 'display_data';\n",
              "        await google.colab.output.renderOutput(dataTable, element);\n",
              "        const docLink = document.createElement('div');\n",
              "        docLink.innerHTML = docLinkHtml;\n",
              "        element.appendChild(docLink);\n",
              "      }\n",
              "    </script>\n",
              "  </div>\n",
              "\n",
              "\n",
              "<div id=\"df-1c317b34-f90f-4ebf-acf6-7d26e3aab128\">\n",
              "  <button class=\"colab-df-quickchart\" onclick=\"quickchart('df-1c317b34-f90f-4ebf-acf6-7d26e3aab128')\"\n",
              "            title=\"Suggest charts\"\n",
              "            style=\"display:none;\">\n",
              "\n",
              "<svg xmlns=\"http://www.w3.org/2000/svg\" height=\"24px\"viewBox=\"0 0 24 24\"\n",
              "     width=\"24px\">\n",
              "    <g>\n",
              "        <path d=\"M19 3H5c-1.1 0-2 .9-2 2v14c0 1.1.9 2 2 2h14c1.1 0 2-.9 2-2V5c0-1.1-.9-2-2-2zM9 17H7v-7h2v7zm4 0h-2V7h2v10zm4 0h-2v-4h2v4z\"/>\n",
              "    </g>\n",
              "</svg>\n",
              "  </button>\n",
              "\n",
              "<style>\n",
              "  .colab-df-quickchart {\n",
              "      --bg-color: #E8F0FE;\n",
              "      --fill-color: #1967D2;\n",
              "      --hover-bg-color: #E2EBFA;\n",
              "      --hover-fill-color: #174EA6;\n",
              "      --disabled-fill-color: #AAA;\n",
              "      --disabled-bg-color: #DDD;\n",
              "  }\n",
              "\n",
              "  [theme=dark] .colab-df-quickchart {\n",
              "      --bg-color: #3B4455;\n",
              "      --fill-color: #D2E3FC;\n",
              "      --hover-bg-color: #434B5C;\n",
              "      --hover-fill-color: #FFFFFF;\n",
              "      --disabled-bg-color: #3B4455;\n",
              "      --disabled-fill-color: #666;\n",
              "  }\n",
              "\n",
              "  .colab-df-quickchart {\n",
              "    background-color: var(--bg-color);\n",
              "    border: none;\n",
              "    border-radius: 50%;\n",
              "    cursor: pointer;\n",
              "    display: none;\n",
              "    fill: var(--fill-color);\n",
              "    height: 32px;\n",
              "    padding: 0;\n",
              "    width: 32px;\n",
              "  }\n",
              "\n",
              "  .colab-df-quickchart:hover {\n",
              "    background-color: var(--hover-bg-color);\n",
              "    box-shadow: 0 1px 2px rgba(60, 64, 67, 0.3), 0 1px 3px 1px rgba(60, 64, 67, 0.15);\n",
              "    fill: var(--button-hover-fill-color);\n",
              "  }\n",
              "\n",
              "  .colab-df-quickchart-complete:disabled,\n",
              "  .colab-df-quickchart-complete:disabled:hover {\n",
              "    background-color: var(--disabled-bg-color);\n",
              "    fill: var(--disabled-fill-color);\n",
              "    box-shadow: none;\n",
              "  }\n",
              "\n",
              "  .colab-df-spinner {\n",
              "    border: 2px solid var(--fill-color);\n",
              "    border-color: transparent;\n",
              "    border-bottom-color: var(--fill-color);\n",
              "    animation:\n",
              "      spin 1s steps(1) infinite;\n",
              "  }\n",
              "\n",
              "  @keyframes spin {\n",
              "    0% {\n",
              "      border-color: transparent;\n",
              "      border-bottom-color: var(--fill-color);\n",
              "      border-left-color: var(--fill-color);\n",
              "    }\n",
              "    20% {\n",
              "      border-color: transparent;\n",
              "      border-left-color: var(--fill-color);\n",
              "      border-top-color: var(--fill-color);\n",
              "    }\n",
              "    30% {\n",
              "      border-color: transparent;\n",
              "      border-left-color: var(--fill-color);\n",
              "      border-top-color: var(--fill-color);\n",
              "      border-right-color: var(--fill-color);\n",
              "    }\n",
              "    40% {\n",
              "      border-color: transparent;\n",
              "      border-right-color: var(--fill-color);\n",
              "      border-top-color: var(--fill-color);\n",
              "    }\n",
              "    60% {\n",
              "      border-color: transparent;\n",
              "      border-right-color: var(--fill-color);\n",
              "    }\n",
              "    80% {\n",
              "      border-color: transparent;\n",
              "      border-right-color: var(--fill-color);\n",
              "      border-bottom-color: var(--fill-color);\n",
              "    }\n",
              "    90% {\n",
              "      border-color: transparent;\n",
              "      border-bottom-color: var(--fill-color);\n",
              "    }\n",
              "  }\n",
              "</style>\n",
              "\n",
              "  <script>\n",
              "    async function quickchart(key) {\n",
              "      const quickchartButtonEl =\n",
              "        document.querySelector('#' + key + ' button');\n",
              "      quickchartButtonEl.disabled = true;  // To prevent multiple clicks.\n",
              "      quickchartButtonEl.classList.add('colab-df-spinner');\n",
              "      try {\n",
              "        const charts = await google.colab.kernel.invokeFunction(\n",
              "            'suggestCharts', [key], {});\n",
              "      } catch (error) {\n",
              "        console.error('Error during call to suggestCharts:', error);\n",
              "      }\n",
              "      quickchartButtonEl.classList.remove('colab-df-spinner');\n",
              "      quickchartButtonEl.classList.add('colab-df-quickchart-complete');\n",
              "    }\n",
              "    (() => {\n",
              "      let quickchartButtonEl =\n",
              "        document.querySelector('#df-1c317b34-f90f-4ebf-acf6-7d26e3aab128 button');\n",
              "      quickchartButtonEl.style.display =\n",
              "        google.colab.kernel.accessAllowed ? 'block' : 'none';\n",
              "    })();\n",
              "  </script>\n",
              "</div>\n",
              "    </div>\n",
              "  </div>\n"
            ],
            "application/vnd.google.colaboratory.intrinsic+json": {
              "type": "dataframe",
              "variable_name": "test_df",
              "summary": "{\n  \"name\": \"test_df\",\n  \"rows\": 540,\n  \"fields\": [\n    {\n      \"column\": \"Company\",\n      \"properties\": {\n        \"dtype\": \"category\",\n        \"num_unique_values\": 244,\n        \"samples\": [\n          \"Bar Au Chocolat\",\n          \"Rozsavolgyi\",\n          \"Amano\"\n        ],\n        \"semantic_type\": \"\",\n        \"description\": \"\"\n      }\n    },\n    {\n      \"column\": \"Specific Bean Origin\",\n      \"properties\": {\n        \"dtype\": \"string\",\n        \"num_unique_values\": 385,\n        \"samples\": [\n          \"Dancing in Your Head, 5 bean blend\",\n          \"Porcelana, Tabasco, Marfil de Blanco\",\n          \"Anselmo Paraiso Estate\"\n        ],\n        \"semantic_type\": \"\",\n        \"description\": \"\"\n      }\n    },\n    {\n      \"column\": \"REF\",\n      \"properties\": {\n        \"dtype\": \"number\",\n        \"std\": 556,\n        \"min\": 5,\n        \"max\": 1952,\n        \"num_unique_values\": 338,\n        \"samples\": [\n          1129,\n          1201,\n          1626\n        ],\n        \"semantic_type\": \"\",\n        \"description\": \"\"\n      }\n    },\n    {\n      \"column\": \"Review\",\n      \"properties\": {\n        \"dtype\": \"number\",\n        \"std\": 2,\n        \"min\": 2006,\n        \"max\": 2017,\n        \"num_unique_values\": 12,\n        \"samples\": [\n          2007,\n          2013,\n          2015\n        ],\n        \"semantic_type\": \"\",\n        \"description\": \"\"\n      }\n    },\n    {\n      \"column\": \"Cocoa Percent\",\n      \"properties\": {\n        \"dtype\": \"number\",\n        \"std\": 6.14740336206477,\n        \"min\": 42.0,\n        \"max\": 100.0,\n        \"num_unique_values\": 38,\n        \"samples\": [\n          91.0,\n          79.0,\n          82.0\n        ],\n        \"semantic_type\": \"\",\n        \"description\": \"\"\n      }\n    },\n    {\n      \"column\": \"Bean Type\",\n      \"properties\": {\n        \"dtype\": \"category\",\n        \"num_unique_values\": 20,\n        \"samples\": [\n          \"Trinitario\",\n          \"Nacional\",\n          \"Trinitario (Scavina)\"\n        ],\n        \"semantic_type\": \"\",\n        \"description\": \"\"\n      }\n    },\n    {\n      \"column\": \"Broad Bean Origin\",\n      \"properties\": {\n        \"dtype\": \"category\",\n        \"num_unique_values\": 59,\n        \"samples\": [\n          \"Trinidad\",\n          \"Colombia\",\n          \"Australia\"\n        ],\n        \"semantic_type\": \"\",\n        \"description\": \"\"\n      }\n    },\n    {\n      \"column\": \"Bean Type_freq\",\n      \"properties\": {\n        \"dtype\": \"number\",\n        \"std\": 98,\n        \"min\": 1,\n        \"max\": 259,\n        \"num_unique_values\": 12,\n        \"samples\": [\n          5,\n          1,\n          134\n        ],\n        \"semantic_type\": \"\",\n        \"description\": \"\"\n      }\n    },\n    {\n      \"column\": \"Bean_Type_Rarity\",\n      \"properties\": {\n        \"dtype\": \"category\",\n        \"num_unique_values\": 2,\n        \"samples\": [\n          \"medium\",\n          \"rare\"\n        ],\n        \"semantic_type\": \"\",\n        \"description\": \"\"\n      }\n    }\n  ]\n}"
            }
          },
          "metadata": {},
          "execution_count": 307
        }
      ]
    },
    {
      "cell_type": "code",
      "source": [
        "best_reg = StackingRegressor(\n",
        "    estimators=estimators,\n",
        "    final_estimator=LinearRegression())"
      ],
      "metadata": {
        "id": "FamqVjHSmjjr"
      },
      "execution_count": null,
      "outputs": []
    },
    {
      "cell_type": "code",
      "source": [
        "best_reg.fit(X_train, y_train)"
      ],
      "metadata": {
        "colab": {
          "base_uri": "https://localhost:8080/",
          "height": 161
        },
        "id": "HiXofH_eauWM",
        "outputId": "55c63405-6baf-4842-92c8-f4cd9bfd77cc"
      },
      "execution_count": null,
      "outputs": [
        {
          "output_type": "execute_result",
          "data": {
            "text/plain": [
              "StackingRegressor(estimators=[('cat_best',\n",
              "                               <catboost.core.CatBoostRegressor object at 0x7b39e8fd2980>),\n",
              "                              ('cat_base',\n",
              "                               <catboost.core.CatBoostRegressor object at 0x7b39e8fd1ba0>)],\n",
              "                  final_estimator=LinearRegression())"
            ],
            "text/html": [
              "<style>#sk-container-id-8 {color: black;background-color: white;}#sk-container-id-8 pre{padding: 0;}#sk-container-id-8 div.sk-toggleable {background-color: white;}#sk-container-id-8 label.sk-toggleable__label {cursor: pointer;display: block;width: 100%;margin-bottom: 0;padding: 0.3em;box-sizing: border-box;text-align: center;}#sk-container-id-8 label.sk-toggleable__label-arrow:before {content: \"▸\";float: left;margin-right: 0.25em;color: #696969;}#sk-container-id-8 label.sk-toggleable__label-arrow:hover:before {color: black;}#sk-container-id-8 div.sk-estimator:hover label.sk-toggleable__label-arrow:before {color: black;}#sk-container-id-8 div.sk-toggleable__content {max-height: 0;max-width: 0;overflow: hidden;text-align: left;background-color: #f0f8ff;}#sk-container-id-8 div.sk-toggleable__content pre {margin: 0.2em;color: black;border-radius: 0.25em;background-color: #f0f8ff;}#sk-container-id-8 input.sk-toggleable__control:checked~div.sk-toggleable__content {max-height: 200px;max-width: 100%;overflow: auto;}#sk-container-id-8 input.sk-toggleable__control:checked~label.sk-toggleable__label-arrow:before {content: \"▾\";}#sk-container-id-8 div.sk-estimator input.sk-toggleable__control:checked~label.sk-toggleable__label {background-color: #d4ebff;}#sk-container-id-8 div.sk-label input.sk-toggleable__control:checked~label.sk-toggleable__label {background-color: #d4ebff;}#sk-container-id-8 input.sk-hidden--visually {border: 0;clip: rect(1px 1px 1px 1px);clip: rect(1px, 1px, 1px, 1px);height: 1px;margin: -1px;overflow: hidden;padding: 0;position: absolute;width: 1px;}#sk-container-id-8 div.sk-estimator {font-family: monospace;background-color: #f0f8ff;border: 1px dotted black;border-radius: 0.25em;box-sizing: border-box;margin-bottom: 0.5em;}#sk-container-id-8 div.sk-estimator:hover {background-color: #d4ebff;}#sk-container-id-8 div.sk-parallel-item::after {content: \"\";width: 100%;border-bottom: 1px solid gray;flex-grow: 1;}#sk-container-id-8 div.sk-label:hover label.sk-toggleable__label {background-color: #d4ebff;}#sk-container-id-8 div.sk-serial::before {content: \"\";position: absolute;border-left: 1px solid gray;box-sizing: border-box;top: 0;bottom: 0;left: 50%;z-index: 0;}#sk-container-id-8 div.sk-serial {display: flex;flex-direction: column;align-items: center;background-color: white;padding-right: 0.2em;padding-left: 0.2em;position: relative;}#sk-container-id-8 div.sk-item {position: relative;z-index: 1;}#sk-container-id-8 div.sk-parallel {display: flex;align-items: stretch;justify-content: center;background-color: white;position: relative;}#sk-container-id-8 div.sk-item::before, #sk-container-id-8 div.sk-parallel-item::before {content: \"\";position: absolute;border-left: 1px solid gray;box-sizing: border-box;top: 0;bottom: 0;left: 50%;z-index: -1;}#sk-container-id-8 div.sk-parallel-item {display: flex;flex-direction: column;z-index: 1;position: relative;background-color: white;}#sk-container-id-8 div.sk-parallel-item:first-child::after {align-self: flex-end;width: 50%;}#sk-container-id-8 div.sk-parallel-item:last-child::after {align-self: flex-start;width: 50%;}#sk-container-id-8 div.sk-parallel-item:only-child::after {width: 0;}#sk-container-id-8 div.sk-dashed-wrapped {border: 1px dashed gray;margin: 0 0.4em 0.5em 0.4em;box-sizing: border-box;padding-bottom: 0.4em;background-color: white;}#sk-container-id-8 div.sk-label label {font-family: monospace;font-weight: bold;display: inline-block;line-height: 1.2em;}#sk-container-id-8 div.sk-label-container {text-align: center;}#sk-container-id-8 div.sk-container {/* jupyter's `normalize.less` sets `[hidden] { display: none; }` but bootstrap.min.css set `[hidden] { display: none !important; }` so we also need the `!important` here to be able to override the default hidden behavior on the sphinx rendered scikit-learn.org. See: https://github.com/scikit-learn/scikit-learn/issues/21755 */display: inline-block !important;position: relative;}#sk-container-id-8 div.sk-text-repr-fallback {display: none;}</style><div id=\"sk-container-id-8\" class=\"sk-top-container\"><div class=\"sk-text-repr-fallback\"><pre>StackingRegressor(estimators=[(&#x27;cat_best&#x27;,\n",
              "                               &lt;catboost.core.CatBoostRegressor object at 0x7b39e8fd2980&gt;),\n",
              "                              (&#x27;cat_base&#x27;,\n",
              "                               &lt;catboost.core.CatBoostRegressor object at 0x7b39e8fd1ba0&gt;)],\n",
              "                  final_estimator=LinearRegression())</pre><b>In a Jupyter environment, please rerun this cell to show the HTML representation or trust the notebook. <br />On GitHub, the HTML representation is unable to render, please try loading this page with nbviewer.org.</b></div><div class=\"sk-container\" hidden><div class=\"sk-item sk-dashed-wrapped\"><div class=\"sk-label-container\"><div class=\"sk-label sk-toggleable\"><input class=\"sk-toggleable__control sk-hidden--visually\" id=\"sk-estimator-id-26\" type=\"checkbox\" ><label for=\"sk-estimator-id-26\" class=\"sk-toggleable__label sk-toggleable__label-arrow\">StackingRegressor</label><div class=\"sk-toggleable__content\"><pre>StackingRegressor(estimators=[(&#x27;cat_best&#x27;,\n",
              "                               &lt;catboost.core.CatBoostRegressor object at 0x7b39e8fd2980&gt;),\n",
              "                              (&#x27;cat_base&#x27;,\n",
              "                               &lt;catboost.core.CatBoostRegressor object at 0x7b39e8fd1ba0&gt;)],\n",
              "                  final_estimator=LinearRegression())</pre></div></div></div><div class=\"sk-serial\"><div class=\"sk-item\"><div class=\"sk-parallel\"><div class=\"sk-parallel-item\"><div class=\"sk-item\"><div class=\"sk-label-container\"><div class=\"sk-label sk-toggleable\"><label>cat_best</label></div></div><div class=\"sk-serial\"><div class=\"sk-item\"><div class=\"sk-estimator sk-toggleable\"><input class=\"sk-toggleable__control sk-hidden--visually\" id=\"sk-estimator-id-27\" type=\"checkbox\" ><label for=\"sk-estimator-id-27\" class=\"sk-toggleable__label sk-toggleable__label-arrow\">CatBoostRegressor</label><div class=\"sk-toggleable__content\"><pre>&lt;catboost.core.CatBoostRegressor object at 0x7b39e8fd2980&gt;</pre></div></div></div></div></div></div><div class=\"sk-parallel-item\"><div class=\"sk-item\"><div class=\"sk-label-container\"><div class=\"sk-label sk-toggleable\"><label>cat_base</label></div></div><div class=\"sk-serial\"><div class=\"sk-item\"><div class=\"sk-estimator sk-toggleable\"><input class=\"sk-toggleable__control sk-hidden--visually\" id=\"sk-estimator-id-28\" type=\"checkbox\" ><label for=\"sk-estimator-id-28\" class=\"sk-toggleable__label sk-toggleable__label-arrow\">CatBoostRegressor</label><div class=\"sk-toggleable__content\"><pre>&lt;catboost.core.CatBoostRegressor object at 0x7b39e8fd1ba0&gt;</pre></div></div></div></div></div></div></div></div><div class=\"sk-item\"><div class=\"sk-parallel\"><div class=\"sk-parallel-item\"><div class=\"sk-item\"><div class=\"sk-label-container\"><div class=\"sk-label sk-toggleable\"><label>final_estimator</label></div></div><div class=\"sk-serial\"><div class=\"sk-item\"><div class=\"sk-estimator sk-toggleable\"><input class=\"sk-toggleable__control sk-hidden--visually\" id=\"sk-estimator-id-29\" type=\"checkbox\" ><label for=\"sk-estimator-id-29\" class=\"sk-toggleable__label sk-toggleable__label-arrow\">LinearRegression</label><div class=\"sk-toggleable__content\"><pre>LinearRegression()</pre></div></div></div></div></div></div></div></div></div></div></div></div>"
            ]
          },
          "metadata": {},
          "execution_count": 305
        }
      ]
    },
    {
      "cell_type": "code",
      "source": [
        "pred_stack = best_reg.predict(test_df)"
      ],
      "metadata": {
        "id": "lAt0BtV6PCcT"
      },
      "execution_count": null,
      "outputs": []
    },
    {
      "cell_type": "code",
      "source": [
        "temp_df = test_df.copy()\n",
        "temp_df['id'] = np.arange(len(temp_df))\n",
        "temp_df['Rating'] = pred_stack\n",
        "\n",
        "temp_df[['id','Rating']].to_csv(\"submis_CB_213.csv\", index=False)"
      ],
      "metadata": {
        "id": "xS4mSpyRPcxh"
      },
      "execution_count": null,
      "outputs": []
    },
    {
      "cell_type": "markdown",
      "source": [
        "Метрика `r2` на тестовой выборке:\n",
        "\n",
        "Случайный лес: `0.19640`\n",
        "\n",
        "Линейная регрессия: `0.20072`"
      ],
      "metadata": {
        "id": "o0H1ZlFEWdzW"
      }
    },
    {
      "cell_type": "markdown",
      "source": [
        "Попробуем обучить `CatBoostRegressor` на исходных данных и взять результат по обработанными данным и смешать прогнозы.\n",
        "\n",
        "Сделаем минимальную обработку: конвертация содержания какао с числовой тип данных и удаление пару строк с `NaN` значениями."
      ],
      "metadata": {
        "id": "6C5EMxYrsvqR"
      }
    },
    {
      "cell_type": "code",
      "source": [
        "train_df_2 = pd.read_csv(TRAIN)\n",
        "train_df_2['Cocoa Percent'] = train_df_2['Cocoa Percent'].map(lambda x: float(x[:-1]))\n",
        "train_df_2.dropna(subset=['Bean Type', 'Broad Bean Origin'], inplace=True)\n",
        "\n",
        "X_train_orig = train_df_2.drop('Rating', axis=1)\n",
        "y_train_orig = train_df_2['Rating']\n",
        "\n",
        "X_train_new_2, X_val_2, y_train_new_2, y_val_2 = train_test_split(X_train_orig,\n",
        "                                                          y_train_orig,\n",
        "                                                          test_size=0.2,\n",
        "                                                          random_state=RANDOM_STATE)\n",
        "\n",
        "cat_cols_new = [col for col in X_train_orig.columns if X_train_orig[col].dtype == 'object']"
      ],
      "metadata": {
        "id": "UTVl5TibtALu"
      },
      "execution_count": null,
      "outputs": []
    },
    {
      "cell_type": "markdown",
      "source": [
        "Возьмём модель с подобранными вручную параметрами по результатам прогноза на тестовых данных."
      ],
      "metadata": {
        "id": "wb9lW8J7QmRV"
      }
    },
    {
      "cell_type": "code",
      "source": [
        "best_cat_orig_feat = CatBoostRegressor(n_estimators=1300,\n",
        "                                   max_depth=7,\n",
        "                                   learning_rate=0.011,\n",
        "                                   l2_leaf_reg=4,\n",
        "                                   cat_features=cat_cols_new,\n",
        "                                   verbose=False, random_state=RANDOM_STATE)\n",
        "\n",
        "best_cat_orig_feat.fit(X_train_orig, y_train_orig)"
      ],
      "metadata": {
        "colab": {
          "base_uri": "https://localhost:8080/"
        },
        "id": "43cqQOFB3TGx",
        "outputId": "49d86bfa-2d38-488c-b3aa-c8182f43d67b"
      },
      "execution_count": null,
      "outputs": [
        {
          "output_type": "execute_result",
          "data": {
            "text/plain": [
              "<catboost.core.CatBoostRegressor at 0x7b39e91deb60>"
            ]
          },
          "metadata": {},
          "execution_count": 273
        }
      ]
    },
    {
      "cell_type": "markdown",
      "source": [
        "Делаем предсказание."
      ],
      "metadata": {
        "id": "VAugXd5nYCGH"
      }
    },
    {
      "cell_type": "code",
      "source": [
        "test_df = pd.read_csv(TEST)\n",
        "\n",
        "test_df['Cocoa Percent'] = test_df['Cocoa Percent'].map(lambda x: float(x[:-1]))"
      ],
      "metadata": {
        "id": "mSd5VNzl19YA"
      },
      "execution_count": null,
      "outputs": []
    },
    {
      "cell_type": "code",
      "source": [
        "pred_cat_orig_feat = best_cat_orig_feat.predict(test_df)"
      ],
      "metadata": {
        "id": "rrmuYF1X2END"
      },
      "execution_count": null,
      "outputs": []
    },
    {
      "cell_type": "markdown",
      "source": [
        "Смешиваем результат с прогнозом по обработанным данным в разных соотношениях до достижения максимума `r2` на тестовых данных."
      ],
      "metadata": {
        "id": "jDASqTmZZJKU"
      }
    },
    {
      "cell_type": "code",
      "source": [
        "pred_final = 0.2 * pred_cat_old_feat + 0.8 * pred_cat_orig_feat\n",
        "\n",
        "temp_df = test_df.copy()\n",
        "temp_df['id'] = np.arange(len(temp_df))\n",
        "temp_df['Rating'] = pred_final\n",
        "\n",
        "temp_df[['id','Rating']].to_csv(\"submis_CB_244.csv\", index=False)"
      ],
      "metadata": {
        "id": "4hJs8-I12QIZ"
      },
      "execution_count": null,
      "outputs": []
    },
    {
      "cell_type": "markdown",
      "source": [
        "При смешивании предсказания на основе обработанных данных моделью `CatBoostRegressor` с подобранными вручную параметрами и необработанных также с ручным подобором параметров в отношении `0.2 : 0.8` дало результат `r2` = `0.21817` на тестовых данных."
      ],
      "metadata": {
        "id": "6Wm8WcTtP98Z"
      }
    },
    {
      "cell_type": "markdown",
      "source": [
        "Попробуем смешать предсказание Stacking и предсказание на основе необработанных данных."
      ],
      "metadata": {
        "id": "ok2C2qYhTRs8"
      }
    },
    {
      "cell_type": "code",
      "source": [
        "pred_final = 0.2 * pred_stack + 0.8 * pred_cat_orig_feat\n",
        "\n",
        "temp_df = test_df.copy()\n",
        "temp_df['id'] = np.arange(len(temp_df))\n",
        "temp_df['Rating'] = pred_final\n",
        "\n",
        "temp_df[['id','Rating']].to_csv(\"submis_CB_248.csv\", index=False)"
      ],
      "metadata": {
        "id": "aQP_4cAkPb-a"
      },
      "execution_count": null,
      "outputs": []
    },
    {
      "cell_type": "markdown",
      "source": [
        "Наилучший результат на тестовых данных достигнут при смешивании stacking и необработанных данных в пропорциях `0.2 : 0.8`. Результат: `r2` = `0.21932`."
      ],
      "metadata": {
        "id": "RUZIfAseTcDd"
      }
    },
    {
      "cell_type": "markdown",
      "source": [
        "Таким образом благодаря использованию блэндинга двух лучших моделей `CatBoostRegressor` и смешивания результата блэндинга с прогнозом по необработанным данным дало наилучший результат.\n",
        "Итоговая оценка `r2` = `0.21932`."
      ],
      "metadata": {
        "id": "TNSlOoluce4v"
      }
    }
  ]
}